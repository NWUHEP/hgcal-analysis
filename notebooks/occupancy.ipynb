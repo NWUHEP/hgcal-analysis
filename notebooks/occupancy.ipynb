{
 "cells": [
  {
   "cell_type": "markdown",
   "metadata": {},
   "source": [
    "# HGCAL FE studies"
   ]
  },
  {
   "cell_type": "markdown",
   "metadata": {},
   "source": [
    "### imports and initial setup"
   ]
  },
  {
   "cell_type": "code",
   "execution_count": 1,
   "metadata": {
    "code_folding": [
     0
    ]
   },
   "outputs": [
    {
     "name": "stdout",
     "output_type": "stream",
     "text": [
      "/home/naodell/work/hgcal/analysis\n"
     ]
    }
   ],
   "source": [
    "#imports and setup\n",
    "%matplotlib inline\n",
    "%cd /home/naodell/work/hgcal/analysis\n",
    "\n",
    "from time import sleep\n",
    "import os\n",
    "import pickle\n",
    "import numpy as np\n",
    "import pandas as pd\n",
    "import matplotlib.pyplot as plt\n",
    "#import plotly as py\n",
    "\n",
    "from descartes import PolygonPatch\n",
    "from tqdm.notebook import tqdm\n",
    "\n",
    "#import scripts.helpers as hlp\n",
    "\n",
    "import matplotlib\n",
    "matplotlib.rc('font', family='sans-serif') \n",
    "matplotlib.rc('font', serif='Helvetica Neue') \n",
    "matplotlib.rc('text', usetex='false') \n",
    "matplotlib.rcParams.update({'font.size': 16})\n",
    "\n",
    "#%connect_info"
   ]
  },
  {
   "cell_type": "markdown",
   "metadata": {},
   "source": [
    "### Load data"
   ]
  },
  {
   "cell_type": "code",
   "execution_count": 2,
   "metadata": {
    "code_folding": [
     0
    ]
   },
   "outputs": [
    {
     "ename": "FileNotFoundError",
     "evalue": "[Errno 2] No such file or directory: 'data/pu200'",
     "output_type": "error",
     "traceback": [
      "\u001b[0;31m---------------------------------------------------------------------------\u001b[0m",
      "\u001b[0;31mFileNotFoundError\u001b[0m                         Traceback (most recent call last)",
      "\u001b[0;32m<ipython-input-2-10d61137ce8a>\u001b[0m in \u001b[0;36m<module>\u001b[0;34m\u001b[0m\n\u001b[1;32m      1\u001b[0m \u001b[0mpath\u001b[0m \u001b[0;34m=\u001b[0m \u001b[0;34m'data/pu200'\u001b[0m\u001b[0;34m\u001b[0m\u001b[0;34m\u001b[0m\u001b[0m\n\u001b[1;32m      2\u001b[0m \u001b[0mdata_list\u001b[0m \u001b[0;34m=\u001b[0m \u001b[0;34m[\u001b[0m\u001b[0;34m]\u001b[0m\u001b[0;34m\u001b[0m\u001b[0;34m\u001b[0m\u001b[0m\n\u001b[0;32m----> 3\u001b[0;31m \u001b[0;32mfor\u001b[0m \u001b[0mi\u001b[0m\u001b[0;34m,\u001b[0m \u001b[0mfilename\u001b[0m \u001b[0;32min\u001b[0m \u001b[0menumerate\u001b[0m\u001b[0;34m(\u001b[0m\u001b[0mos\u001b[0m\u001b[0;34m.\u001b[0m\u001b[0mlistdir\u001b[0m\u001b[0;34m(\u001b[0m\u001b[0mpath\u001b[0m\u001b[0;34m)\u001b[0m\u001b[0;34m)\u001b[0m\u001b[0;34m:\u001b[0m\u001b[0;34m\u001b[0m\u001b[0;34m\u001b[0m\u001b[0m\n\u001b[0m\u001b[1;32m      4\u001b[0m     \u001b[0minfile\u001b[0m \u001b[0;34m=\u001b[0m \u001b[0mopen\u001b[0m\u001b[0;34m(\u001b[0m\u001b[0mos\u001b[0m\u001b[0;34m.\u001b[0m\u001b[0mpath\u001b[0m\u001b[0;34m.\u001b[0m\u001b[0mjoin\u001b[0m\u001b[0;34m(\u001b[0m\u001b[0mpath\u001b[0m\u001b[0;34m,\u001b[0m \u001b[0mfilename\u001b[0m\u001b[0;34m)\u001b[0m\u001b[0;34m,\u001b[0m \u001b[0;34m'rb'\u001b[0m\u001b[0;34m)\u001b[0m\u001b[0;34m\u001b[0m\u001b[0;34m\u001b[0m\u001b[0m\n\u001b[1;32m      5\u001b[0m     \u001b[0mdata_list\u001b[0m \u001b[0;34m=\u001b[0m \u001b[0mpickle\u001b[0m\u001b[0;34m.\u001b[0m\u001b[0mload\u001b[0m\u001b[0;34m(\u001b[0m\u001b[0minfile\u001b[0m\u001b[0;34m)\u001b[0m\u001b[0;34m\u001b[0m\u001b[0;34m\u001b[0m\u001b[0m\n",
      "\u001b[0;31mFileNotFoundError\u001b[0m: [Errno 2] No such file or directory: 'data/pu200'"
     ]
    }
   ],
   "source": [
    "path = 'data/pu200'\n",
    "data_list = []\n",
    "for i, filename in enumerate(os.listdir(path)):\n",
    "    infile = open(os.path.join(path, filename), 'rb')\n",
    "    data_list = pickle.load(infile)\n",
    "    if i == 10: \n",
    "        break\n",
    "\n",
    "df = pd.concat(data_list)\n",
    "features = ['zside', 'layer', 'sector', 'panel', 'cell', 'subdet',\n",
    "            'x', 'y', 'z', \n",
    "            'pt', 'reco_e', 'sim_e']\n"
   ]
  },
  {
   "cell_type": "markdown",
   "metadata": {},
   "source": [
    "### calculate occupancies for panels "
   ]
  },
  {
   "cell_type": "code",
   "execution_count": null,
   "metadata": {
    "code_folding": []
   },
   "outputs": [],
   "source": [
    "# sample occupancy plot\n",
    "layer = 7\n",
    "df['count'] = np.ones(df.shape[0])\n",
    "df_avg = df.groupby(['layer', 'panel']).sum()/(2*6*1e4) # sum_hits/(n_sides*n_sectors*n_events)\n",
    "s_panel = df_avg.query(f'layer == {layer}')['count']\n",
    "s_panel = s_panel.loc[layer]\n",
    "\n",
    "df_occ = df_avg.unstack(level=0, fill_value=0)['count'] #pivot(index='panel', layer='layer', values='count')\n",
    "pd.set_option('precision', 2)\n",
    "\n",
    "import seaborn as sns\n",
    "fig, ax = plt.subplots(1, 1, figsize=(12, 10), facecolor='white')\n",
    "sns.heatmap(df_occ.loc[:19,:25].transpose(), ax=ax, cmap='viridis')\n",
    "ax.set_title('')\n",
    "\n",
    "plt.tight_layout()\n",
    "plt.savefig(f'plots/occupancy.pdf')\n",
    "plt.show()"
   ]
  },
  {
   "cell_type": "code",
   "execution_count": null,
   "metadata": {
    "code_folding": []
   },
   "outputs": [],
   "source": [
    "# tmp hack\n",
    "centers = [( -45.996555,  26.552443), ( -85.601143,  49.418068), (-122.204628,  70.561249),\n",
    "           ( -52.309528,   8.186293), ( -85.023285,  32.505623), (-126.216042,  56.438793),\n",
    "           ( -83.052231,  14.980803), (-128.726608,  41.261883), ( -99.199333,   7.929051),\n",
    "           (-137.761444,  30.080639), ( -48.818104, -11.489166), ( -84.926186, -32.474018),\n",
    "           (-126.202728, -56.422054), ( -83.127579, -14.974498), (-128.724808, -41.280033),\n",
    "           (-123.665054, -21.916286), (-132.247528, -10.519128), (-139.554230,  14.877615),\n",
    "           (-149.350327,  -0.036200)\n",
    "          ]\n",
    "patch_file = open(f'data/panel_patches_zplus_{layer}.pkl', 'rb')\n",
    "patches = pickle.load(patch_file)\n",
    "patch_file.close()\n",
    "\n",
    "def invert_ctuple(ctuple):\n",
    "    return [1 - c for c in ctuple[:-1]] + [1.]\n",
    "\n",
    "fig, ax = plt.subplots(1, 1, figsize=(12, 12), facecolor='white')\n",
    "\n",
    "sector = 1\n",
    "for p, ashape in patches[sector].items():\n",
    "    if p not in s_panel.index:\n",
    "        col = plt.cm.viridis(0)\n",
    "    else:\n",
    "        col = plt.cm.viridis(s_panel.loc[p]/s_panel.max())\n",
    "    patch  = PolygonPatch(ashape, fc=col, fill=True, ec=col, linestyle='-', linewidth=3, label='_nolegend_', alpha=1)\n",
    "    extent = patch.get_extents().bounds\n",
    "    ax.add_patch(patch)\n",
    "    \n",
    "    c = centers[p-1]\n",
    "    ax.text(c[0]-2, c[1], f'{p}', color=invert_ctuple(col))\n",
    "    \n",
    "ax.set_ylim(-80, 90)\n",
    "ax.set_xlim(-160, -25)\n",
    "ax.set_xlabel('x [cm]')\n",
    "ax.set_ylabel('y [cm]')\n",
    "ax.set_title(f'layer {layer}')\n",
    "#ax.set_facecolor('white')\n",
    "\n",
    "dummy = plt.scatter([0, 0], [0, 0], cmap='viridis', c=[0, s_panel.max()])\n",
    "cbar = plt.colorbar(dummy, ax=ax, label='average occupancy')\n",
    "cbar.set_alpha(1)\n",
    "cbar.draw_all()\n",
    "\n",
    "# draw some concentric circles\n",
    "df_skim = df.query(f'subdet == 3 and zside == 1 and sector == {sector} and layer == {layer}')\n",
    "eta   = np.arange(1.6, 3.2, 0.3)\n",
    "theta = 2*np.arctan(np.exp(-eta))\n",
    "r     = df_skim.iloc[0].z*np.tan(theta) \n",
    "phi   = np.linspace(np.pi/2, 3*np.pi/2, 1000)\n",
    "xcoord, ycoord  = np.outer(r, np.cos(phi)), np.outer(r, np.sin(phi)) \n",
    "\n",
    "for i, (x, y) in enumerate(zip(xcoord, ycoord)):\n",
    "    ax.plot(x, y, 'r:', label='_nolegend_')\n",
    "    phi_pos = 7*np.pi/6\n",
    "    ax.text((r[i] + 10)*np.cos(phi_pos), (r[i] + 10)*np.sin(phi_pos), r'$\\eta={0:.1f}$'.format(eta[i]), color='C3', fontsize=10)\n",
    "\n",
    "plt.grid()\n",
    "#plt.savefig('plots/panel_numbering_test.png')\n",
    "plt.savefig('plots/panel_occupancy_test.pdf')\n",
    "plt.show()"
   ]
  },
  {
   "cell_type": "code",
   "execution_count": null,
   "metadata": {
    "code_folding": []
   },
   "outputs": [],
   "source": [
    "# sample occupancy plot\n",
    "g = df.groupby(['layer', 'wafer', 'cell']) # sum_hits/(n_bx*n_sides*n_sectors*n_epochs)\n",
    "df_avg = g.sum()/(2*6*1e4) # sum_hits/(n_bx*n_sides*n_sectors*n_epochs)\n",
    "s_cell = df_avg.loc[layer]['count']\n",
    "\n",
    "cell_map = pd.read_pickle('data/cell_map.pkl')\n",
    "cell_map = cell_map.loc[1, layer]\n",
    "#cell_map"
   ]
  },
  {
   "cell_type": "code",
   "execution_count": null,
   "metadata": {
    "code_folding": []
   },
   "outputs": [],
   "source": [
    "# by cell occupancies\n",
    "fig, ax = plt.subplots(1, 1, figsize=(12, 12), facecolor='white')\n",
    "\n",
    "for p, ashape in patches[sector].items():\n",
    "    patch = PolygonPatch(ashape, fc=col, fill=False, ec='C1', linestyle='-', linewidth=3, label='_nolegend_', alpha=0.7)\n",
    "    extent = patch.get_extents().bounds\n",
    "    ax.add_patch(patch)\n",
    "    \n",
    "ax.set_ylim(-80, 90)\n",
    "ax.set_xlim(-160, -25)\n",
    "ax.set_xlabel('x [cm]')\n",
    "ax.set_ylabel('y [cm]')\n",
    "#ax.set_facecolor('white')\n",
    "\n",
    "df_test = pd.concat([cell_map, s_cell], axis=1).fillna(0)\n",
    "df_filled = df_test.query('count > 0')\n",
    "df_empty = df_test.query('count == 0')\n",
    "ax.scatter(df_empty['tc_x'].values, df_empty['tc_y'].values, c='grey',\n",
    "           marker='h', \n",
    "           s=50, \n",
    "           alpha=0.45\n",
    "           )\n",
    "scat = ax.scatter(df_filled['tc_x'].values, df_filled['tc_y'].values, c=df_filled['count'].values,\n",
    "                  cmap='viridis', \n",
    "                  marker='h', \n",
    "                  vmin=0.,\n",
    "                  vmax=df_test['count'].max(),\n",
    "                  s=50, \n",
    "                  alpha=0.85\n",
    "                  )\n",
    "\n",
    "#dummy = plt.scatter([0, 0], [0, 0], cmap='viridis', c=[0, s_cell.max()])\n",
    "cbar = plt.colorbar(scat, ax=ax, label='average occupancy')\n",
    "cbar.set_alpha(1)\n",
    "cbar.draw_all()\n",
    "\n",
    "# draw some concentric circles\n",
    "eta   = np.arange(1.6, 3.2, 0.3)\n",
    "theta = 2*np.arctan(np.exp(-eta))\n",
    "r     = df_skim.iloc[0].z*np.tan(theta) \n",
    "phi   = np.linspace(np.pi/2, 3*np.pi/2, 1000)\n",
    "xcoord, ycoord  = np.outer(r, np.cos(phi)), np.outer(r, np.sin(phi)) \n",
    "\n",
    "for i, (x, y) in enumerate(zip(xcoord, ycoord)):\n",
    "    ax.plot(x, y, 'r:', label='_nolegend_')\n",
    "    phi_pos = 7*np.pi/6\n",
    "    ax.text((r[i] + 10)*np.cos(phi_pos), (r[i] + 10)*np.sin(phi_pos), r'$\\eta={0:.1f}$'.format(eta[i]), color='C3', fontsize=10)\n",
    "\n",
    "plt.grid()\n",
    "#plt.savefig('plots/panel_numbering_test.png')\n",
    "plt.savefig('plots/cell_occupancy_test.pdf')\n",
    "plt.show()"
   ]
  },
  {
   "cell_type": "code",
   "execution_count": null,
   "metadata": {},
   "outputs": [],
   "source": []
  }
 ],
 "metadata": {
  "hide_input": false,
  "kernelspec": {
   "display_name": "Python 3",
   "language": "python",
   "name": "python3"
  },
  "language_info": {
   "codemirror_mode": {
    "name": "ipython",
    "version": 3
   },
   "file_extension": ".py",
   "mimetype": "text/x-python",
   "name": "python",
   "nbconvert_exporter": "python",
   "pygments_lexer": "ipython3",
   "version": "3.8.8"
  },
  "latex_envs": {
   "LaTeX_envs_menu_present": true,
   "autoclose": false,
   "autocomplete": true,
   "bibliofile": "biblio.bib",
   "cite_by": "apalike",
   "current_citInitial": 1,
   "eqLabelWithNumbers": true,
   "eqNumInitial": 0,
   "hotkeys": {
    "equation": "Ctrl-E",
    "itemize": "Ctrl-I"
   },
   "labels_anchors": false,
   "latex_user_defs": false,
   "report_style_numbering": false,
   "user_envs_cfg": false
  },
  "toc": {
   "nav_menu": {
    "height": "29px",
    "width": "251px"
   },
   "navigate_menu": true,
   "number_sections": true,
   "sideBar": true,
   "skip_h1_title": false,
   "threshold": 4,
   "title_cell": "Table of Contents",
   "title_sidebar": "Contents",
   "toc_cell": false,
   "toc_position": {},
   "toc_section_display": "block",
   "toc_window_display": false
  }
 },
 "nbformat": 4,
 "nbformat_minor": 4
}
