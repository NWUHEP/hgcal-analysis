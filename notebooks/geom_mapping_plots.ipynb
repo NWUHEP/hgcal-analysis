{
 "cells": [
  {
   "cell_type": "code",
   "execution_count": 5,
   "metadata": {},
   "outputs": [
    {
     "name": "stdout",
     "output_type": "stream",
     "text": [
      "/home/naodell/work/hgcal\n"
     ]
    }
   ],
   "source": [
    "%matplotlib inline\n",
    "%cd /home/naodell/work/hgcal\n",
    "\n",
    "import numpy as np\n",
    "import pandas as pd\n",
    "import matplotlib.pyplot as plt\n",
    "\n",
    "from matplotlib import cm\n",
    "from descartes import PolygonPatch\n",
    "\n",
    "from scipy.spatial import Delaunay\n",
    "import scripts.helpers as hlp"
   ]
  },
  {
   "cell_type": "code",
   "execution_count": 6,
   "metadata": {},
   "outputs": [
    {
     "data": {
      "image/png": "[encoded data removed]",
      "text/plain": [
       "<matplotlib.figure.Figure at 0x7fbe68e381d0>"
      ]
     },
     "metadata": {},
     "output_type": "display_data"
    }
   ],
   "source": [
    "a = np.random.randn(100, 2)\n",
    "ashape = hlp.alpha_shape(a, 0.5)\n",
    "fig, ax = plt.subplots(1,1)\n",
    "patch = PolygonPatch(ashape[0], fill=False, ec='C2', linestyle='--', linewidth=3)\n",
    "ax.add_patch(patch)\n",
    "b = a.transpose()\n",
    "ax.scatter(b[0], b[1])\n",
    "plt.show()"
   ]
  },
  {
   "cell_type": "code",
   "execution_count": null,
   "metadata": {},
   "outputs": [],
   "source": [
    "from root_pandas import read_root\n",
    "features = [\n",
    "            'id', 'zside', 'subdet','layer', 'module', \n",
    "            'x', 'y', 'z', \n",
    "            'tc_layer', 'tc_zside', 'tc_subdet', 'tc_id', 'tc_wafer',\n",
    "            'tc_x', 'tc_y', 'tc_z'\n",
    "           ]\n",
    "\n",
    "df_new = read_root('data/test_triggergeom_newmap.root', 'hgcaltriggergeomtester/TreeModules',  columns=features, flatten=features[8:])\n",
    "df_new = df_new.drop('__array_index', axis=1)\n",
    "panel_offset = 0\n",
    "panel_mask = 0x1F\n",
    "sector_offset = 5\n",
    "sector_mask = 0x7\n",
    "\n",
    "df_new['panel']  = [(val >> 8) & panel_mask for val in df_new['id'].values]\n",
    "df_new['sector'] = [(val >> 8 + sector_offset) & sector_mask for val in df_new['id'].values]\n",
    "df_new.head(20)"
   ]
  },
  {
   "cell_type": "markdown",
   "metadata": {},
   "source": [
    "loop over motherboards ('id' field) and plot color-coded trigger cell locations"
   ]
  },
  {
   "cell_type": "code",
   "execution_count": null,
   "metadata": {},
   "outputs": [],
   "source": [
    "fig, ax = plt.subplots(1, 1, figsize=(10, 8))\n",
    "plt.title('panels');\n",
    "\n",
    "df_sector = df_new.query('zside == 1 and layer == 15 and subdet == 3 and sector == 1')\n",
    "df_sector.plot('tc_x', 'tc_y', c='panel', kind='scatter', cmap='tab20', marker='h', s=20, ax=ax)\n",
    "centers = df_sector.groupby('panel').mean()[['tc_x', 'tc_y']]\n",
    "\n",
    "ax.set_xlabel('x [cm]')\n",
    "ax.set_ylabel('y [cm]')\n",
    "ax.set_xlim(-200,0)\n",
    "ax.set_ylim(-100,100)\n",
    "\n",
    "plt.grid()\n",
    "plt.show()"
   ]
  },
  {
   "cell_type": "code",
   "execution_count": null,
   "metadata": {},
   "outputs": [],
   "source": [
    "df_panel = df_sector.query('panel == 1')\n",
    "points = df_panel[['tc_x', 'tc_y']].values\n",
    "\n",
    "fig, ax = plt.subplots(1, 1, figsize=(10, 8))\n",
    "df_panel.plot('tc_x', 'tc_y', c='C0', kind='scatter', marker='h', s=200, ax=ax)\n",
    "\n",
    "alpha_shape, edge_points = hlp.alpha_shape(points, alpha=0.5)\n",
    "patch = PolygonPatch(alpha_shape, fill=False, ec='C2', linestyle='--', linewidth=3)\n",
    "ax.add_patch(patch)\n",
    "    \n",
    "ax.set_title('panels');\n",
    "ax.set_xlabel('x [cm]')\n",
    "ax.set_ylabel('y [cm]')\n",
    "#ax.set_xlim(-125, -50)\n",
    "#ax.set_ylim(25, 75)\n",
    "\n",
    "plt.grid()\n",
    "plt.show()"
   ]
  },
  {
   "cell_type": "code",
   "execution_count": null,
   "metadata": {},
   "outputs": [],
   "source": [
    "from matplotlib import cm\n",
    "import pickle \n",
    "\n",
    "fig, ax = plt.subplots(1, 1, figsize=(10, 8))\n",
    "\n",
    "colors = cm.get_cmap('tab20')\n",
    "patch_dict = {}\n",
    "for i, n_panel in enumerate(df_sector.n.unique()):\n",
    "    df_panel = df_sector.query(f'n == {n_panel}')\n",
    "    points = df_panel[['tc_x', 'tc_y']].values\n",
    "    ashape, edge_points = hlp.alpha_shape(points, alpha=0.5)\n",
    "    if n_panel == 7:\n",
    "        col = 'C1'\n",
    "    else:\n",
    "        col = 'C3'\n",
    "    patch = PolygonPatch(ashape, fill=False, ec=col, linestyle='-', linewidth=3)\n",
    "    ax.add_patch(patch)\n",
    "    patch_dict[n_panel] = ashape\n",
    "    \n",
    "outfile = open('data/panel_patches.pkl', 'wb')\n",
    "pickle.dump(patch_dict, outfile)\n",
    "    \n",
    "ax.set_title('panels');\n",
    "ax.set_xlabel('x [cm]')\n",
    "ax.set_ylabel('y [cm]')\n",
    "ax.set_xlim(-200, -0)\n",
    "ax.set_ylim(-100, 100)\n",
    "\n",
    "plt.grid()\n",
    "plt.show()"
   ]
  }
 ],
 "metadata": {
  "anaconda-cloud": {},
  "hide_input": false,
  "kernelspec": {
   "display_name": "Python 3",
   "language": "python",
   "name": "python3"
  },
  "language_info": {
   "codemirror_mode": {
    "name": "ipython",
    "version": 3
   },
   "file_extension": ".py",
   "mimetype": "text/x-python",
   "name": "python",
   "nbconvert_exporter": "python",
   "pygments_lexer": "ipython3",
   "version": "3.6.4"
  },
  "latex_envs": {
   "LaTeX_envs_menu_present": true,
   "autocomplete": true,
   "bibliofile": "biblio.bib",
   "cite_by": "apalike",
   "current_citInitial": 1,
   "eqLabelWithNumbers": true,
   "eqNumInitial": 1,
   "hotkeys": {
    "equation": "Ctrl-E",
    "itemize": "Ctrl-I"
   },
   "labels_anchors": false,
   "latex_user_defs": false,
   "report_style_numbering": false,
   "user_envs_cfg": false
  },
  "toc": {
   "colors": {
    "hover_highlight": "#DAA520",
    "navigate_num": "#000000",
    "navigate_text": "#333333",
    "running_highlight": "#FF0000",
    "selected_highlight": "#FFD700",
    "sidebar_border": "#EEEEEE",
    "wrapper_background": "#FFFFFF"
   },
   "moveMenuLeft": true,
   "nav_menu": {
    "height": "3px",
    "width": "254px"
   },
   "navigate_menu": true,
   "number_sections": true,
   "sideBar": true,
   "threshold": 4,
   "toc_cell": false,
   "toc_section_display": "block",
   "toc_window_display": false,
   "widenNotebook": false
  }
 },
 "nbformat": 4,
 "nbformat_minor": 2
}
