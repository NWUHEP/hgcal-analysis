{
 "cells": [
  {
   "cell_type": "code",
   "execution_count": 176,
   "metadata": {
    "code_folding": []
   },
   "outputs": [
    {
     "name": "stdout",
     "output_type": "stream",
     "text": [
      "The autoreload extension is already loaded. To reload it, use:\n",
      "  %reload_ext autoreload\n",
      "/home/naodell/work/hgcal/analysis\n"
     ]
    }
   ],
   "source": [
    "# imports and setup\n",
    "%load_ext autoreload\n",
    "%autoreload 2\n",
    "%cd '/home/naodell/work/hgcal/analysis'"
   ]
  },
  {
   "cell_type": "code",
   "execution_count": 198,
   "metadata": {
    "code_folding": []
   },
   "outputs": [],
   "source": [
    "import os\n",
    "import pickle\n",
    "import pandas as pd\n",
    "import numpy as np\n",
    "import matplotlib.pyplot as plt\n",
    "import matplotlib\n",
    "matplotlib.style.use('default')\n",
    "\n",
    "import torch\n",
    "from torch import nn\n",
    "from torch.utils.data import DataLoader\n",
    "from torch.utils.tensorboard import SummaryWriter\n",
    "from torchvision import datasets, transforms\n",
    "from sklearn import preprocessing\n",
    "import seaborn as sns\n",
    "from tqdm.notebook import tqdm, trange\n",
    "\n",
    "from models.autoencoder import AutoEncoderModular\n",
    "from models.loss import mse_loss_regularized\n",
    "from datasets.hgcal_tc_dataset import HGCalTCModuleDictDataset\n",
    "\n",
    "#%connect_info"
   ]
  },
  {
   "cell_type": "code",
   "execution_count": 199,
   "metadata": {
    "code_folding": [
     0
    ]
   },
   "outputs": [
    {
     "name": "stdout",
     "output_type": "stream",
     "text": [
      "Total number of events: 533\n"
     ]
    }
   ],
   "source": [
    "# get the data\n",
    "input_dir = 'local_data/econ_training_data/single_photon_data/'\n",
    "input_filenames = [f'{input_dir}/{f}' for f in os.listdir(input_dir)]\n",
    "hgcal_data = HGCalTCModuleDictDataset(input_filenames)\n",
    "\n",
    "# sample from dataframe according to event weights; split into testing and training sets\n",
    "device = 'cuda' if torch.cuda.is_available() else 'cpu'\n",
    "\n",
    "# training sample\n",
    "batch_size = 8\n",
    "n_total = len(hgcal_data)\n",
    "split = round(0.8*n_total)\n",
    "train_loader = DataLoader(hgcal_data[:split],  batch_size=batch_size, shuffle=True, pin_memory=True)\n",
    "test_loader = DataLoader(hgcal_data[split:],  batch_size=batch_size, shuffle=True, pin_memory=True)\n",
    "print(f'Total number of events: {n_total}')"
   ]
  },
  {
   "cell_type": "code",
   "execution_count": 200,
   "metadata": {
    "code_folding": [],
    "scrolled": true,
    "tags": []
   },
   "outputs": [
    {
     "name": "stdout",
     "output_type": "stream",
     "text": [
      "cuda\n",
      "AutoEncoderModular(\n",
      "  (encoder): ModuleDict(\n",
      "    (0): WaferEncoder(\n",
      "      (conv2d): Conv2d(14, 112, kernel_size=(3, 3), stride=(1, 1), padding=(1, 1), groups=14, bias=False)\n",
      "      (act_conv): ReLU()\n",
      "      (pool): MaxPool2d(kernel_size=2, stride=2, padding=0, dilation=1, ceil_mode=False)\n",
      "      (dense_layers): ModuleList(\n",
      "        (0): Sequential(\n",
      "          (0): Linear(in_features=128, out_features=8, bias=True)\n",
      "          (1): ReLU()\n",
      "        )\n",
      "        (1): Sequential(\n",
      "          (0): Linear(in_features=128, out_features=8, bias=True)\n",
      "          (1): ReLU()\n",
      "        )\n",
      "        (2): Sequential(\n",
      "          (0): Linear(in_features=128, out_features=8, bias=True)\n",
      "          (1): ReLU()\n",
      "        )\n",
      "        (3): Sequential(\n",
      "          (0): Linear(in_features=128, out_features=8, bias=True)\n",
      "          (1): ReLU()\n",
      "        )\n",
      "        (4): Sequential(\n",
      "          (0): Linear(in_features=128, out_features=8, bias=True)\n",
      "          (1): ReLU()\n",
      "        )\n",
      "        (5): Sequential(\n",
      "          (0): Linear(in_features=128, out_features=8, bias=True)\n",
      "          (1): ReLU()\n",
      "        )\n",
      "        (6): Sequential(\n",
      "          (0): Linear(in_features=128, out_features=8, bias=True)\n",
      "          (1): ReLU()\n",
      "        )\n",
      "        (7): Sequential(\n",
      "          (0): Linear(in_features=128, out_features=8, bias=True)\n",
      "          (1): ReLU()\n",
      "        )\n",
      "        (8): Sequential(\n",
      "          (0): Linear(in_features=128, out_features=8, bias=True)\n",
      "          (1): ReLU()\n",
      "        )\n",
      "        (9): Sequential(\n",
      "          (0): Linear(in_features=128, out_features=8, bias=True)\n",
      "          (1): ReLU()\n",
      "        )\n",
      "        (10): Sequential(\n",
      "          (0): Linear(in_features=128, out_features=8, bias=True)\n",
      "          (1): ReLU()\n",
      "        )\n",
      "        (11): Sequential(\n",
      "          (0): Linear(in_features=128, out_features=8, bias=True)\n",
      "          (1): ReLU()\n",
      "        )\n",
      "        (12): Sequential(\n",
      "          (0): Linear(in_features=128, out_features=8, bias=True)\n",
      "          (1): ReLU()\n",
      "        )\n",
      "        (13): Sequential(\n",
      "          (0): Linear(in_features=128, out_features=8, bias=True)\n",
      "          (1): ReLU()\n",
      "        )\n",
      "      )\n",
      "    )\n",
      "    (1): WaferEncoder(\n",
      "      (conv2d): Conv2d(14, 112, kernel_size=(3, 3), stride=(1, 1), padding=(1, 1), groups=14, bias=False)\n",
      "      (act_conv): ReLU()\n",
      "      (pool): MaxPool2d(kernel_size=2, stride=2, padding=0, dilation=1, ceil_mode=False)\n",
      "      (dense_layers): ModuleList(\n",
      "        (0): Sequential(\n",
      "          (0): Linear(in_features=128, out_features=8, bias=True)\n",
      "          (1): ReLU()\n",
      "        )\n",
      "        (1): Sequential(\n",
      "          (0): Linear(in_features=128, out_features=8, bias=True)\n",
      "          (1): ReLU()\n",
      "        )\n",
      "        (2): Sequential(\n",
      "          (0): Linear(in_features=128, out_features=8, bias=True)\n",
      "          (1): ReLU()\n",
      "        )\n",
      "        (3): Sequential(\n",
      "          (0): Linear(in_features=128, out_features=8, bias=True)\n",
      "          (1): ReLU()\n",
      "        )\n",
      "        (4): Sequential(\n",
      "          (0): Linear(in_features=128, out_features=8, bias=True)\n",
      "          (1): ReLU()\n",
      "        )\n",
      "        (5): Sequential(\n",
      "          (0): Linear(in_features=128, out_features=8, bias=True)\n",
      "          (1): ReLU()\n",
      "        )\n",
      "        (6): Sequential(\n",
      "          (0): Linear(in_features=128, out_features=8, bias=True)\n",
      "          (1): ReLU()\n",
      "        )\n",
      "        (7): Sequential(\n",
      "          (0): Linear(in_features=128, out_features=8, bias=True)\n",
      "          (1): ReLU()\n",
      "        )\n",
      "        (8): Sequential(\n",
      "          (0): Linear(in_features=128, out_features=8, bias=True)\n",
      "          (1): ReLU()\n",
      "        )\n",
      "        (9): Sequential(\n",
      "          (0): Linear(in_features=128, out_features=8, bias=True)\n",
      "          (1): ReLU()\n",
      "        )\n",
      "        (10): Sequential(\n",
      "          (0): Linear(in_features=128, out_features=8, bias=True)\n",
      "          (1): ReLU()\n",
      "        )\n",
      "        (11): Sequential(\n",
      "          (0): Linear(in_features=128, out_features=8, bias=True)\n",
      "          (1): ReLU()\n",
      "        )\n",
      "        (12): Sequential(\n",
      "          (0): Linear(in_features=128, out_features=8, bias=True)\n",
      "          (1): ReLU()\n",
      "        )\n",
      "        (13): Sequential(\n",
      "          (0): Linear(in_features=128, out_features=8, bias=True)\n",
      "          (1): ReLU()\n",
      "        )\n",
      "      )\n",
      "    )\n",
      "    (2): WaferEncoder(\n",
      "      (conv2d): Conv2d(14, 112, kernel_size=(3, 3), stride=(1, 1), padding=(1, 1), groups=14, bias=False)\n",
      "      (act_conv): ReLU()\n",
      "      (pool): MaxPool2d(kernel_size=2, stride=2, padding=0, dilation=1, ceil_mode=False)\n",
      "      (dense_layers): ModuleList(\n",
      "        (0): Sequential(\n",
      "          (0): Linear(in_features=128, out_features=8, bias=True)\n",
      "          (1): ReLU()\n",
      "        )\n",
      "        (1): Sequential(\n",
      "          (0): Linear(in_features=128, out_features=8, bias=True)\n",
      "          (1): ReLU()\n",
      "        )\n",
      "        (2): Sequential(\n",
      "          (0): Linear(in_features=128, out_features=8, bias=True)\n",
      "          (1): ReLU()\n",
      "        )\n",
      "        (3): Sequential(\n",
      "          (0): Linear(in_features=128, out_features=8, bias=True)\n",
      "          (1): ReLU()\n",
      "        )\n",
      "        (4): Sequential(\n",
      "          (0): Linear(in_features=128, out_features=8, bias=True)\n",
      "          (1): ReLU()\n",
      "        )\n",
      "        (5): Sequential(\n",
      "          (0): Linear(in_features=128, out_features=8, bias=True)\n",
      "          (1): ReLU()\n",
      "        )\n",
      "        (6): Sequential(\n",
      "          (0): Linear(in_features=128, out_features=8, bias=True)\n",
      "          (1): ReLU()\n",
      "        )\n",
      "        (7): Sequential(\n",
      "          (0): Linear(in_features=128, out_features=8, bias=True)\n",
      "          (1): ReLU()\n",
      "        )\n",
      "        (8): Sequential(\n",
      "          (0): Linear(in_features=128, out_features=8, bias=True)\n",
      "          (1): ReLU()\n",
      "        )\n",
      "        (9): Sequential(\n",
      "          (0): Linear(in_features=128, out_features=8, bias=True)\n",
      "          (1): ReLU()\n",
      "        )\n",
      "        (10): Sequential(\n",
      "          (0): Linear(in_features=128, out_features=8, bias=True)\n",
      "          (1): ReLU()\n",
      "        )\n",
      "        (11): Sequential(\n",
      "          (0): Linear(in_features=128, out_features=8, bias=True)\n",
      "          (1): ReLU()\n",
      "        )\n",
      "        (12): Sequential(\n",
      "          (0): Linear(in_features=128, out_features=8, bias=True)\n",
      "          (1): ReLU()\n",
      "        )\n",
      "        (13): Sequential(\n",
      "          (0): Linear(in_features=128, out_features=8, bias=True)\n",
      "          (1): ReLU()\n",
      "        )\n",
      "      )\n",
      "    )\n",
      "    (3): WaferEncoder(\n",
      "      (conv2d): Conv2d(14, 112, kernel_size=(3, 3), stride=(1, 1), padding=(1, 1), groups=14, bias=False)\n",
      "      (act_conv): ReLU()\n",
      "      (pool): MaxPool2d(kernel_size=2, stride=2, padding=0, dilation=1, ceil_mode=False)\n",
      "      (dense_layers): ModuleList(\n",
      "        (0): Sequential(\n",
      "          (0): Linear(in_features=128, out_features=8, bias=True)\n",
      "          (1): ReLU()\n",
      "        )\n",
      "        (1): Sequential(\n",
      "          (0): Linear(in_features=128, out_features=8, bias=True)\n",
      "          (1): ReLU()\n",
      "        )\n",
      "        (2): Sequential(\n",
      "          (0): Linear(in_features=128, out_features=8, bias=True)\n",
      "          (1): ReLU()\n",
      "        )\n",
      "        (3): Sequential(\n",
      "          (0): Linear(in_features=128, out_features=8, bias=True)\n",
      "          (1): ReLU()\n",
      "        )\n",
      "        (4): Sequential(\n",
      "          (0): Linear(in_features=128, out_features=8, bias=True)\n",
      "          (1): ReLU()\n",
      "        )\n",
      "        (5): Sequential(\n",
      "          (0): Linear(in_features=128, out_features=8, bias=True)\n",
      "          (1): ReLU()\n",
      "        )\n",
      "        (6): Sequential(\n",
      "          (0): Linear(in_features=128, out_features=8, bias=True)\n",
      "          (1): ReLU()\n",
      "        )\n",
      "        (7): Sequential(\n",
      "          (0): Linear(in_features=128, out_features=8, bias=True)\n",
      "          (1): ReLU()\n",
      "        )\n",
      "        (8): Sequential(\n",
      "          (0): Linear(in_features=128, out_features=8, bias=True)\n",
      "          (1): ReLU()\n",
      "        )\n",
      "        (9): Sequential(\n",
      "          (0): Linear(in_features=128, out_features=8, bias=True)\n",
      "          (1): ReLU()\n",
      "        )\n",
      "        (10): Sequential(\n",
      "          (0): Linear(in_features=128, out_features=8, bias=True)\n",
      "          (1): ReLU()\n",
      "        )\n",
      "        (11): Sequential(\n",
      "          (0): Linear(in_features=128, out_features=8, bias=True)\n",
      "          (1): ReLU()\n",
      "        )\n",
      "        (12): Sequential(\n",
      "          (0): Linear(in_features=128, out_features=8, bias=True)\n",
      "          (1): ReLU()\n",
      "        )\n",
      "        (13): Sequential(\n",
      "          (0): Linear(in_features=128, out_features=8, bias=True)\n",
      "          (1): ReLU()\n",
      "        )\n",
      "      )\n",
      "    )\n",
      "  )\n",
      "  (decoder): ModuleDict(\n",
      "    (0): WaferDecoder(\n",
      "      (dense_layers): ModuleList(\n",
      "        (0): Sequential(\n",
      "          (0): Linear(in_features=8, out_features=128, bias=True)\n",
      "          (1): ReLU()\n",
      "        )\n",
      "        (1): Sequential(\n",
      "          (0): Linear(in_features=8, out_features=128, bias=True)\n",
      "          (1): ReLU()\n",
      "        )\n",
      "        (2): Sequential(\n",
      "          (0): Linear(in_features=8, out_features=128, bias=True)\n",
      "          (1): ReLU()\n",
      "        )\n",
      "        (3): Sequential(\n",
      "          (0): Linear(in_features=8, out_features=128, bias=True)\n",
      "          (1): ReLU()\n",
      "        )\n",
      "        (4): Sequential(\n",
      "          (0): Linear(in_features=8, out_features=128, bias=True)\n",
      "          (1): ReLU()\n",
      "        )\n",
      "        (5): Sequential(\n",
      "          (0): Linear(in_features=8, out_features=128, bias=True)\n",
      "          (1): ReLU()\n",
      "        )\n",
      "        (6): Sequential(\n",
      "          (0): Linear(in_features=8, out_features=128, bias=True)\n",
      "          (1): ReLU()\n",
      "        )\n",
      "        (7): Sequential(\n",
      "          (0): Linear(in_features=8, out_features=128, bias=True)\n",
      "          (1): ReLU()\n",
      "        )\n",
      "        (8): Sequential(\n",
      "          (0): Linear(in_features=8, out_features=128, bias=True)\n",
      "          (1): ReLU()\n",
      "        )\n",
      "        (9): Sequential(\n",
      "          (0): Linear(in_features=8, out_features=128, bias=True)\n",
      "          (1): ReLU()\n",
      "        )\n",
      "        (10): Sequential(\n",
      "          (0): Linear(in_features=8, out_features=128, bias=True)\n",
      "          (1): ReLU()\n",
      "        )\n",
      "        (11): Sequential(\n",
      "          (0): Linear(in_features=8, out_features=128, bias=True)\n",
      "          (1): ReLU()\n",
      "        )\n",
      "        (12): Sequential(\n",
      "          (0): Linear(in_features=8, out_features=128, bias=True)\n",
      "          (1): ReLU()\n",
      "        )\n",
      "        (13): Sequential(\n",
      "          (0): Linear(in_features=8, out_features=128, bias=True)\n",
      "          (1): ReLU()\n",
      "        )\n",
      "      )\n",
      "      (tconv2d): ConvTranspose2d(112, 14, kernel_size=(3, 3), stride=(2, 2), padding=(1, 1), output_padding=(1, 1), groups=14)\n",
      "      (act_tconv): ReLU()\n",
      "    )\n",
      "    (1): WaferDecoder(\n",
      "      (dense_layers): ModuleList(\n",
      "        (0): Sequential(\n",
      "          (0): Linear(in_features=8, out_features=128, bias=True)\n",
      "          (1): ReLU()\n",
      "        )\n",
      "        (1): Sequential(\n",
      "          (0): Linear(in_features=8, out_features=128, bias=True)\n",
      "          (1): ReLU()\n",
      "        )\n",
      "        (2): Sequential(\n",
      "          (0): Linear(in_features=8, out_features=128, bias=True)\n",
      "          (1): ReLU()\n",
      "        )\n",
      "        (3): Sequential(\n",
      "          (0): Linear(in_features=8, out_features=128, bias=True)\n",
      "          (1): ReLU()\n",
      "        )\n",
      "        (4): Sequential(\n",
      "          (0): Linear(in_features=8, out_features=128, bias=True)\n",
      "          (1): ReLU()\n",
      "        )\n",
      "        (5): Sequential(\n",
      "          (0): Linear(in_features=8, out_features=128, bias=True)\n",
      "          (1): ReLU()\n",
      "        )\n",
      "        (6): Sequential(\n",
      "          (0): Linear(in_features=8, out_features=128, bias=True)\n",
      "          (1): ReLU()\n",
      "        )\n",
      "        (7): Sequential(\n",
      "          (0): Linear(in_features=8, out_features=128, bias=True)\n",
      "          (1): ReLU()\n",
      "        )\n",
      "        (8): Sequential(\n",
      "          (0): Linear(in_features=8, out_features=128, bias=True)\n",
      "          (1): ReLU()\n",
      "        )\n",
      "        (9): Sequential(\n",
      "          (0): Linear(in_features=8, out_features=128, bias=True)\n",
      "          (1): ReLU()\n",
      "        )\n",
      "        (10): Sequential(\n",
      "          (0): Linear(in_features=8, out_features=128, bias=True)\n",
      "          (1): ReLU()\n",
      "        )\n",
      "        (11): Sequential(\n",
      "          (0): Linear(in_features=8, out_features=128, bias=True)\n",
      "          (1): ReLU()\n",
      "        )\n",
      "        (12): Sequential(\n",
      "          (0): Linear(in_features=8, out_features=128, bias=True)\n",
      "          (1): ReLU()\n",
      "        )\n",
      "        (13): Sequential(\n",
      "          (0): Linear(in_features=8, out_features=128, bias=True)\n",
      "          (1): ReLU()\n",
      "        )\n",
      "      )\n",
      "      (tconv2d): ConvTranspose2d(112, 14, kernel_size=(3, 3), stride=(2, 2), padding=(1, 1), output_padding=(1, 1), groups=14)\n",
      "      (act_tconv): ReLU()\n",
      "    )\n",
      "    (2): WaferDecoder(\n",
      "      (dense_layers): ModuleList(\n",
      "        (0): Sequential(\n",
      "          (0): Linear(in_features=8, out_features=128, bias=True)\n",
      "          (1): ReLU()\n",
      "        )\n",
      "        (1): Sequential(\n",
      "          (0): Linear(in_features=8, out_features=128, bias=True)\n",
      "          (1): ReLU()\n",
      "        )\n",
      "        (2): Sequential(\n",
      "          (0): Linear(in_features=8, out_features=128, bias=True)\n",
      "          (1): ReLU()\n",
      "        )\n",
      "        (3): Sequential(\n",
      "          (0): Linear(in_features=8, out_features=128, bias=True)\n",
      "          (1): ReLU()\n",
      "        )\n",
      "        (4): Sequential(\n",
      "          (0): Linear(in_features=8, out_features=128, bias=True)\n",
      "          (1): ReLU()\n",
      "        )\n",
      "        (5): Sequential(\n",
      "          (0): Linear(in_features=8, out_features=128, bias=True)\n",
      "          (1): ReLU()\n",
      "        )\n",
      "        (6): Sequential(\n",
      "          (0): Linear(in_features=8, out_features=128, bias=True)\n",
      "          (1): ReLU()\n",
      "        )\n",
      "        (7): Sequential(\n",
      "          (0): Linear(in_features=8, out_features=128, bias=True)\n",
      "          (1): ReLU()\n",
      "        )\n",
      "        (8): Sequential(\n",
      "          (0): Linear(in_features=8, out_features=128, bias=True)\n",
      "          (1): ReLU()\n",
      "        )\n",
      "        (9): Sequential(\n",
      "          (0): Linear(in_features=8, out_features=128, bias=True)\n",
      "          (1): ReLU()\n",
      "        )\n",
      "        (10): Sequential(\n",
      "          (0): Linear(in_features=8, out_features=128, bias=True)\n",
      "          (1): ReLU()\n",
      "        )\n",
      "        (11): Sequential(\n",
      "          (0): Linear(in_features=8, out_features=128, bias=True)\n",
      "          (1): ReLU()\n",
      "        )\n",
      "        (12): Sequential(\n",
      "          (0): Linear(in_features=8, out_features=128, bias=True)\n",
      "          (1): ReLU()\n",
      "        )\n",
      "        (13): Sequential(\n",
      "          (0): Linear(in_features=8, out_features=128, bias=True)\n",
      "          (1): ReLU()\n",
      "        )\n",
      "      )\n",
      "      (tconv2d): ConvTranspose2d(112, 14, kernel_size=(3, 3), stride=(2, 2), padding=(1, 1), output_padding=(1, 1), groups=14)\n",
      "      (act_tconv): ReLU()\n",
      "    )\n",
      "    (3): WaferDecoder(\n",
      "      (dense_layers): ModuleList(\n",
      "        (0): Sequential(\n",
      "          (0): Linear(in_features=8, out_features=128, bias=True)\n",
      "          (1): ReLU()\n",
      "        )\n",
      "        (1): Sequential(\n",
      "          (0): Linear(in_features=8, out_features=128, bias=True)\n",
      "          (1): ReLU()\n",
      "        )\n",
      "        (2): Sequential(\n",
      "          (0): Linear(in_features=8, out_features=128, bias=True)\n",
      "          (1): ReLU()\n",
      "        )\n",
      "        (3): Sequential(\n",
      "          (0): Linear(in_features=8, out_features=128, bias=True)\n",
      "          (1): ReLU()\n",
      "        )\n",
      "        (4): Sequential(\n",
      "          (0): Linear(in_features=8, out_features=128, bias=True)\n",
      "          (1): ReLU()\n",
      "        )\n",
      "        (5): Sequential(\n",
      "          (0): Linear(in_features=8, out_features=128, bias=True)\n",
      "          (1): ReLU()\n",
      "        )\n",
      "        (6): Sequential(\n",
      "          (0): Linear(in_features=8, out_features=128, bias=True)\n",
      "          (1): ReLU()\n",
      "        )\n",
      "        (7): Sequential(\n",
      "          (0): Linear(in_features=8, out_features=128, bias=True)\n",
      "          (1): ReLU()\n",
      "        )\n",
      "        (8): Sequential(\n",
      "          (0): Linear(in_features=8, out_features=128, bias=True)\n",
      "          (1): ReLU()\n",
      "        )\n",
      "        (9): Sequential(\n",
      "          (0): Linear(in_features=8, out_features=128, bias=True)\n",
      "          (1): ReLU()\n",
      "        )\n",
      "        (10): Sequential(\n",
      "          (0): Linear(in_features=8, out_features=128, bias=True)\n",
      "          (1): ReLU()\n",
      "        )\n",
      "        (11): Sequential(\n",
      "          (0): Linear(in_features=8, out_features=128, bias=True)\n",
      "          (1): ReLU()\n",
      "        )\n",
      "        (12): Sequential(\n",
      "          (0): Linear(in_features=8, out_features=128, bias=True)\n",
      "          (1): ReLU()\n",
      "        )\n",
      "        (13): Sequential(\n",
      "          (0): Linear(in_features=8, out_features=128, bias=True)\n",
      "          (1): ReLU()\n",
      "        )\n",
      "      )\n",
      "      (tconv2d): ConvTranspose2d(112, 14, kernel_size=(3, 3), stride=(2, 2), padding=(1, 1), output_padding=(1, 1), groups=14)\n",
      "      (act_tconv): ReLU()\n",
      "    )\n",
      "  )\n",
      ")\n"
     ]
    }
   ],
   "source": [
    "# define and setup the NN model\n",
    "scenario = 'modular'\n",
    "model = AutoEncoderModular().to(device)\n",
    "print(device, model, sep='\\n')"
   ]
  },
  {
   "cell_type": "code",
   "execution_count": 201,
   "metadata": {},
   "outputs": [
    {
     "data": {
      "application/vnd.jupyter.widget-view+json": {
       "model_id": "81d57b1e95074b1f953a70fceecd9b59",
       "version_major": 2,
       "version_minor": 0
      },
      "text/plain": [
       "  0%|          | 0/20 [00:00<?, ?it/s]"
      ]
     },
     "metadata": {},
     "output_type": "display_data"
    },
    {
     "data": {
      "application/vnd.jupyter.widget-view+json": {
       "model_id": "bdbeb33cb5194a57aad81f1ccd08670f",
       "version_major": 2,
       "version_minor": 0
      },
      "text/plain": [
       "  0%|          | 0/54 [00:00<?, ?it/s]"
      ]
     },
     "metadata": {},
     "output_type": "display_data"
    },
    {
     "data": {
      "application/vnd.jupyter.widget-view+json": {
       "model_id": "40ffddb3579246e7a2cf0d997a6d3acc",
       "version_major": 2,
       "version_minor": 0
      },
      "text/plain": [
       "  0%|          | 0/14 [00:00<?, ?it/s]"
      ]
     },
     "metadata": {},
     "output_type": "display_data"
    },
    {
     "data": {
      "application/vnd.jupyter.widget-view+json": {
       "model_id": "a05d9c8edee644b3a79db5b860f7e82c",
       "version_major": 2,
       "version_minor": 0
      },
      "text/plain": [
       "  0%|          | 0/54 [00:00<?, ?it/s]"
      ]
     },
     "metadata": {},
     "output_type": "display_data"
    },
    {
     "data": {
      "application/vnd.jupyter.widget-view+json": {
       "model_id": "d543d20d607b45929d418b7995bc4797",
       "version_major": 2,
       "version_minor": 0
      },
      "text/plain": [
       "  0%|          | 0/14 [00:00<?, ?it/s]"
      ]
     },
     "metadata": {},
     "output_type": "display_data"
    },
    {
     "data": {
      "application/vnd.jupyter.widget-view+json": {
       "model_id": "e8976446a76e4ec9a01ea49098151e71",
       "version_major": 2,
       "version_minor": 0
      },
      "text/plain": [
       "  0%|          | 0/54 [00:00<?, ?it/s]"
      ]
     },
     "metadata": {},
     "output_type": "display_data"
    },
    {
     "data": {
      "application/vnd.jupyter.widget-view+json": {
       "model_id": "6c79c3fc128e40b697632d751f4e26b0",
       "version_major": 2,
       "version_minor": 0
      },
      "text/plain": [
       "  0%|          | 0/14 [00:00<?, ?it/s]"
      ]
     },
     "metadata": {},
     "output_type": "display_data"
    },
    {
     "data": {
      "application/vnd.jupyter.widget-view+json": {
       "model_id": "3d8e1c6b31a34ae9b3d393f687eca94c",
       "version_major": 2,
       "version_minor": 0
      },
      "text/plain": [
       "  0%|          | 0/54 [00:00<?, ?it/s]"
      ]
     },
     "metadata": {},
     "output_type": "display_data"
    },
    {
     "data": {
      "application/vnd.jupyter.widget-view+json": {
       "model_id": "ffa43574312e41cb81621c83e849c554",
       "version_major": 2,
       "version_minor": 0
      },
      "text/plain": [
       "  0%|          | 0/14 [00:00<?, ?it/s]"
      ]
     },
     "metadata": {},
     "output_type": "display_data"
    },
    {
     "data": {
      "application/vnd.jupyter.widget-view+json": {
       "model_id": "3b5f92eddc69457599493c7829c672af",
       "version_major": 2,
       "version_minor": 0
      },
      "text/plain": [
       "  0%|          | 0/54 [00:00<?, ?it/s]"
      ]
     },
     "metadata": {},
     "output_type": "display_data"
    },
    {
     "data": {
      "application/vnd.jupyter.widget-view+json": {
       "model_id": "20a53dcc35c6415eb27ee608398f7877",
       "version_major": 2,
       "version_minor": 0
      },
      "text/plain": [
       "  0%|          | 0/14 [00:00<?, ?it/s]"
      ]
     },
     "metadata": {},
     "output_type": "display_data"
    },
    {
     "data": {
      "application/vnd.jupyter.widget-view+json": {
       "model_id": "2596037dc19b46ff97dc7266963ffaae",
       "version_major": 2,
       "version_minor": 0
      },
      "text/plain": [
       "  0%|          | 0/54 [00:00<?, ?it/s]"
      ]
     },
     "metadata": {},
     "output_type": "display_data"
    },
    {
     "data": {
      "application/vnd.jupyter.widget-view+json": {
       "model_id": "2865bf3017c54d34926a70808487f169",
       "version_major": 2,
       "version_minor": 0
      },
      "text/plain": [
       "  0%|          | 0/14 [00:00<?, ?it/s]"
      ]
     },
     "metadata": {},
     "output_type": "display_data"
    },
    {
     "data": {
      "application/vnd.jupyter.widget-view+json": {
       "model_id": "088ace6bf1ce4b5382d3b43ea20a4b6a",
       "version_major": 2,
       "version_minor": 0
      },
      "text/plain": [
       "  0%|          | 0/54 [00:00<?, ?it/s]"
      ]
     },
     "metadata": {},
     "output_type": "display_data"
    },
    {
     "data": {
      "application/vnd.jupyter.widget-view+json": {
       "model_id": "4b2e2d2840ef4ba1893823ce7c7334de",
       "version_major": 2,
       "version_minor": 0
      },
      "text/plain": [
       "  0%|          | 0/14 [00:00<?, ?it/s]"
      ]
     },
     "metadata": {},
     "output_type": "display_data"
    },
    {
     "data": {
      "application/vnd.jupyter.widget-view+json": {
       "model_id": "3b4817574d4f4cb0ab1f159049e1fc57",
       "version_major": 2,
       "version_minor": 0
      },
      "text/plain": [
       "  0%|          | 0/54 [00:00<?, ?it/s]"
      ]
     },
     "metadata": {},
     "output_type": "display_data"
    },
    {
     "data": {
      "application/vnd.jupyter.widget-view+json": {
       "model_id": "bc09619cf606405d9653b64689b74d72",
       "version_major": 2,
       "version_minor": 0
      },
      "text/plain": [
       "  0%|          | 0/14 [00:00<?, ?it/s]"
      ]
     },
     "metadata": {},
     "output_type": "display_data"
    },
    {
     "data": {
      "application/vnd.jupyter.widget-view+json": {
       "model_id": "8617b5042422468a9a93be59bae9555b",
       "version_major": 2,
       "version_minor": 0
      },
      "text/plain": [
       "  0%|          | 0/54 [00:00<?, ?it/s]"
      ]
     },
     "metadata": {},
     "output_type": "display_data"
    },
    {
     "data": {
      "application/vnd.jupyter.widget-view+json": {
       "model_id": "2904e0cf0bdf4861bd74e3b474e987a5",
       "version_major": 2,
       "version_minor": 0
      },
      "text/plain": [
       "  0%|          | 0/14 [00:00<?, ?it/s]"
      ]
     },
     "metadata": {},
     "output_type": "display_data"
    },
    {
     "data": {
      "application/vnd.jupyter.widget-view+json": {
       "model_id": "74d47078c65241e7be0c83e9a22ddb05",
       "version_major": 2,
       "version_minor": 0
      },
      "text/plain": [
       "  0%|          | 0/54 [00:00<?, ?it/s]"
      ]
     },
     "metadata": {},
     "output_type": "display_data"
    },
    {
     "data": {
      "application/vnd.jupyter.widget-view+json": {
       "model_id": "b90a9a74c9e64e6b8e467a6e06ca1b5e",
       "version_major": 2,
       "version_minor": 0
      },
      "text/plain": [
       "  0%|          | 0/14 [00:00<?, ?it/s]"
      ]
     },
     "metadata": {},
     "output_type": "display_data"
    },
    {
     "data": {
      "application/vnd.jupyter.widget-view+json": {
       "model_id": "6c0f6dd047fa45bab17e2acea5c42881",
       "version_major": 2,
       "version_minor": 0
      },
      "text/plain": [
       "  0%|          | 0/54 [00:00<?, ?it/s]"
      ]
     },
     "metadata": {},
     "output_type": "display_data"
    },
    {
     "data": {
      "application/vnd.jupyter.widget-view+json": {
       "model_id": "5518bd0a8ae24deea399dd34c1c7181f",
       "version_major": 2,
       "version_minor": 0
      },
      "text/plain": [
       "  0%|          | 0/14 [00:00<?, ?it/s]"
      ]
     },
     "metadata": {},
     "output_type": "display_data"
    },
    {
     "data": {
      "application/vnd.jupyter.widget-view+json": {
       "model_id": "2041ec76f9614b96919d13c1efe97794",
       "version_major": 2,
       "version_minor": 0
      },
      "text/plain": [
       "  0%|          | 0/54 [00:00<?, ?it/s]"
      ]
     },
     "metadata": {},
     "output_type": "display_data"
    },
    {
     "data": {
      "application/vnd.jupyter.widget-view+json": {
       "model_id": "56ec3fb77b5f4dc283c5b09429e4d7ea",
       "version_major": 2,
       "version_minor": 0
      },
      "text/plain": [
       "  0%|          | 0/14 [00:00<?, ?it/s]"
      ]
     },
     "metadata": {},
     "output_type": "display_data"
    },
    {
     "data": {
      "application/vnd.jupyter.widget-view+json": {
       "model_id": "d6562a29bbe141dd83f4c87eacea35b9",
       "version_major": 2,
       "version_minor": 0
      },
      "text/plain": [
       "  0%|          | 0/54 [00:00<?, ?it/s]"
      ]
     },
     "metadata": {},
     "output_type": "display_data"
    },
    {
     "data": {
      "application/vnd.jupyter.widget-view+json": {
       "model_id": "c1b7e458bcff455f98ec4daaab45cec1",
       "version_major": 2,
       "version_minor": 0
      },
      "text/plain": [
       "  0%|          | 0/14 [00:00<?, ?it/s]"
      ]
     },
     "metadata": {},
     "output_type": "display_data"
    },
    {
     "data": {
      "application/vnd.jupyter.widget-view+json": {
       "model_id": "24b9e9db5e24429b961e779677aa9001",
       "version_major": 2,
       "version_minor": 0
      },
      "text/plain": [
       "  0%|          | 0/54 [00:00<?, ?it/s]"
      ]
     },
     "metadata": {},
     "output_type": "display_data"
    },
    {
     "data": {
      "application/vnd.jupyter.widget-view+json": {
       "model_id": "4232b574872d49a3809f524e2b67b748",
       "version_major": 2,
       "version_minor": 0
      },
      "text/plain": [
       "  0%|          | 0/14 [00:00<?, ?it/s]"
      ]
     },
     "metadata": {},
     "output_type": "display_data"
    },
    {
     "data": {
      "application/vnd.jupyter.widget-view+json": {
       "model_id": "22bd68ec985a42e4888c3c88cce93b0b",
       "version_major": 2,
       "version_minor": 0
      },
      "text/plain": [
       "  0%|          | 0/54 [00:00<?, ?it/s]"
      ]
     },
     "metadata": {},
     "output_type": "display_data"
    },
    {
     "data": {
      "application/vnd.jupyter.widget-view+json": {
       "model_id": "4517656fb8b74eacab777f247af7b0eb",
       "version_major": 2,
       "version_minor": 0
      },
      "text/plain": [
       "  0%|          | 0/14 [00:00<?, ?it/s]"
      ]
     },
     "metadata": {},
     "output_type": "display_data"
    },
    {
     "data": {
      "application/vnd.jupyter.widget-view+json": {
       "model_id": "e6570490ddc64de7b4771a33e0a50304",
       "version_major": 2,
       "version_minor": 0
      },
      "text/plain": [
       "  0%|          | 0/54 [00:00<?, ?it/s]"
      ]
     },
     "metadata": {},
     "output_type": "display_data"
    },
    {
     "data": {
      "application/vnd.jupyter.widget-view+json": {
       "model_id": "325d7e1ff2fa48e6b940a13fc89d359f",
       "version_major": 2,
       "version_minor": 0
      },
      "text/plain": [
       "  0%|          | 0/14 [00:00<?, ?it/s]"
      ]
     },
     "metadata": {},
     "output_type": "display_data"
    },
    {
     "data": {
      "application/vnd.jupyter.widget-view+json": {
       "model_id": "3766130154da4da081d3068b19ea10a8",
       "version_major": 2,
       "version_minor": 0
      },
      "text/plain": [
       "  0%|          | 0/54 [00:00<?, ?it/s]"
      ]
     },
     "metadata": {},
     "output_type": "display_data"
    },
    {
     "data": {
      "application/vnd.jupyter.widget-view+json": {
       "model_id": "30a57696028e4c2b99743d98876a9af0",
       "version_major": 2,
       "version_minor": 0
      },
      "text/plain": [
       "  0%|          | 0/14 [00:00<?, ?it/s]"
      ]
     },
     "metadata": {},
     "output_type": "display_data"
    },
    {
     "data": {
      "application/vnd.jupyter.widget-view+json": {
       "model_id": "680547a52df84c3aa6c46e23183b8791",
       "version_major": 2,
       "version_minor": 0
      },
      "text/plain": [
       "  0%|          | 0/54 [00:00<?, ?it/s]"
      ]
     },
     "metadata": {},
     "output_type": "display_data"
    },
    {
     "data": {
      "application/vnd.jupyter.widget-view+json": {
       "model_id": "427c0a1ca3ed408a96fee3db04515076",
       "version_major": 2,
       "version_minor": 0
      },
      "text/plain": [
       "  0%|          | 0/14 [00:00<?, ?it/s]"
      ]
     },
     "metadata": {},
     "output_type": "display_data"
    },
    {
     "data": {
      "application/vnd.jupyter.widget-view+json": {
       "model_id": "691118f8327d4913910f5dfcaec0fde3",
       "version_major": 2,
       "version_minor": 0
      },
      "text/plain": [
       "  0%|          | 0/54 [00:00<?, ?it/s]"
      ]
     },
     "metadata": {},
     "output_type": "display_data"
    },
    {
     "data": {
      "application/vnd.jupyter.widget-view+json": {
       "model_id": "a27efd7176eb4752aa9d9ba474b0cd6f",
       "version_major": 2,
       "version_minor": 0
      },
      "text/plain": [
       "  0%|          | 0/14 [00:00<?, ?it/s]"
      ]
     },
     "metadata": {},
     "output_type": "display_data"
    },
    {
     "data": {
      "application/vnd.jupyter.widget-view+json": {
       "model_id": "4cc183298d4d4ce7884ca17e4c58d61a",
       "version_major": 2,
       "version_minor": 0
      },
      "text/plain": [
       "  0%|          | 0/54 [00:00<?, ?it/s]"
      ]
     },
     "metadata": {},
     "output_type": "display_data"
    },
    {
     "data": {
      "application/vnd.jupyter.widget-view+json": {
       "model_id": "e6561a69d0b942cf89a99eddde7234f2",
       "version_major": 2,
       "version_minor": 0
      },
      "text/plain": [
       "  0%|          | 0/14 [00:00<?, ?it/s]"
      ]
     },
     "metadata": {},
     "output_type": "display_data"
    }
   ],
   "source": [
    "# optimize NN weights\n",
    "n_epochs = 20\n",
    "n_events = len(train_loader)\n",
    "\n",
    "# define loss and configure optimizer\n",
    "loss_fn = nn.HuberLoss(reduction='sum')\n",
    "#loss_fn = mse_loss_regularized\n",
    "\n",
    "optimizer = torch.optim.AdamW(model.parameters(), lr=1e-2, weight_decay=1e-3)\n",
    "#optimizer = torch.optim.SGD(model.parameters(), lr=1e-3)\n",
    "tb_writer = SummaryWriter(log_dir='logs')\n",
    "\n",
    "pbar1 = tqdm(range(n_epochs), total=n_epochs, leave=False, position=0)\n",
    "pbar1.set_postfix({'avg. loss':'?'})\n",
    "loss_cache = []\n",
    "for iepoch in pbar1:\n",
    "    model.train()\n",
    "    pbar2 = tqdm(train_loader, total=n_events, leave=False, position=1)\n",
    "    pbar2.set_postfix({'loss':'?'})\n",
    "    avg_loss = 0\n",
    "    for jevent, (features, module_key) in enumerate(pbar2):\n",
    "        #features = features.unsqueeze(1).to(device)\n",
    "        features = features.to(device)\n",
    "        #targets = targets.to(device)\n",
    "        optimizer.zero_grad()\n",
    "        features_pred = model(features, module_key)\n",
    "        loss = loss_fn(torch.log(1. + features_pred), torch.log(1. + features))\n",
    "        loss.backward()\n",
    "        optimizer.step()\n",
    "        \n",
    "        #pbar2.set_postfix({'loss':f'{loss.item():.3f}'})\n",
    "        #tb_writer.add_scalar('training loss', loss.item(), iepoch*n_events + jevent)\n",
    "        \n",
    "        avg_loss += loss.item()\n",
    "        if jevent%1000 == 0:\n",
    "            avg_loss /= 1000\n",
    "            pbar2.set_postfix({'loss':f'{loss.item():.3f}'})\n",
    "            #tb_writer.add_scalar('training loss', avg_loss, iepoch*(n_events//1000) + jevent/1000)\n",
    "            tb_writer.add_scalar('training loss', loss.item(), iepoch*(n_events//1000) + jevent/1000)\n",
    "            avg_loss = 0\n",
    "        \n",
    "    with torch.no_grad():\n",
    "        model.eval()\n",
    "        test_loss = 0\n",
    "        n_test_events = len(test_loader)\n",
    "        for features, module_keys in tqdm(test_loader, total=n_test_events, leave=False):\n",
    "            features = features.to(device)\n",
    "            #targets = targets.to(device)\n",
    "            features_pred = model(features, module_keys)\n",
    "            #tqdm.write(features_pred.shape, features.shape)\n",
    "            test_loss += loss_fn(torch.log(1. + features_pred), torch.log(1. + features))\n",
    "            loss_cache.append(test_loss.item())\n",
    "            \n",
    "            \n",
    "        avg_loss = test_loss.item()/n_test_events\n",
    "        pbar1.set_postfix({'avg loss':f'{avg_loss:.3f}'})\n",
    "        tb_writer.add_scalar('test loss', avg_loss, iepoch)\n",
    "        #tb_writer.add_graph(model, features)\n",
    "        \n",
    "        #images = torchvision.utils.make_grid(features)\n",
    "        #images_pred = torchvision.utils.make_grid(features_pred)\n",
    "        #tb_writer.add_image('input', images)\n",
    "        #tb_writer.add_image('output', images_pred)\n",
    "        \n",
    "        # write a checkpoint based on the performance of the model\n",
    "\n"
   ]
  },
  {
   "cell_type": "code",
   "execution_count": 202,
   "metadata": {},
   "outputs": [
    {
     "ename": "AttributeError",
     "evalue": "'list' object has no attribute 'unsqueeze'",
     "output_type": "error",
     "traceback": [
      "\u001b[0;31m---------------------------------------------------------------------------\u001b[0m",
      "\u001b[0;31mAttributeError\u001b[0m                            Traceback (most recent call last)",
      "Input \u001b[0;32mIn [202]\u001b[0m, in \u001b[0;36m<module>\u001b[0;34m\u001b[0m\n\u001b[1;32m      7\u001b[0m fig, axes \u001b[38;5;241m=\u001b[39m plt\u001b[38;5;241m.\u001b[39msubplots(\u001b[38;5;241m3\u001b[39m, \u001b[38;5;241m8\u001b[39m, facecolor\u001b[38;5;241m=\u001b[39m\u001b[38;5;124m'\u001b[39m\u001b[38;5;124mwhite\u001b[39m\u001b[38;5;124m'\u001b[39m, figsize\u001b[38;5;241m=\u001b[39m(\u001b[38;5;241m12\u001b[39m, \u001b[38;5;241m5\u001b[39m), sharey\u001b[38;5;241m=\u001b[39m\u001b[38;5;28;01mFalse\u001b[39;00m, sharex\u001b[38;5;241m=\u001b[39m\u001b[38;5;28;01mFalse\u001b[39;00m)\n\u001b[1;32m      8\u001b[0m images \u001b[38;5;241m=\u001b[39m \u001b[38;5;28miter\u001b[39m(test_loader)\u001b[38;5;241m.\u001b[39mnext()\n\u001b[0;32m----> 9\u001b[0m images \u001b[38;5;241m=\u001b[39m \u001b[43mimages\u001b[49m\u001b[38;5;241;43m.\u001b[39;49m\u001b[43munsqueeze\u001b[49m(\u001b[38;5;241m1\u001b[39m)\u001b[38;5;241m.\u001b[39mto(device)\n\u001b[1;32m     10\u001b[0m images_pred \u001b[38;5;241m=\u001b[39m model(images, \u001b[38;5;124m'\u001b[39m\u001b[38;5;124m(1, 1)\u001b[39m\u001b[38;5;124m'\u001b[39m)\n\u001b[1;32m     11\u001b[0m \u001b[38;5;66;03m#encoded_images = model.encoder_dict['1 1'](images)\u001b[39;00m\n",
      "\u001b[0;31mAttributeError\u001b[0m: 'list' object has no attribute 'unsqueeze'"
     ]
    },
    {
     "data": {
      "image/png": "[encoded data removed]",
      "text/plain": [
       "<Figure size 1200x500 with 24 Axes>"
      ]
     },
     "metadata": {},
     "output_type": "display_data"
    }
   ],
   "source": [
    "# compare images\n",
    "from matplotlib.colors import LogNorm\n",
    "\n",
    "with torch.no_grad():\n",
    "    model.eval()\n",
    "    \n",
    "    fig, axes = plt.subplots(3, 8, facecolor='white', figsize=(12, 5), sharey=False, sharex=False)\n",
    "    images = iter(test_loader).next()\n",
    "    images = images.unsqueeze(1).to(device)\n",
    "    images_pred = model(images, '(1, 1)')\n",
    "    #encoded_images = model.encoder_dict['1 1'](images)\n",
    "    encoded_images = model.encode(images, '(1, 1)')\n",
    "    for ix, (image, encoded_image, image_pred) in enumerate(zip(images, encoded_images, images_pred)):\n",
    "        image = image.squeeze().cpu().numpy()\n",
    "        encoded_image = encoded_image.squeeze().cpu().numpy()\n",
    "        image_pred = image_pred.squeeze().cpu().numpy().reshape(image.shape)\n",
    "        energy_corr = image.sum()/image_pred.sum()\n",
    "        image_pred *= energy_corr\n",
    "        \n",
    "        ax = axes[0][ix]\n",
    "        ax.imshow(image, norm=LogNorm(vmin=0.1, vmax=100))\n",
    "        ax.set_xticks([])\n",
    "        ax.set_yticks([])\n",
    "        if ix == 0:\n",
    "            ax.set_ylabel('input')\n",
    "        \n",
    "        ax = axes[1][ix]\n",
    "        ax.imshow(encoded_image.reshape(-1, 2), norm=LogNorm(vmin=0.1, vmax=100))\n",
    "        ax.set_xticks([])\n",
    "        ax.set_yticks([])\n",
    "        if ix == 0:\n",
    "            ax.set_ylabel('encoded')\n",
    "            \n",
    "        ax = axes[2][ix]\n",
    "        ax.imshow(image_pred*energy_corr, norm=LogNorm(vmin=0.1, vmax=100))\n",
    "        ax.set_xticks([])\n",
    "        ax.set_yticks([])\n",
    "        if ix == 0:\n",
    "            ax.set_ylabel('output')\n",
    "        \n",
    "        #ax = axes[3][ix]\n",
    "        #image[image ==  0] = 0.1\n",
    "        #ax.imshow(abs(image - image_pred)/image, cmap='coolwarm')\n",
    "        #ax.set_xticks([])\n",
    "        #ax.set_yticks([])\n",
    "        #if ix == 0:\n",
    "        #    ax.set_ylabel('input - output')\n",
    "            \n",
    "        #plt.colorbar()\n",
    "        \n",
    "        if ix == 9: break\n",
    "\n",
    "    plt.tight_layout()\n",
    "    plt.savefig(f'plots/ae_encoding_comparisons_modular_{scenario}.png')\n",
    "    plt.show()"
   ]
  },
  {
   "cell_type": "code",
   "execution_count": null,
   "metadata": {},
   "outputs": [],
   "source": [
    "# Plot the the total error for both total energy and \n",
    "energy_diff = []\n",
    "energy_sums = []\n",
    "with torch.no_grad():\n",
    "    model.eval()\n",
    "    test_loss = 0\n",
    "    n_test_events = len(test_loader)\n",
    "    for features in tqdm(test_loader, total=n_test_events, leave=False):\n",
    "        features = features.unsqueeze(1).to(device)\n",
    "        #targets = targets.to(device)\n",
    "        features_pred = model(features, '(1, 1)').squeeze()\n",
    "        features = features.squeeze()\n",
    "        e_sum = features.sum(dim=(1, 2))\n",
    "        e_sum_pred = features_pred.sum(dim=(1, 2))\n",
    "        #energy_sum_pred = features_pred.squeeze()\n",
    "        \n",
    "        diff = e_sum_pred - e_sum\n",
    "        energy_diff.append(diff.cpu().numpy())\n",
    "        energy_sums.append(e_sum.cpu().numpy())\n",
    "\n",
    "energy_diff = np.hstack(energy_diff)\n",
    "energy_sums = np.hstack(energy_sums)\n",
    "\n",
    "fig, axes = plt.subplots(1, 2, figsize=(12, 6))\n",
    "ax = axes[0]\n",
    "frac_energy_diff = energy_diff/energy_sums\n",
    "ax.hist(frac_energy_diff, bins=30, density=True)\n",
    "ax.set_xlabel(r'$\\frac{E_{pred} - E_{true}}{E_{true}}$')\n",
    "ax.set_ylabel('Density')\n",
    "ax.text(0.6, 0.8, f' mean = {frac_energy_diff.mean():.2f} \\n std. err. = {frac_energy_diff.std():.2f}', transform=ax.transAxes)\n",
    "\n",
    "ax = axes[1]\n",
    "ax.hexbin(energy_sums, frac_energy_diff, gridsize=30, mincnt=1, norm=LogNorm())\n",
    "ax.set_ylabel(r'$\\frac{E_{pred} - E_{true}}{E_{true}}$', size=16)\n",
    "ax.set_xlabel(r'$E_{true}$')\n",
    "\n",
    "\n",
    "plt.tight_layout()\n",
    "plt.savefig(f'plots/ae_energy_resolution_{scenario}.png')\n",
    "plt.show()"
   ]
  },
  {
   "cell_type": "code",
   "execution_count": null,
   "metadata": {},
   "outputs": [],
   "source": [
    "# Scan over decoder\n",
    "\n",
    "with torch.no_grad():\n",
    "    model.eval()\n",
    "    \n",
    "    fig, axes = plt.subplots(8, 10, facecolor='white', figsize=(12, 5), sharey=False, sharex=False)\n",
    "    for i in range(8):\n",
    "        test_values = np.linspace(-10, 10, 10)\n",
    "        test_values = \n",
    "        images = images.unsqueeze(1).to(device)\n",
    "        images_pred = model.decode(images)\n",
    "            image = image.squeeze().cpu().numpy()\n",
    "            encoded_image = encoded_image.squeeze().cpu().numpy()\n",
    "            image_pred = image_pred.squeeze().cpu().numpy().reshape(image.shape)\n",
    "            energy_corr = image.sum()/image_pred.sum()\n",
    "            image_pred *= energy_corr\n",
    "\n",
    "            ax = axes[0][ix]\n",
    "            ax.imshow(image, norm=LogNorm(vmin=0.1, vmax=100))\n",
    "            ax.set_xticks([])\n",
    "            ax.set_yticks([])\n",
    "            if ix == 0:\n",
    "                ax.set_ylabel('input')\n",
    "\n",
    "            ax = axes[1][ix]\n",
    "            ax.imshow(encoded_image.reshape(-1, 2), norm=LogNorm(vmin=0.1, vmax=100))\n",
    "            ax.set_xticks([])\n",
    "            ax.set_yticks([])\n",
    "            if ix == 0:\n",
    "                ax.set_ylabel('encoded')\n",
    "\n",
    "            ax = axes[2][ix]\n",
    "            ax.imshow(image_pred*energy_corr, norm=LogNorm(vmin=0.1, vmax=100))\n",
    "            ax.set_xticks([])\n",
    "            ax.set_yticks([])\n",
    "            if ix == 0:\n",
    "                ax.set_ylabel('output')\n",
    "\n",
    "            #ax = axes[3][ix]\n",
    "            #image[image ==  0] = 0.1\n",
    "            #ax.imshow(abs(image - image_pred)/image, cmap='coolwarm')\n",
    "            #ax.set_xticks([])\n",
    "            #ax.set_yticks([])\n",
    "            #if ix == 0:\n",
    "            #    ax.set_ylabel('input - output')\n",
    "\n",
    "            #plt.colorbar()\n",
    "\n",
    "            if ix == 9: break\n",
    "\n",
    "    plt.tight_layout()\n",
    "    plt.savefig(f'plots/ae_encoding_comparisons_modular_{scenario}.png')\n",
    "    plt.show()"
   ]
  },
  {
   "cell_type": "code",
   "execution_count": null,
   "metadata": {},
   "outputs": [],
   "source": []
  }
 ],
 "metadata": {
  "hide_input": false,
  "kernelspec": {
   "display_name": "Python 3",
   "language": "python",
   "name": "python3"
  },
  "language_info": {
   "codemirror_mode": {
    "name": "ipython",
    "version": 3
   },
   "file_extension": ".py",
   "mimetype": "text/x-python",
   "name": "python",
   "nbconvert_exporter": "python",
   "pygments_lexer": "ipython3",
   "version": "3.8.11"
  },
  "latex_envs": {
   "LaTeX_envs_menu_present": true,
   "autocomplete": true,
   "bibliofile": "biblio.bib",
   "cite_by": "apalike",
   "current_citInitial": 1,
   "eqLabelWithNumbers": true,
   "eqNumInitial": 0,
   "hotkeys": {
    "equation": "Ctrl-E",
    "itemize": "Ctrl-I"
   },
   "labels_anchors": false,
   "latex_user_defs": false,
   "report_style_numbering": false,
   "user_envs_cfg": false
  },
  "toc": {
   "nav_menu": {
    "height": "4px",
    "width": "254px"
   },
   "navigate_menu": true,
   "number_sections": true,
   "sideBar": true,
   "threshold": 4,
   "toc_cell": false,
   "toc_section_display": "block",
   "toc_window_display": false
  },
  "varInspector": {
   "cols": {
    "lenName": 16,
    "lenType": 16,
    "lenVar": 40
   },
   "kernels_config": {
    "python": {
     "delete_cmd_postfix": "",
     "delete_cmd_prefix": "del ",
     "library": "var_list.py",
     "varRefreshCmd": "print(var_dic_list())"
    },
    "r": {
     "delete_cmd_postfix": ") ",
     "delete_cmd_prefix": "rm(",
     "library": "var_list.r",
     "varRefreshCmd": "cat(var_dic_list()) "
    }
   },
   "types_to_exclude": [
    "module",
    "function",
    "builtin_function_or_method",
    "instance",
    "_Feature"
   ],
   "window_display": false
  }
 },
 "nbformat": 4,
 "nbformat_minor": 4
}
