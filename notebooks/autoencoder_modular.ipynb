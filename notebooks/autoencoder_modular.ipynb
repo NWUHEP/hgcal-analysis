{
 "cells": [
  {
   "cell_type": "code",
   "execution_count": 1,
   "metadata": {
    "code_folding": []
   },
   "outputs": [
    {
     "name": "stdout",
     "output_type": "stream",
     "text": [
      "/home/naodell/work/hgcal/analysis\n"
     ]
    }
   ],
   "source": [
    "# imports and setup\n",
    "%load_ext autoreload\n",
    "%autoreload 2\n",
    "%cd '/home/naodell/work/hgcal/analysis'"
   ]
  },
  {
   "cell_type": "code",
   "execution_count": 2,
   "metadata": {
    "code_folding": []
   },
   "outputs": [],
   "source": [
    "import os\n",
    "import pickle\n",
    "from pathlib import Path\n",
    "import pandas as pd\n",
    "import numpy as np\n",
    "import matplotlib.pyplot as plt\n",
    "import matplotlib\n",
    "matplotlib.style.use('default')\n",
    "\n",
    "import torch\n",
    "from torch import nn\n",
    "from torch.utils.data import DataLoader\n",
    "from torch.utils.tensorboard import SummaryWriter\n",
    "from torchvision import datasets, transforms\n",
    "from sklearn import preprocessing\n",
    "import seaborn as sns\n",
    "from tqdm.notebook import tqdm, trange\n",
    "\n",
    "from models.autoencoder import AutoEncoderModular, AutoEncoderModularConnected\n",
    "from models.loss import mse_loss_regularized\n",
    "from datasets.hgcal_tc_dataset import HGCalTCModuleDictDataset\n",
    "\n",
    "#%connect_info"
   ]
  },
  {
   "cell_type": "code",
   "execution_count": 3,
   "metadata": {
    "code_folding": [
     0
    ]
   },
   "outputs": [
    {
     "name": "stdout",
     "output_type": "stream",
     "text": [
      "Total number of events: 19114\n"
     ]
    }
   ],
   "source": [
    "# get the data\n",
    "input_dir = 'local_data/econ_training_data/single_photon_data/'\n",
    "input_filenames = [f'{input_dir}/{f}' for f in os.listdir(input_dir)]\n",
    "hgcal_data = HGCalTCModuleDictDataset(input_filenames)\n",
    "\n",
    "# sample from dataframe according to event weights; split into testing and training sets\n",
    "device = 'cuda' if torch.cuda.is_available() else 'cpu'\n",
    "\n",
    "# training sample\n",
    "batch_size = 16\n",
    "n_total = len(hgcal_data)\n",
    "split = round(0.8*n_total)\n",
    "train_loader = DataLoader(hgcal_data[:split],  batch_size=batch_size, shuffle=True, pin_memory=True)\n",
    "test_loader = DataLoader(hgcal_data[split:],  batch_size=batch_size, shuffle=True, pin_memory=True)\n",
    "print(f'Total number of events: {n_total}')"
   ]
  },
  {
   "cell_type": "code",
   "execution_count": 4,
   "metadata": {
    "code_folding": [],
    "scrolled": true,
    "tags": []
   },
   "outputs": [
    {
     "name": "stdout",
     "output_type": "stream",
     "text": [
      "cuda\n",
      "AutoEncoderModularConnected(\n",
      "  (encoder): ModuleDict(\n",
      "    (0): WaferEncoder(\n",
      "      (conv2d): Conv2d(14, 112, kernel_size=(3, 3), stride=(1, 1), padding=(1, 1), groups=14, bias=False)\n",
      "      (act_conv): ReLU()\n",
      "      (pool): MaxPool2d(kernel_size=2, stride=2, padding=0, dilation=1, ceil_mode=False)\n",
      "      (dense_layers): ModuleList(\n",
      "        (0): Sequential(\n",
      "          (0): Linear(in_features=128, out_features=16, bias=True)\n",
      "          (1): ReLU()\n",
      "        )\n",
      "        (1): Sequential(\n",
      "          (0): Linear(in_features=128, out_features=16, bias=True)\n",
      "          (1): ReLU()\n",
      "        )\n",
      "        (2): Sequential(\n",
      "          (0): Linear(in_features=128, out_features=16, bias=True)\n",
      "          (1): ReLU()\n",
      "        )\n",
      "        (3): Sequential(\n",
      "          (0): Linear(in_features=128, out_features=16, bias=True)\n",
      "          (1): ReLU()\n",
      "        )\n",
      "        (4): Sequential(\n",
      "          (0): Linear(in_features=128, out_features=16, bias=True)\n",
      "          (1): ReLU()\n",
      "        )\n",
      "        (5): Sequential(\n",
      "          (0): Linear(in_features=128, out_features=16, bias=True)\n",
      "          (1): ReLU()\n",
      "        )\n",
      "        (6): Sequential(\n",
      "          (0): Linear(in_features=128, out_features=16, bias=True)\n",
      "          (1): ReLU()\n",
      "        )\n",
      "        (7): Sequential(\n",
      "          (0): Linear(in_features=128, out_features=16, bias=True)\n",
      "          (1): ReLU()\n",
      "        )\n",
      "        (8): Sequential(\n",
      "          (0): Linear(in_features=128, out_features=16, bias=True)\n",
      "          (1): ReLU()\n",
      "        )\n",
      "        (9): Sequential(\n",
      "          (0): Linear(in_features=128, out_features=16, bias=True)\n",
      "          (1): ReLU()\n",
      "        )\n",
      "        (10): Sequential(\n",
      "          (0): Linear(in_features=128, out_features=16, bias=True)\n",
      "          (1): ReLU()\n",
      "        )\n",
      "        (11): Sequential(\n",
      "          (0): Linear(in_features=128, out_features=16, bias=True)\n",
      "          (1): ReLU()\n",
      "        )\n",
      "        (12): Sequential(\n",
      "          (0): Linear(in_features=128, out_features=16, bias=True)\n",
      "          (1): ReLU()\n",
      "        )\n",
      "        (13): Sequential(\n",
      "          (0): Linear(in_features=128, out_features=16, bias=True)\n",
      "          (1): ReLU()\n",
      "        )\n",
      "      )\n",
      "    )\n",
      "    (1): WaferEncoder(\n",
      "      (conv2d): Conv2d(14, 112, kernel_size=(3, 3), stride=(1, 1), padding=(1, 1), groups=14, bias=False)\n",
      "      (act_conv): ReLU()\n",
      "      (pool): MaxPool2d(kernel_size=2, stride=2, padding=0, dilation=1, ceil_mode=False)\n",
      "      (dense_layers): ModuleList(\n",
      "        (0): Sequential(\n",
      "          (0): Linear(in_features=128, out_features=16, bias=True)\n",
      "          (1): ReLU()\n",
      "        )\n",
      "        (1): Sequential(\n",
      "          (0): Linear(in_features=128, out_features=16, bias=True)\n",
      "          (1): ReLU()\n",
      "        )\n",
      "        (2): Sequential(\n",
      "          (0): Linear(in_features=128, out_features=16, bias=True)\n",
      "          (1): ReLU()\n",
      "        )\n",
      "        (3): Sequential(\n",
      "          (0): Linear(in_features=128, out_features=16, bias=True)\n",
      "          (1): ReLU()\n",
      "        )\n",
      "        (4): Sequential(\n",
      "          (0): Linear(in_features=128, out_features=16, bias=True)\n",
      "          (1): ReLU()\n",
      "        )\n",
      "        (5): Sequential(\n",
      "          (0): Linear(in_features=128, out_features=16, bias=True)\n",
      "          (1): ReLU()\n",
      "        )\n",
      "        (6): Sequential(\n",
      "          (0): Linear(in_features=128, out_features=16, bias=True)\n",
      "          (1): ReLU()\n",
      "        )\n",
      "        (7): Sequential(\n",
      "          (0): Linear(in_features=128, out_features=16, bias=True)\n",
      "          (1): ReLU()\n",
      "        )\n",
      "        (8): Sequential(\n",
      "          (0): Linear(in_features=128, out_features=16, bias=True)\n",
      "          (1): ReLU()\n",
      "        )\n",
      "        (9): Sequential(\n",
      "          (0): Linear(in_features=128, out_features=16, bias=True)\n",
      "          (1): ReLU()\n",
      "        )\n",
      "        (10): Sequential(\n",
      "          (0): Linear(in_features=128, out_features=16, bias=True)\n",
      "          (1): ReLU()\n",
      "        )\n",
      "        (11): Sequential(\n",
      "          (0): Linear(in_features=128, out_features=16, bias=True)\n",
      "          (1): ReLU()\n",
      "        )\n",
      "        (12): Sequential(\n",
      "          (0): Linear(in_features=128, out_features=16, bias=True)\n",
      "          (1): ReLU()\n",
      "        )\n",
      "        (13): Sequential(\n",
      "          (0): Linear(in_features=128, out_features=16, bias=True)\n",
      "          (1): ReLU()\n",
      "        )\n",
      "      )\n",
      "    )\n",
      "    (2): WaferEncoder(\n",
      "      (conv2d): Conv2d(14, 112, kernel_size=(3, 3), stride=(1, 1), padding=(1, 1), groups=14, bias=False)\n",
      "      (act_conv): ReLU()\n",
      "      (pool): MaxPool2d(kernel_size=2, stride=2, padding=0, dilation=1, ceil_mode=False)\n",
      "      (dense_layers): ModuleList(\n",
      "        (0): Sequential(\n",
      "          (0): Linear(in_features=128, out_features=16, bias=True)\n",
      "          (1): ReLU()\n",
      "        )\n",
      "        (1): Sequential(\n",
      "          (0): Linear(in_features=128, out_features=16, bias=True)\n",
      "          (1): ReLU()\n",
      "        )\n",
      "        (2): Sequential(\n",
      "          (0): Linear(in_features=128, out_features=16, bias=True)\n",
      "          (1): ReLU()\n",
      "        )\n",
      "        (3): Sequential(\n",
      "          (0): Linear(in_features=128, out_features=16, bias=True)\n",
      "          (1): ReLU()\n",
      "        )\n",
      "        (4): Sequential(\n",
      "          (0): Linear(in_features=128, out_features=16, bias=True)\n",
      "          (1): ReLU()\n",
      "        )\n",
      "        (5): Sequential(\n",
      "          (0): Linear(in_features=128, out_features=16, bias=True)\n",
      "          (1): ReLU()\n",
      "        )\n",
      "        (6): Sequential(\n",
      "          (0): Linear(in_features=128, out_features=16, bias=True)\n",
      "          (1): ReLU()\n",
      "        )\n",
      "        (7): Sequential(\n",
      "          (0): Linear(in_features=128, out_features=16, bias=True)\n",
      "          (1): ReLU()\n",
      "        )\n",
      "        (8): Sequential(\n",
      "          (0): Linear(in_features=128, out_features=16, bias=True)\n",
      "          (1): ReLU()\n",
      "        )\n",
      "        (9): Sequential(\n",
      "          (0): Linear(in_features=128, out_features=16, bias=True)\n",
      "          (1): ReLU()\n",
      "        )\n",
      "        (10): Sequential(\n",
      "          (0): Linear(in_features=128, out_features=16, bias=True)\n",
      "          (1): ReLU()\n",
      "        )\n",
      "        (11): Sequential(\n",
      "          (0): Linear(in_features=128, out_features=16, bias=True)\n",
      "          (1): ReLU()\n",
      "        )\n",
      "        (12): Sequential(\n",
      "          (0): Linear(in_features=128, out_features=16, bias=True)\n",
      "          (1): ReLU()\n",
      "        )\n",
      "        (13): Sequential(\n",
      "          (0): Linear(in_features=128, out_features=16, bias=True)\n",
      "          (1): ReLU()\n",
      "        )\n",
      "      )\n",
      "    )\n",
      "    (3): WaferEncoder(\n",
      "      (conv2d): Conv2d(14, 112, kernel_size=(3, 3), stride=(1, 1), padding=(1, 1), groups=14, bias=False)\n",
      "      (act_conv): ReLU()\n",
      "      (pool): MaxPool2d(kernel_size=2, stride=2, padding=0, dilation=1, ceil_mode=False)\n",
      "      (dense_layers): ModuleList(\n",
      "        (0): Sequential(\n",
      "          (0): Linear(in_features=128, out_features=16, bias=True)\n",
      "          (1): ReLU()\n",
      "        )\n",
      "        (1): Sequential(\n",
      "          (0): Linear(in_features=128, out_features=16, bias=True)\n",
      "          (1): ReLU()\n",
      "        )\n",
      "        (2): Sequential(\n",
      "          (0): Linear(in_features=128, out_features=16, bias=True)\n",
      "          (1): ReLU()\n",
      "        )\n",
      "        (3): Sequential(\n",
      "          (0): Linear(in_features=128, out_features=16, bias=True)\n",
      "          (1): ReLU()\n",
      "        )\n",
      "        (4): Sequential(\n",
      "          (0): Linear(in_features=128, out_features=16, bias=True)\n",
      "          (1): ReLU()\n",
      "        )\n",
      "        (5): Sequential(\n",
      "          (0): Linear(in_features=128, out_features=16, bias=True)\n",
      "          (1): ReLU()\n",
      "        )\n",
      "        (6): Sequential(\n",
      "          (0): Linear(in_features=128, out_features=16, bias=True)\n",
      "          (1): ReLU()\n",
      "        )\n",
      "        (7): Sequential(\n",
      "          (0): Linear(in_features=128, out_features=16, bias=True)\n",
      "          (1): ReLU()\n",
      "        )\n",
      "        (8): Sequential(\n",
      "          (0): Linear(in_features=128, out_features=16, bias=True)\n",
      "          (1): ReLU()\n",
      "        )\n",
      "        (9): Sequential(\n",
      "          (0): Linear(in_features=128, out_features=16, bias=True)\n",
      "          (1): ReLU()\n",
      "        )\n",
      "        (10): Sequential(\n",
      "          (0): Linear(in_features=128, out_features=16, bias=True)\n",
      "          (1): ReLU()\n",
      "        )\n",
      "        (11): Sequential(\n",
      "          (0): Linear(in_features=128, out_features=16, bias=True)\n",
      "          (1): ReLU()\n",
      "        )\n",
      "        (12): Sequential(\n",
      "          (0): Linear(in_features=128, out_features=16, bias=True)\n",
      "          (1): ReLU()\n",
      "        )\n",
      "        (13): Sequential(\n",
      "          (0): Linear(in_features=128, out_features=16, bias=True)\n",
      "          (1): ReLU()\n",
      "        )\n",
      "      )\n",
      "    )\n",
      "    (4): WaferEncoder(\n",
      "      (conv2d): Conv2d(14, 112, kernel_size=(3, 3), stride=(1, 1), padding=(1, 1), groups=14, bias=False)\n",
      "      (act_conv): ReLU()\n",
      "      (pool): MaxPool2d(kernel_size=2, stride=2, padding=0, dilation=1, ceil_mode=False)\n",
      "      (dense_layers): ModuleList(\n",
      "        (0): Sequential(\n",
      "          (0): Linear(in_features=128, out_features=16, bias=True)\n",
      "          (1): ReLU()\n",
      "        )\n",
      "        (1): Sequential(\n",
      "          (0): Linear(in_features=128, out_features=16, bias=True)\n",
      "          (1): ReLU()\n",
      "        )\n",
      "        (2): Sequential(\n",
      "          (0): Linear(in_features=128, out_features=16, bias=True)\n",
      "          (1): ReLU()\n",
      "        )\n",
      "        (3): Sequential(\n",
      "          (0): Linear(in_features=128, out_features=16, bias=True)\n",
      "          (1): ReLU()\n",
      "        )\n",
      "        (4): Sequential(\n",
      "          (0): Linear(in_features=128, out_features=16, bias=True)\n",
      "          (1): ReLU()\n",
      "        )\n",
      "        (5): Sequential(\n",
      "          (0): Linear(in_features=128, out_features=16, bias=True)\n",
      "          (1): ReLU()\n",
      "        )\n",
      "        (6): Sequential(\n",
      "          (0): Linear(in_features=128, out_features=16, bias=True)\n",
      "          (1): ReLU()\n",
      "        )\n",
      "        (7): Sequential(\n",
      "          (0): Linear(in_features=128, out_features=16, bias=True)\n",
      "          (1): ReLU()\n",
      "        )\n",
      "        (8): Sequential(\n",
      "          (0): Linear(in_features=128, out_features=16, bias=True)\n",
      "          (1): ReLU()\n",
      "        )\n",
      "        (9): Sequential(\n",
      "          (0): Linear(in_features=128, out_features=16, bias=True)\n",
      "          (1): ReLU()\n",
      "        )\n",
      "        (10): Sequential(\n",
      "          (0): Linear(in_features=128, out_features=16, bias=True)\n",
      "          (1): ReLU()\n",
      "        )\n",
      "        (11): Sequential(\n",
      "          (0): Linear(in_features=128, out_features=16, bias=True)\n",
      "          (1): ReLU()\n",
      "        )\n",
      "        (12): Sequential(\n",
      "          (0): Linear(in_features=128, out_features=16, bias=True)\n",
      "          (1): ReLU()\n",
      "        )\n",
      "        (13): Sequential(\n",
      "          (0): Linear(in_features=128, out_features=16, bias=True)\n",
      "          (1): ReLU()\n",
      "        )\n",
      "      )\n",
      "    )\n",
      "  )\n",
      "  (decoder): ModuleDict(\n",
      "    (0): WaferDecoderLayers(\n",
      "      (dense_layers): Sequential(\n",
      "        (0): Linear(in_features=224, out_features=224, bias=True)\n",
      "        (1): ReLU()\n",
      "        (2): Linear(in_features=224, out_features=3584, bias=True)\n",
      "        (3): ReLU()\n",
      "      )\n",
      "      (tconv2d): ConvTranspose2d(224, 14, kernel_size=(3, 3), stride=(2, 2), padding=(1, 1), output_padding=(1, 1), groups=14)\n",
      "      (act_tconv): ReLU()\n",
      "    )\n",
      "    (1): WaferDecoderLayers(\n",
      "      (dense_layers): Sequential(\n",
      "        (0): Linear(in_features=224, out_features=224, bias=True)\n",
      "        (1): ReLU()\n",
      "        (2): Linear(in_features=224, out_features=3584, bias=True)\n",
      "        (3): ReLU()\n",
      "      )\n",
      "      (tconv2d): ConvTranspose2d(224, 14, kernel_size=(3, 3), stride=(2, 2), padding=(1, 1), output_padding=(1, 1), groups=14)\n",
      "      (act_tconv): ReLU()\n",
      "    )\n",
      "    (2): WaferDecoderLayers(\n",
      "      (dense_layers): Sequential(\n",
      "        (0): Linear(in_features=224, out_features=224, bias=True)\n",
      "        (1): ReLU()\n",
      "        (2): Linear(in_features=224, out_features=3584, bias=True)\n",
      "        (3): ReLU()\n",
      "      )\n",
      "      (tconv2d): ConvTranspose2d(224, 14, kernel_size=(3, 3), stride=(2, 2), padding=(1, 1), output_padding=(1, 1), groups=14)\n",
      "      (act_tconv): ReLU()\n",
      "    )\n",
      "    (3): WaferDecoderLayers(\n",
      "      (dense_layers): Sequential(\n",
      "        (0): Linear(in_features=224, out_features=224, bias=True)\n",
      "        (1): ReLU()\n",
      "        (2): Linear(in_features=224, out_features=3584, bias=True)\n",
      "        (3): ReLU()\n",
      "      )\n",
      "      (tconv2d): ConvTranspose2d(224, 14, kernel_size=(3, 3), stride=(2, 2), padding=(1, 1), output_padding=(1, 1), groups=14)\n",
      "      (act_tconv): ReLU()\n",
      "    )\n",
      "    (4): WaferDecoderLayers(\n",
      "      (dense_layers): Sequential(\n",
      "        (0): Linear(in_features=224, out_features=224, bias=True)\n",
      "        (1): ReLU()\n",
      "        (2): Linear(in_features=224, out_features=3584, bias=True)\n",
      "        (3): ReLU()\n",
      "      )\n",
      "      (tconv2d): ConvTranspose2d(224, 14, kernel_size=(3, 3), stride=(2, 2), padding=(1, 1), output_padding=(1, 1), groups=14)\n",
      "      (act_tconv): ReLU()\n",
      "    )\n",
      "  )\n",
      ")\n"
     ]
    }
   ],
   "source": [
    "# define and setup the NN model\n",
    "scenario = 'modular_connected'\n",
    "model = AutoEncoderModularConnected(encode_size=8).to(device)\n",
    "print(device, model, sep='\\n')"
   ]
  },
  {
   "cell_type": "code",
   "execution_count": 5,
   "metadata": {},
   "outputs": [
    {
     "data": {
      "application/vnd.jupyter.widget-view+json": {
       "model_id": "ac581ebf76ec4d4288b63855441b8cc8",
       "version_major": 2,
       "version_minor": 0
      },
      "text/plain": [
       "  0%|          | 0/50 [00:00<?, ?it/s]"
      ]
     },
     "metadata": {},
     "output_type": "display_data"
    },
    {
     "data": {
      "application/vnd.jupyter.widget-view+json": {
       "model_id": "433963bba2924e00970271e5e4dbd6bc",
       "version_major": 2,
       "version_minor": 0
      },
      "text/plain": [
       "  0%|          | 0/956 [00:00<?, ?it/s]"
      ]
     },
     "metadata": {},
     "output_type": "display_data"
    },
    {
     "data": {
      "application/vnd.jupyter.widget-view+json": {
       "model_id": "8cc1b0ea873f4fe4ac5c66da357d82a4",
       "version_major": 2,
       "version_minor": 0
      },
      "text/plain": [
       "  0%|          | 0/239 [00:00<?, ?it/s]"
      ]
     },
     "metadata": {},
     "output_type": "display_data"
    },
    {
     "data": {
      "application/vnd.jupyter.widget-view+json": {
       "model_id": "d78d2cf75f87451ba9cdc570132c5c63",
       "version_major": 2,
       "version_minor": 0
      },
      "text/plain": [
       "  0%|          | 0/956 [00:00<?, ?it/s]"
      ]
     },
     "metadata": {},
     "output_type": "display_data"
    },
    {
     "data": {
      "application/vnd.jupyter.widget-view+json": {
       "model_id": "9d4159e79e5748f6b9b3d7388a6626d2",
       "version_major": 2,
       "version_minor": 0
      },
      "text/plain": [
       "  0%|          | 0/239 [00:00<?, ?it/s]"
      ]
     },
     "metadata": {},
     "output_type": "display_data"
    },
    {
     "data": {
      "application/vnd.jupyter.widget-view+json": {
       "model_id": "bf58eb1d0e5d4991ae60baefe317b03d",
       "version_major": 2,
       "version_minor": 0
      },
      "text/plain": [
       "  0%|          | 0/956 [00:00<?, ?it/s]"
      ]
     },
     "metadata": {},
     "output_type": "display_data"
    },
    {
     "data": {
      "application/vnd.jupyter.widget-view+json": {
       "model_id": "830a7f18877d4a17acbb67325629078e",
       "version_major": 2,
       "version_minor": 0
      },
      "text/plain": [
       "  0%|          | 0/239 [00:00<?, ?it/s]"
      ]
     },
     "metadata": {},
     "output_type": "display_data"
    },
    {
     "data": {
      "application/vnd.jupyter.widget-view+json": {
       "model_id": "7d1dace32cde40c2926dcd75097ea053",
       "version_major": 2,
       "version_minor": 0
      },
      "text/plain": [
       "  0%|          | 0/956 [00:00<?, ?it/s]"
      ]
     },
     "metadata": {},
     "output_type": "display_data"
    },
    {
     "data": {
      "application/vnd.jupyter.widget-view+json": {
       "model_id": "860901c055c745a2ab35400766be4992",
       "version_major": 2,
       "version_minor": 0
      },
      "text/plain": [
       "  0%|          | 0/239 [00:00<?, ?it/s]"
      ]
     },
     "metadata": {},
     "output_type": "display_data"
    },
    {
     "data": {
      "application/vnd.jupyter.widget-view+json": {
       "model_id": "291fee6f7c9842dabdf30fe4ee07e215",
       "version_major": 2,
       "version_minor": 0
      },
      "text/plain": [
       "  0%|          | 0/956 [00:00<?, ?it/s]"
      ]
     },
     "metadata": {},
     "output_type": "display_data"
    },
    {
     "data": {
      "application/vnd.jupyter.widget-view+json": {
       "model_id": "e2945f13aaf748ea84a111c3eff5340a",
       "version_major": 2,
       "version_minor": 0
      },
      "text/plain": [
       "  0%|          | 0/239 [00:00<?, ?it/s]"
      ]
     },
     "metadata": {},
     "output_type": "display_data"
    },
    {
     "data": {
      "application/vnd.jupyter.widget-view+json": {
       "model_id": "0fa4f1d99ad6489db8319c54674813b5",
       "version_major": 2,
       "version_minor": 0
      },
      "text/plain": [
       "  0%|          | 0/956 [00:00<?, ?it/s]"
      ]
     },
     "metadata": {},
     "output_type": "display_data"
    },
    {
     "data": {
      "application/vnd.jupyter.widget-view+json": {
       "model_id": "955d0851afe243f9a05fa4b9784a0cb2",
       "version_major": 2,
       "version_minor": 0
      },
      "text/plain": [
       "  0%|          | 0/239 [00:00<?, ?it/s]"
      ]
     },
     "metadata": {},
     "output_type": "display_data"
    },
    {
     "data": {
      "application/vnd.jupyter.widget-view+json": {
       "model_id": "8d53c3c7100f4a9098c39c238da8da9e",
       "version_major": 2,
       "version_minor": 0
      },
      "text/plain": [
       "  0%|          | 0/956 [00:00<?, ?it/s]"
      ]
     },
     "metadata": {},
     "output_type": "display_data"
    },
    {
     "data": {
      "application/vnd.jupyter.widget-view+json": {
       "model_id": "dbe453b9288248a090bcf48ec6cf6626",
       "version_major": 2,
       "version_minor": 0
      },
      "text/plain": [
       "  0%|          | 0/239 [00:00<?, ?it/s]"
      ]
     },
     "metadata": {},
     "output_type": "display_data"
    },
    {
     "data": {
      "application/vnd.jupyter.widget-view+json": {
       "model_id": "7645bda6997c402c9ad411cb50e5c0e1",
       "version_major": 2,
       "version_minor": 0
      },
      "text/plain": [
       "  0%|          | 0/956 [00:00<?, ?it/s]"
      ]
     },
     "metadata": {},
     "output_type": "display_data"
    },
    {
     "data": {
      "application/vnd.jupyter.widget-view+json": {
       "model_id": "216ae3056d55405f9bc65fc7ee91c7d4",
       "version_major": 2,
       "version_minor": 0
      },
      "text/plain": [
       "  0%|          | 0/239 [00:00<?, ?it/s]"
      ]
     },
     "metadata": {},
     "output_type": "display_data"
    },
    {
     "data": {
      "application/vnd.jupyter.widget-view+json": {
       "model_id": "116d92ebaac348d7be708caa199097d0",
       "version_major": 2,
       "version_minor": 0
      },
      "text/plain": [
       "  0%|          | 0/956 [00:00<?, ?it/s]"
      ]
     },
     "metadata": {},
     "output_type": "display_data"
    },
    {
     "data": {
      "application/vnd.jupyter.widget-view+json": {
       "model_id": "7c588f6424bc44ada3393b297f8f775b",
       "version_major": 2,
       "version_minor": 0
      },
      "text/plain": [
       "  0%|          | 0/239 [00:00<?, ?it/s]"
      ]
     },
     "metadata": {},
     "output_type": "display_data"
    },
    {
     "data": {
      "application/vnd.jupyter.widget-view+json": {
       "model_id": "d10067fb0afe4e7e9c6820a043f6922a",
       "version_major": 2,
       "version_minor": 0
      },
      "text/plain": [
       "  0%|          | 0/956 [00:00<?, ?it/s]"
      ]
     },
     "metadata": {},
     "output_type": "display_data"
    },
    {
     "data": {
      "application/vnd.jupyter.widget-view+json": {
       "model_id": "dfccccdc543e470c9f3dba2bd8e102bd",
       "version_major": 2,
       "version_minor": 0
      },
      "text/plain": [
       "  0%|          | 0/239 [00:00<?, ?it/s]"
      ]
     },
     "metadata": {},
     "output_type": "display_data"
    },
    {
     "data": {
      "application/vnd.jupyter.widget-view+json": {
       "model_id": "b3b0a85d534641f5a6f3204396782cb9",
       "version_major": 2,
       "version_minor": 0
      },
      "text/plain": [
       "  0%|          | 0/956 [00:00<?, ?it/s]"
      ]
     },
     "metadata": {},
     "output_type": "display_data"
    },
    {
     "data": {
      "application/vnd.jupyter.widget-view+json": {
       "model_id": "1a231bd323d546efb3d74872688a5eae",
       "version_major": 2,
       "version_minor": 0
      },
      "text/plain": [
       "  0%|          | 0/239 [00:00<?, ?it/s]"
      ]
     },
     "metadata": {},
     "output_type": "display_data"
    },
    {
     "data": {
      "application/vnd.jupyter.widget-view+json": {
       "model_id": "cf528bb940de4b87ad42fdc24644dda5",
       "version_major": 2,
       "version_minor": 0
      },
      "text/plain": [
       "  0%|          | 0/956 [00:00<?, ?it/s]"
      ]
     },
     "metadata": {},
     "output_type": "display_data"
    },
    {
     "data": {
      "application/vnd.jupyter.widget-view+json": {
       "model_id": "8a1b4aa7e87543e59693a904e6813c21",
       "version_major": 2,
       "version_minor": 0
      },
      "text/plain": [
       "  0%|          | 0/239 [00:00<?, ?it/s]"
      ]
     },
     "metadata": {},
     "output_type": "display_data"
    },
    {
     "data": {
      "application/vnd.jupyter.widget-view+json": {
       "model_id": "5fa6a27ed02245388006a0ed5e0fc5bb",
       "version_major": 2,
       "version_minor": 0
      },
      "text/plain": [
       "  0%|          | 0/956 [00:00<?, ?it/s]"
      ]
     },
     "metadata": {},
     "output_type": "display_data"
    },
    {
     "data": {
      "application/vnd.jupyter.widget-view+json": {
       "model_id": "fe53e8c72d3d40b0a745f5a240d5c3db",
       "version_major": 2,
       "version_minor": 0
      },
      "text/plain": [
       "  0%|          | 0/239 [00:00<?, ?it/s]"
      ]
     },
     "metadata": {},
     "output_type": "display_data"
    },
    {
     "data": {
      "application/vnd.jupyter.widget-view+json": {
       "model_id": "dd12197b9b114291a98daa44a1a6b35b",
       "version_major": 2,
       "version_minor": 0
      },
      "text/plain": [
       "  0%|          | 0/956 [00:00<?, ?it/s]"
      ]
     },
     "metadata": {},
     "output_type": "display_data"
    },
    {
     "data": {
      "application/vnd.jupyter.widget-view+json": {
       "model_id": "e5d8a9299a5449b2aadfa5b8e29f61ee",
       "version_major": 2,
       "version_minor": 0
      },
      "text/plain": [
       "  0%|          | 0/239 [00:00<?, ?it/s]"
      ]
     },
     "metadata": {},
     "output_type": "display_data"
    },
    {
     "data": {
      "application/vnd.jupyter.widget-view+json": {
       "model_id": "adb0fbc0d722490a90cb358e92c28f9f",
       "version_major": 2,
       "version_minor": 0
      },
      "text/plain": [
       "  0%|          | 0/956 [00:00<?, ?it/s]"
      ]
     },
     "metadata": {},
     "output_type": "display_data"
    },
    {
     "data": {
      "application/vnd.jupyter.widget-view+json": {
       "model_id": "0802d64318bc4baf8be324999603b08d",
       "version_major": 2,
       "version_minor": 0
      },
      "text/plain": [
       "  0%|          | 0/239 [00:00<?, ?it/s]"
      ]
     },
     "metadata": {},
     "output_type": "display_data"
    },
    {
     "data": {
      "application/vnd.jupyter.widget-view+json": {
       "model_id": "c255dd3ae6be4c0e9ad3ffad198c5b91",
       "version_major": 2,
       "version_minor": 0
      },
      "text/plain": [
       "  0%|          | 0/956 [00:00<?, ?it/s]"
      ]
     },
     "metadata": {},
     "output_type": "display_data"
    },
    {
     "data": {
      "application/vnd.jupyter.widget-view+json": {
       "model_id": "c7650c8131344acb85a93138ce1da1a3",
       "version_major": 2,
       "version_minor": 0
      },
      "text/plain": [
       "  0%|          | 0/239 [00:00<?, ?it/s]"
      ]
     },
     "metadata": {},
     "output_type": "display_data"
    },
    {
     "data": {
      "application/vnd.jupyter.widget-view+json": {
       "model_id": "ffbb833bd8aa4759bb233ecc690b1487",
       "version_major": 2,
       "version_minor": 0
      },
      "text/plain": [
       "  0%|          | 0/956 [00:00<?, ?it/s]"
      ]
     },
     "metadata": {},
     "output_type": "display_data"
    },
    {
     "data": {
      "application/vnd.jupyter.widget-view+json": {
       "model_id": "bb41f205d75d4c61b7e6ebbb8a3263c6",
       "version_major": 2,
       "version_minor": 0
      },
      "text/plain": [
       "  0%|          | 0/239 [00:00<?, ?it/s]"
      ]
     },
     "metadata": {},
     "output_type": "display_data"
    },
    {
     "data": {
      "application/vnd.jupyter.widget-view+json": {
       "model_id": "0577555aee0d4306a01c8d2ea079047e",
       "version_major": 2,
       "version_minor": 0
      },
      "text/plain": [
       "  0%|          | 0/956 [00:00<?, ?it/s]"
      ]
     },
     "metadata": {},
     "output_type": "display_data"
    },
    {
     "data": {
      "application/vnd.jupyter.widget-view+json": {
       "model_id": "fedb65fb44ff4c049dd9dbef5e7ff741",
       "version_major": 2,
       "version_minor": 0
      },
      "text/plain": [
       "  0%|          | 0/239 [00:00<?, ?it/s]"
      ]
     },
     "metadata": {},
     "output_type": "display_data"
    },
    {
     "data": {
      "application/vnd.jupyter.widget-view+json": {
       "model_id": "6bc9e9beaecd4cc1b406e53c04a8eeb8",
       "version_major": 2,
       "version_minor": 0
      },
      "text/plain": [
       "  0%|          | 0/956 [00:00<?, ?it/s]"
      ]
     },
     "metadata": {},
     "output_type": "display_data"
    },
    {
     "data": {
      "application/vnd.jupyter.widget-view+json": {
       "model_id": "7223733cf0e647aebe69d5bab39de0fa",
       "version_major": 2,
       "version_minor": 0
      },
      "text/plain": [
       "  0%|          | 0/239 [00:00<?, ?it/s]"
      ]
     },
     "metadata": {},
     "output_type": "display_data"
    },
    {
     "data": {
      "application/vnd.jupyter.widget-view+json": {
       "model_id": "285dc27b71a24aa7915f7f5d489aa5af",
       "version_major": 2,
       "version_minor": 0
      },
      "text/plain": [
       "  0%|          | 0/956 [00:00<?, ?it/s]"
      ]
     },
     "metadata": {},
     "output_type": "display_data"
    },
    {
     "data": {
      "application/vnd.jupyter.widget-view+json": {
       "model_id": "da6467ee276f44a1863dedfd2dabd0e6",
       "version_major": 2,
       "version_minor": 0
      },
      "text/plain": [
       "  0%|          | 0/239 [00:00<?, ?it/s]"
      ]
     },
     "metadata": {},
     "output_type": "display_data"
    },
    {
     "data": {
      "application/vnd.jupyter.widget-view+json": {
       "model_id": "06fe8f5df8054fb4b027622d25c6da12",
       "version_major": 2,
       "version_minor": 0
      },
      "text/plain": [
       "  0%|          | 0/956 [00:00<?, ?it/s]"
      ]
     },
     "metadata": {},
     "output_type": "display_data"
    },
    {
     "data": {
      "application/vnd.jupyter.widget-view+json": {
       "model_id": "00bcc53543174f39a6d29ab9237133b4",
       "version_major": 2,
       "version_minor": 0
      },
      "text/plain": [
       "  0%|          | 0/239 [00:00<?, ?it/s]"
      ]
     },
     "metadata": {},
     "output_type": "display_data"
    },
    {
     "data": {
      "application/vnd.jupyter.widget-view+json": {
       "model_id": "e235e234bc004f08afc94d05593d76ed",
       "version_major": 2,
       "version_minor": 0
      },
      "text/plain": [
       "  0%|          | 0/956 [00:00<?, ?it/s]"
      ]
     },
     "metadata": {},
     "output_type": "display_data"
    },
    {
     "data": {
      "application/vnd.jupyter.widget-view+json": {
       "model_id": "0d07193a14354e2ba42ee3107eff7df3",
       "version_major": 2,
       "version_minor": 0
      },
      "text/plain": [
       "  0%|          | 0/239 [00:00<?, ?it/s]"
      ]
     },
     "metadata": {},
     "output_type": "display_data"
    },
    {
     "data": {
      "application/vnd.jupyter.widget-view+json": {
       "model_id": "df0d3bc7cd6d4664a2286b8b3abaa1a5",
       "version_major": 2,
       "version_minor": 0
      },
      "text/plain": [
       "  0%|          | 0/956 [00:00<?, ?it/s]"
      ]
     },
     "metadata": {},
     "output_type": "display_data"
    },
    {
     "data": {
      "application/vnd.jupyter.widget-view+json": {
       "model_id": "ece94e05b965467db452e4234d9cc275",
       "version_major": 2,
       "version_minor": 0
      },
      "text/plain": [
       "  0%|          | 0/239 [00:00<?, ?it/s]"
      ]
     },
     "metadata": {},
     "output_type": "display_data"
    },
    {
     "data": {
      "application/vnd.jupyter.widget-view+json": {
       "model_id": "7fb848f63cce4d1baa6688009e84ba1c",
       "version_major": 2,
       "version_minor": 0
      },
      "text/plain": [
       "  0%|          | 0/956 [00:00<?, ?it/s]"
      ]
     },
     "metadata": {},
     "output_type": "display_data"
    },
    {
     "data": {
      "application/vnd.jupyter.widget-view+json": {
       "model_id": "42fbe11d7e66431f979079e6bdfe8957",
       "version_major": 2,
       "version_minor": 0
      },
      "text/plain": [
       "  0%|          | 0/239 [00:00<?, ?it/s]"
      ]
     },
     "metadata": {},
     "output_type": "display_data"
    },
    {
     "data": {
      "application/vnd.jupyter.widget-view+json": {
       "model_id": "9e1984a11bad4d8a8b4abe76c2f2ad98",
       "version_major": 2,
       "version_minor": 0
      },
      "text/plain": [
       "  0%|          | 0/956 [00:00<?, ?it/s]"
      ]
     },
     "metadata": {},
     "output_type": "display_data"
    },
    {
     "data": {
      "application/vnd.jupyter.widget-view+json": {
       "model_id": "70b8c40442d3458094afb7fb0e1e9376",
       "version_major": 2,
       "version_minor": 0
      },
      "text/plain": [
       "  0%|          | 0/239 [00:00<?, ?it/s]"
      ]
     },
     "metadata": {},
     "output_type": "display_data"
    },
    {
     "data": {
      "application/vnd.jupyter.widget-view+json": {
       "model_id": "7f84e0fcebf24f6daec87b92ff39183c",
       "version_major": 2,
       "version_minor": 0
      },
      "text/plain": [
       "  0%|          | 0/956 [00:00<?, ?it/s]"
      ]
     },
     "metadata": {},
     "output_type": "display_data"
    },
    {
     "data": {
      "application/vnd.jupyter.widget-view+json": {
       "model_id": "6042131823da49b9a4d99d7ca244efed",
       "version_major": 2,
       "version_minor": 0
      },
      "text/plain": [
       "  0%|          | 0/239 [00:00<?, ?it/s]"
      ]
     },
     "metadata": {},
     "output_type": "display_data"
    },
    {
     "data": {
      "application/vnd.jupyter.widget-view+json": {
       "model_id": "9306cfec97a148c6b97bd2afc6a55788",
       "version_major": 2,
       "version_minor": 0
      },
      "text/plain": [
       "  0%|          | 0/956 [00:00<?, ?it/s]"
      ]
     },
     "metadata": {},
     "output_type": "display_data"
    },
    {
     "data": {
      "application/vnd.jupyter.widget-view+json": {
       "model_id": "6dd746104dcf4d04b9456d0b7103a1b6",
       "version_major": 2,
       "version_minor": 0
      },
      "text/plain": [
       "  0%|          | 0/239 [00:00<?, ?it/s]"
      ]
     },
     "metadata": {},
     "output_type": "display_data"
    },
    {
     "data": {
      "application/vnd.jupyter.widget-view+json": {
       "model_id": "34d1c3fe7df04d7bace1c1bf30f5214d",
       "version_major": 2,
       "version_minor": 0
      },
      "text/plain": [
       "  0%|          | 0/956 [00:00<?, ?it/s]"
      ]
     },
     "metadata": {},
     "output_type": "display_data"
    },
    {
     "data": {
      "application/vnd.jupyter.widget-view+json": {
       "model_id": "7e046de588614d04b8f21b43281b5e7c",
       "version_major": 2,
       "version_minor": 0
      },
      "text/plain": [
       "  0%|          | 0/239 [00:00<?, ?it/s]"
      ]
     },
     "metadata": {},
     "output_type": "display_data"
    },
    {
     "data": {
      "application/vnd.jupyter.widget-view+json": {
       "model_id": "c4198cfcfb5d46abbfac3421211eaad4",
       "version_major": 2,
       "version_minor": 0
      },
      "text/plain": [
       "  0%|          | 0/956 [00:00<?, ?it/s]"
      ]
     },
     "metadata": {},
     "output_type": "display_data"
    },
    {
     "data": {
      "application/vnd.jupyter.widget-view+json": {
       "model_id": "ee32680491934b1e81c5d1db708e349a",
       "version_major": 2,
       "version_minor": 0
      },
      "text/plain": [
       "  0%|          | 0/239 [00:00<?, ?it/s]"
      ]
     },
     "metadata": {},
     "output_type": "display_data"
    },
    {
     "data": {
      "application/vnd.jupyter.widget-view+json": {
       "model_id": "79a66d9ae92749a2a1937a54eb49adf8",
       "version_major": 2,
       "version_minor": 0
      },
      "text/plain": [
       "  0%|          | 0/956 [00:00<?, ?it/s]"
      ]
     },
     "metadata": {},
     "output_type": "display_data"
    },
    {
     "data": {
      "application/vnd.jupyter.widget-view+json": {
       "model_id": "c8de37d02d0b422ba43cfdf54d962490",
       "version_major": 2,
       "version_minor": 0
      },
      "text/plain": [
       "  0%|          | 0/239 [00:00<?, ?it/s]"
      ]
     },
     "metadata": {},
     "output_type": "display_data"
    },
    {
     "data": {
      "application/vnd.jupyter.widget-view+json": {
       "model_id": "233f3f5a25fb446bad4a7c6715ae41e2",
       "version_major": 2,
       "version_minor": 0
      },
      "text/plain": [
       "  0%|          | 0/956 [00:00<?, ?it/s]"
      ]
     },
     "metadata": {},
     "output_type": "display_data"
    },
    {
     "data": {
      "application/vnd.jupyter.widget-view+json": {
       "model_id": "e4310bd0a6a0439f9613ea46692e396c",
       "version_major": 2,
       "version_minor": 0
      },
      "text/plain": [
       "  0%|          | 0/239 [00:00<?, ?it/s]"
      ]
     },
     "metadata": {},
     "output_type": "display_data"
    },
    {
     "data": {
      "application/vnd.jupyter.widget-view+json": {
       "model_id": "41f6a634028e47718e9d03f377db1826",
       "version_major": 2,
       "version_minor": 0
      },
      "text/plain": [
       "  0%|          | 0/956 [00:00<?, ?it/s]"
      ]
     },
     "metadata": {},
     "output_type": "display_data"
    },
    {
     "data": {
      "application/vnd.jupyter.widget-view+json": {
       "model_id": "c93cad510fb449c693890d4b55a12d58",
       "version_major": 2,
       "version_minor": 0
      },
      "text/plain": [
       "  0%|          | 0/239 [00:00<?, ?it/s]"
      ]
     },
     "metadata": {},
     "output_type": "display_data"
    },
    {
     "data": {
      "application/vnd.jupyter.widget-view+json": {
       "model_id": "a89863bd1ff4457dadfd67fc81764abd",
       "version_major": 2,
       "version_minor": 0
      },
      "text/plain": [
       "  0%|          | 0/956 [00:00<?, ?it/s]"
      ]
     },
     "metadata": {},
     "output_type": "display_data"
    },
    {
     "data": {
      "application/vnd.jupyter.widget-view+json": {
       "model_id": "9762e86b381b4230822b8916e335ea80",
       "version_major": 2,
       "version_minor": 0
      },
      "text/plain": [
       "  0%|          | 0/239 [00:00<?, ?it/s]"
      ]
     },
     "metadata": {},
     "output_type": "display_data"
    },
    {
     "data": {
      "application/vnd.jupyter.widget-view+json": {
       "model_id": "133a9be88e7c4c778fd1ef88bb324007",
       "version_major": 2,
       "version_minor": 0
      },
      "text/plain": [
       "  0%|          | 0/956 [00:00<?, ?it/s]"
      ]
     },
     "metadata": {},
     "output_type": "display_data"
    },
    {
     "data": {
      "application/vnd.jupyter.widget-view+json": {
       "model_id": "4c07304331d145298d029fe19e6bc1ac",
       "version_major": 2,
       "version_minor": 0
      },
      "text/plain": [
       "  0%|          | 0/239 [00:00<?, ?it/s]"
      ]
     },
     "metadata": {},
     "output_type": "display_data"
    },
    {
     "data": {
      "application/vnd.jupyter.widget-view+json": {
       "model_id": "741274a15e13421b9289bfefbaad14bb",
       "version_major": 2,
       "version_minor": 0
      },
      "text/plain": [
       "  0%|          | 0/956 [00:00<?, ?it/s]"
      ]
     },
     "metadata": {},
     "output_type": "display_data"
    },
    {
     "data": {
      "application/vnd.jupyter.widget-view+json": {
       "model_id": "b1ffe4be9c2d4441bfdc13f8dfaf883a",
       "version_major": 2,
       "version_minor": 0
      },
      "text/plain": [
       "  0%|          | 0/239 [00:00<?, ?it/s]"
      ]
     },
     "metadata": {},
     "output_type": "display_data"
    },
    {
     "data": {
      "application/vnd.jupyter.widget-view+json": {
       "model_id": "1f4ab5c7ee234f538b89a9663af305e7",
       "version_major": 2,
       "version_minor": 0
      },
      "text/plain": [
       "  0%|          | 0/956 [00:00<?, ?it/s]"
      ]
     },
     "metadata": {},
     "output_type": "display_data"
    },
    {
     "data": {
      "application/vnd.jupyter.widget-view+json": {
       "model_id": "2cdb4996b96648e0975477abfc07c0d5",
       "version_major": 2,
       "version_minor": 0
      },
      "text/plain": [
       "  0%|          | 0/239 [00:00<?, ?it/s]"
      ]
     },
     "metadata": {},
     "output_type": "display_data"
    },
    {
     "data": {
      "application/vnd.jupyter.widget-view+json": {
       "model_id": "dbee9e6f4f8b49b1ae035083491fceda",
       "version_major": 2,
       "version_minor": 0
      },
      "text/plain": [
       "  0%|          | 0/956 [00:00<?, ?it/s]"
      ]
     },
     "metadata": {},
     "output_type": "display_data"
    },
    {
     "data": {
      "application/vnd.jupyter.widget-view+json": {
       "model_id": "e71f32944be04383b6699d957e53493e",
       "version_major": 2,
       "version_minor": 0
      },
      "text/plain": [
       "  0%|          | 0/239 [00:00<?, ?it/s]"
      ]
     },
     "metadata": {},
     "output_type": "display_data"
    },
    {
     "data": {
      "application/vnd.jupyter.widget-view+json": {
       "model_id": "02d8bccd1c284fb8b98b57283666453f",
       "version_major": 2,
       "version_minor": 0
      },
      "text/plain": [
       "  0%|          | 0/956 [00:00<?, ?it/s]"
      ]
     },
     "metadata": {},
     "output_type": "display_data"
    },
    {
     "data": {
      "application/vnd.jupyter.widget-view+json": {
       "model_id": "124421bdce4341b2801c7b45f7ea6a87",
       "version_major": 2,
       "version_minor": 0
      },
      "text/plain": [
       "  0%|          | 0/239 [00:00<?, ?it/s]"
      ]
     },
     "metadata": {},
     "output_type": "display_data"
    },
    {
     "data": {
      "application/vnd.jupyter.widget-view+json": {
       "model_id": "7dfd9d84c02042f48e1e7bf0a6ee7d4d",
       "version_major": 2,
       "version_minor": 0
      },
      "text/plain": [
       "  0%|          | 0/956 [00:00<?, ?it/s]"
      ]
     },
     "metadata": {},
     "output_type": "display_data"
    },
    {
     "data": {
      "application/vnd.jupyter.widget-view+json": {
       "model_id": "476c05b32fcf4ef0827acb544df2805a",
       "version_major": 2,
       "version_minor": 0
      },
      "text/plain": [
       "  0%|          | 0/239 [00:00<?, ?it/s]"
      ]
     },
     "metadata": {},
     "output_type": "display_data"
    },
    {
     "data": {
      "application/vnd.jupyter.widget-view+json": {
       "model_id": "5a27cacaebab4e5d9d45518502a81f66",
       "version_major": 2,
       "version_minor": 0
      },
      "text/plain": [
       "  0%|          | 0/956 [00:00<?, ?it/s]"
      ]
     },
     "metadata": {},
     "output_type": "display_data"
    },
    {
     "data": {
      "application/vnd.jupyter.widget-view+json": {
       "model_id": "49640aa65d9347c6a1887e3601f1f8f4",
       "version_major": 2,
       "version_minor": 0
      },
      "text/plain": [
       "  0%|          | 0/239 [00:00<?, ?it/s]"
      ]
     },
     "metadata": {},
     "output_type": "display_data"
    },
    {
     "data": {
      "application/vnd.jupyter.widget-view+json": {
       "model_id": "6037ebb3d61740f9a2879d63b313ecc2",
       "version_major": 2,
       "version_minor": 0
      },
      "text/plain": [
       "  0%|          | 0/956 [00:00<?, ?it/s]"
      ]
     },
     "metadata": {},
     "output_type": "display_data"
    },
    {
     "data": {
      "application/vnd.jupyter.widget-view+json": {
       "model_id": "16d5cfb484c944309f2255862031e4d7",
       "version_major": 2,
       "version_minor": 0
      },
      "text/plain": [
       "  0%|          | 0/239 [00:00<?, ?it/s]"
      ]
     },
     "metadata": {},
     "output_type": "display_data"
    },
    {
     "data": {
      "application/vnd.jupyter.widget-view+json": {
       "model_id": "737f06f6ef1c407682e6d0064e968e4d",
       "version_major": 2,
       "version_minor": 0
      },
      "text/plain": [
       "  0%|          | 0/956 [00:00<?, ?it/s]"
      ]
     },
     "metadata": {},
     "output_type": "display_data"
    },
    {
     "data": {
      "application/vnd.jupyter.widget-view+json": {
       "model_id": "0e198b820226461f95bf0503bf91c9ab",
       "version_major": 2,
       "version_minor": 0
      },
      "text/plain": [
       "  0%|          | 0/239 [00:00<?, ?it/s]"
      ]
     },
     "metadata": {},
     "output_type": "display_data"
    },
    {
     "data": {
      "application/vnd.jupyter.widget-view+json": {
       "model_id": "95da8729c4764cf584412209e2892626",
       "version_major": 2,
       "version_minor": 0
      },
      "text/plain": [
       "  0%|          | 0/956 [00:00<?, ?it/s]"
      ]
     },
     "metadata": {},
     "output_type": "display_data"
    },
    {
     "data": {
      "application/vnd.jupyter.widget-view+json": {
       "model_id": "7d8fc16e785f4fcb938a00752bdcd5c8",
       "version_major": 2,
       "version_minor": 0
      },
      "text/plain": [
       "  0%|          | 0/239 [00:00<?, ?it/s]"
      ]
     },
     "metadata": {},
     "output_type": "display_data"
    },
    {
     "data": {
      "application/vnd.jupyter.widget-view+json": {
       "model_id": "5d10248f730443e3b061f9736af95abd",
       "version_major": 2,
       "version_minor": 0
      },
      "text/plain": [
       "  0%|          | 0/956 [00:00<?, ?it/s]"
      ]
     },
     "metadata": {},
     "output_type": "display_data"
    },
    {
     "data": {
      "application/vnd.jupyter.widget-view+json": {
       "model_id": "0d04cd19a6274efab1313d8445f4b4e4",
       "version_major": 2,
       "version_minor": 0
      },
      "text/plain": [
       "  0%|          | 0/239 [00:00<?, ?it/s]"
      ]
     },
     "metadata": {},
     "output_type": "display_data"
    },
    {
     "data": {
      "application/vnd.jupyter.widget-view+json": {
       "model_id": "1a6ac26ef1a74a3797392dd3ae3107be",
       "version_major": 2,
       "version_minor": 0
      },
      "text/plain": [
       "  0%|          | 0/956 [00:00<?, ?it/s]"
      ]
     },
     "metadata": {},
     "output_type": "display_data"
    },
    {
     "data": {
      "application/vnd.jupyter.widget-view+json": {
       "model_id": "548554d39b964e33903967d4ed0feea7",
       "version_major": 2,
       "version_minor": 0
      },
      "text/plain": [
       "  0%|          | 0/239 [00:00<?, ?it/s]"
      ]
     },
     "metadata": {},
     "output_type": "display_data"
    },
    {
     "data": {
      "application/vnd.jupyter.widget-view+json": {
       "model_id": "b11129b6bc0f4187a065a8f84642f911",
       "version_major": 2,
       "version_minor": 0
      },
      "text/plain": [
       "  0%|          | 0/956 [00:00<?, ?it/s]"
      ]
     },
     "metadata": {},
     "output_type": "display_data"
    },
    {
     "data": {
      "application/vnd.jupyter.widget-view+json": {
       "model_id": "ea61cd2dd4b5462ca2a6277818b1c06c",
       "version_major": 2,
       "version_minor": 0
      },
      "text/plain": [
       "  0%|          | 0/239 [00:00<?, ?it/s]"
      ]
     },
     "metadata": {},
     "output_type": "display_data"
    },
    {
     "data": {
      "application/vnd.jupyter.widget-view+json": {
       "model_id": "55cc6775b3b14776920014ff04bb6396",
       "version_major": 2,
       "version_minor": 0
      },
      "text/plain": [
       "  0%|          | 0/956 [00:00<?, ?it/s]"
      ]
     },
     "metadata": {},
     "output_type": "display_data"
    },
    {
     "data": {
      "application/vnd.jupyter.widget-view+json": {
       "model_id": "4b72492f183b468893741eb063a9c934",
       "version_major": 2,
       "version_minor": 0
      },
      "text/plain": [
       "  0%|          | 0/239 [00:00<?, ?it/s]"
      ]
     },
     "metadata": {},
     "output_type": "display_data"
    },
    {
     "data": {
      "application/vnd.jupyter.widget-view+json": {
       "model_id": "4d1222299f53408c9ecce431d69c9fb8",
       "version_major": 2,
       "version_minor": 0
      },
      "text/plain": [
       "  0%|          | 0/956 [00:00<?, ?it/s]"
      ]
     },
     "metadata": {},
     "output_type": "display_data"
    },
    {
     "data": {
      "application/vnd.jupyter.widget-view+json": {
       "model_id": "12f957ed8b7347c78c351e6ae8f8e287",
       "version_major": 2,
       "version_minor": 0
      },
      "text/plain": [
       "  0%|          | 0/239 [00:00<?, ?it/s]"
      ]
     },
     "metadata": {},
     "output_type": "display_data"
    },
    {
     "data": {
      "application/vnd.jupyter.widget-view+json": {
       "model_id": "12f89f751bb446ddb8325965d966b180",
       "version_major": 2,
       "version_minor": 0
      },
      "text/plain": [
       "  0%|          | 0/956 [00:00<?, ?it/s]"
      ]
     },
     "metadata": {},
     "output_type": "display_data"
    },
    {
     "data": {
      "application/vnd.jupyter.widget-view+json": {
       "model_id": "9ab29a3b71db4cf994c82fb480ad6be6",
       "version_major": 2,
       "version_minor": 0
      },
      "text/plain": [
       "  0%|          | 0/239 [00:00<?, ?it/s]"
      ]
     },
     "metadata": {},
     "output_type": "display_data"
    },
    {
     "data": {
      "application/vnd.jupyter.widget-view+json": {
       "model_id": "a9f1f707bc574089a7157cc0f876ba67",
       "version_major": 2,
       "version_minor": 0
      },
      "text/plain": [
       "  0%|          | 0/956 [00:00<?, ?it/s]"
      ]
     },
     "metadata": {},
     "output_type": "display_data"
    },
    {
     "data": {
      "application/vnd.jupyter.widget-view+json": {
       "model_id": "ffd2de3a0a7e4ca0ad2497aff6573787",
       "version_major": 2,
       "version_minor": 0
      },
      "text/plain": [
       "  0%|          | 0/239 [00:00<?, ?it/s]"
      ]
     },
     "metadata": {},
     "output_type": "display_data"
    }
   ],
   "source": [
    "# optimize NN weights\n",
    "n_epochs = 50\n",
    "n_events = len(train_loader)\n",
    "\n",
    "# define loss and configure optimizer\n",
    "loss_fn = nn.HuberLoss(reduction='sum')\n",
    "#loss_fn = mse_loss_regularized\n",
    "\n",
    "optimizer = torch.optim.AdamW(model.parameters(), lr=1e-2, weight_decay=1e-3)\n",
    "#optimizer = torch.optim.SGD(model.parameters(), lr=1e-3)\n",
    "tb_writer = SummaryWriter(log_dir='logs')\n",
    "\n",
    "pbar1 = tqdm(range(n_epochs), total=n_epochs, leave=False, position=0)\n",
    "pbar1.set_postfix({'avg. loss':'?'})\n",
    "loss_cache = []\n",
    "for iepoch in pbar1:\n",
    "    model.train()\n",
    "    pbar2 = tqdm(train_loader, total=n_events, leave=False, position=1)\n",
    "    pbar2.set_postfix({'loss':'?'})\n",
    "    avg_loss = 0\n",
    "    for jevent, (features, keys) in enumerate(pbar2):\n",
    "        #features = features.unsqueeze(1).to(device)\n",
    "        features = features.to(device)\n",
    "        #targets = targets.to(device)\n",
    "        optimizer.zero_grad()\n",
    "        features_pred = model(features, keys)\n",
    "        loss = loss_fn(torch.log(1. + features_pred), torch.log(1. + features))\n",
    "        loss.backward()\n",
    "        optimizer.step()\n",
    "        \n",
    "        #pbar2.set_postfix({'loss':f'{loss.item():.3f}'})\n",
    "        #tb_writer.add_scalar('training loss', loss.item(), iepoch*n_events + jevent)\n",
    "        \n",
    "        avg_loss += loss.item()\n",
    "        if jevent%10 == 0:\n",
    "            avg_loss /= 10\n",
    "            pbar2.set_postfix({'loss':f'{loss.item():.3f}'})\n",
    "            tb_writer.add_scalar('training loss', loss.item(), iepoch*(n_events//10) + jevent/10)\n",
    "            avg_loss = 0\n",
    "        \n",
    "    with torch.no_grad():\n",
    "        model.eval()\n",
    "        test_loss = 0\n",
    "        n_test_events = len(test_loader)\n",
    "        for features, keys in tqdm(test_loader, total=n_test_events, leave=False):\n",
    "            features = features.to(device)\n",
    "            #targets = targets.to(device)\n",
    "            features_pred = model(features, keys)\n",
    "            #tqdm.write(features_pred.shape, features.shape)\n",
    "            test_loss += loss_fn(torch.log(1. + features_pred), torch.log(1. + features))\n",
    "            loss_cache.append(test_loss.item())\n",
    "            \n",
    "            \n",
    "        avg_loss = test_loss.item()/n_test_events\n",
    "        pbar1.set_postfix({'avg loss':f'{avg_loss:.3f}'})\n",
    "        tb_writer.add_scalar('test loss', avg_loss, iepoch)\n",
    "        #tb_writer.add_graph(model, features)\n",
    "        \n",
    "        #images = torchvision.utils.make_grid(features)\n",
    "        #images_pred = torchvision.utils.make_grid(features_pred)\n",
    "        #tb_writer.add_image('input', images)\n",
    "        #tb_writer.add_image('output', images_pred)\n",
    "        \n",
    "        # write a checkpoint based on the performance of the model\n",
    "\n"
   ]
  },
  {
   "cell_type": "code",
   "execution_count": 6,
   "metadata": {},
   "outputs": [],
   "source": [
    "# compare images\n",
    "import utils.plot_tools as pt\n",
    "from matplotlib.colors import LogNorm\n",
    "\n",
    "output_dir = Path(f'plots/{scenario}')\n",
    "output_dir.mkdir(parents=True, exist_ok=True)\n",
    "with torch.no_grad():\n",
    "    model.eval()\n",
    "    \n",
    "    images, keys = iter(test_loader).next()\n",
    "    # batch_size = 8, n_layers = 14, 8, 8\n",
    "    images = images.to(device)\n",
    "    images_pred = model(images, keys)\n",
    "    images_enc = [model.encode(images[i], f'{k}') for i, k in enumerate(keys)]\n",
    "    for ibatch, key in enumerate(keys):\n",
    "        image_data = zip(images[ibatch], images_pred[ibatch], images_enc[ibatch])\n",
    "        emax = images[ibatch].max()\n",
    "        fig, axes = plt.subplots(3, 14, facecolor='white', figsize=(14, 6), gridspec_kw={'height_ratios': [1, 0.2, 1]})\n",
    "        for ilayer, (image, image_pred, encoded_image) in enumerate(image_data):\n",
    "            image = image.squeeze().cpu().numpy()\n",
    "            encoded_image = encoded_image.squeeze().cpu().numpy()\n",
    "            image_pred = image_pred.squeeze().cpu().numpy().reshape(image.shape)\n",
    "            #energy_corr = image.sum()/image_pred.sum()\n",
    "            #image_pred *= energy_corr\n",
    "\n",
    "            ax = axes[0][ilayer]\n",
    "            #ax.set_aspect('equal')\n",
    "            pt.draw_single_module_pixels(ax, cell_data=image, no_axes=True)\n",
    "            ax.set_xticks([])\n",
    "            ax.set_yticks([])\n",
    "            ax.set_title(f'layer {ilayer}', fontsize=10)\n",
    "            if ilayer == 0:\n",
    "                ax.set_ylabel('input', fontsize=10)\n",
    "\n",
    "            ax = axes[1][ilayer]\n",
    "            #ax.set_aspect('equal')\n",
    "            ax.pcolor(encoded_image.reshape(-1, 2), linewidth=2, vmin=0.)\n",
    "            ax.set_xticks([])\n",
    "            ax.set_yticks([])\n",
    "            if ilayer == 0:\n",
    "                ax.set_ylabel('encoded', fontsize=10)\n",
    "#\n",
    "            ax = axes[2][ilayer]\n",
    "            #ax.set_aspect('equal')\n",
    "            pt.draw_single_module_pixels(ax, cell_data=image_pred, no_axes=True)\n",
    "            #ax.imshow(image_pred, norm=LogNorm())\n",
    "            ax.set_xticks([])\n",
    "            ax.set_yticks([])\n",
    "            if ilayer == 0:\n",
    "                ax.set_ylabel('output', fontsize=10)\n",
    "        \n",
    "        \n",
    "        plt.tight_layout()\n",
    "        plt.savefig(output_dir / f'ae_encoding_comparisons_{ibatch}.png')\n",
    "        fig.clear()\n",
    "        plt.close()"
   ]
  },
  {
   "cell_type": "code",
   "execution_count": 7,
   "metadata": {},
   "outputs": [
    {
     "data": {
      "application/vnd.jupyter.widget-view+json": {
       "model_id": "98340163d9074b48a29d1a323e34d01b",
       "version_major": 2,
       "version_minor": 0
      },
      "text/plain": [
       "  0%|          | 0/239 [00:00<?, ?it/s]"
      ]
     },
     "metadata": {},
     "output_type": "display_data"
    }
   ],
   "source": [
    "# Plot the the total error for both total energy and \n",
    "energy_sums = []\n",
    "energy_sums_pred = []\n",
    "energy_diffs = []\n",
    "        \n",
    "with torch.no_grad():\n",
    "    model.eval()\n",
    "    test_loss = 0\n",
    "    n_test_events = len(test_loader)\n",
    "    for features, keys in tqdm(test_loader, total=n_test_events, leave=False):\n",
    "        features = features.to(device)\n",
    "        #targets = targets.to(device)\n",
    "        features_pred = model(features, keys)\n",
    "        features = features.cpu().numpy()\n",
    "        features_pred = features_pred.cpu().numpy()\n",
    "        \n",
    "        esums = features.sum(axis=(1, 2, 3))\n",
    "        esums_pred = features_pred.sum(axis=(1, 2, 3))\n",
    "        \n",
    "        mask = esums > 20\n",
    "        \n",
    "        energy_sums.append(esums[mask])\n",
    "        energy_sums_pred.append(esums_pred[mask])\n",
    "        \n",
    "\n",
    "energy_sums = np.concatenate(energy_sums).flatten()\n",
    "energy_sums_pred = np.concatenate(energy_sums_pred).flatten()\n",
    "energy_diffs = energy_sums_pred - energy_sums"
   ]
  },
  {
   "cell_type": "code",
   "execution_count": 8,
   "metadata": {},
   "outputs": [
    {
     "data": {
      "image/png": "[encoded data removed]",
      "text/plain": [
       "<Figure size 1200x600 with 2 Axes>"
      ]
     },
     "metadata": {},
     "output_type": "display_data"
    }
   ],
   "source": [
    "fig, axes = plt.subplots(1, 2, figsize=(12, 6), gridspec_kw={'width_ratios': [1., 2]})\n",
    "\n",
    "ax = axes[0]\n",
    "frac_energy_diff = energy_diffs/energy_sums\n",
    "ax.hist(frac_energy_diff, bins=np.linspace(-1, 1, 50), density=True)\n",
    "ax.set_xlabel(r'$\\frac{E_{pred} - E_{true}}{E_{true}}$')\n",
    "ax.set_ylabel('Density')\n",
    "ax.text(0.6, 0.8, f' mean = {frac_energy_diff.mean():.2f} \\n std. err. = {frac_energy_diff.std():.2f}', fontsize=12, transform=ax.transAxes)\n",
    "\n",
    "ax.set_xlim(-1, 1)\n",
    "\n",
    "ax = axes[1]\n",
    "ebin = np.array([20, 30, 50, 80, 140, 250, 500, 1000])\n",
    "eratio_means = []\n",
    "eratio_stds = []\n",
    "for elow, ehigh in zip(ebin[:-1], ebin[1:]):\n",
    "    mask = (energy_sums > elow) & (energy_sums < ehigh)\n",
    "    esum = energy_sums[mask]\n",
    "    esum_pred = energy_sums_pred[mask]\n",
    "    \n",
    "    mask = (esum_pred > 0.)\n",
    "    eratio = esum[mask]/esum_pred[mask]\n",
    "    eratio_means.append(eratio.mean())\n",
    "    eratio_stds.append(eratio.std())\n",
    "    \n",
    "ax.errorbar((ebin[1:] + ebin[:-1])/2, eratio_means, eratio_stds, linewidth=0.) \n",
    "ax.set_ylabel(r'$\\frac{E_{pred} - E_{true}}{E_{true}}$', size=16)\n",
    "ax.set_xlabel(r'$E_{true}$')\n",
    "ax.set_xlim(0.1, 1e3)\n",
    "\n",
    "plt.tight_layout()\n",
    "plt.savefig(f'plots/ae_energy_resolution_{scenario}.png')\n",
    "plt.show()"
   ]
  },
  {
   "cell_type": "code",
   "execution_count": null,
   "metadata": {},
   "outputs": [],
   "source": []
  }
 ],
 "metadata": {
  "hide_input": false,
  "kernelspec": {
   "display_name": "Python 3",
   "language": "python",
   "name": "python3"
  },
  "language_info": {
   "codemirror_mode": {
    "name": "ipython",
    "version": 3
   },
   "file_extension": ".py",
   "mimetype": "text/x-python",
   "name": "python",
   "nbconvert_exporter": "python",
   "pygments_lexer": "ipython3",
   "version": "3.8.11"
  },
  "latex_envs": {
   "LaTeX_envs_menu_present": true,
   "autocomplete": true,
   "bibliofile": "biblio.bib",
   "cite_by": "apalike",
   "current_citInitial": 1,
   "eqLabelWithNumbers": true,
   "eqNumInitial": 0,
   "hotkeys": {
    "equation": "Ctrl-E",
    "itemize": "Ctrl-I"
   },
   "labels_anchors": false,
   "latex_user_defs": false,
   "report_style_numbering": false,
   "user_envs_cfg": false
  },
  "toc": {
   "nav_menu": {
    "height": "4px",
    "width": "254px"
   },
   "navigate_menu": true,
   "number_sections": true,
   "sideBar": true,
   "threshold": 4,
   "toc_cell": false,
   "toc_section_display": "block",
   "toc_window_display": false
  },
  "varInspector": {
   "cols": {
    "lenName": 16,
    "lenType": 16,
    "lenVar": 40
   },
   "kernels_config": {
    "python": {
     "delete_cmd_postfix": "",
     "delete_cmd_prefix": "del ",
     "library": "var_list.py",
     "varRefreshCmd": "print(var_dic_list())"
    },
    "r": {
     "delete_cmd_postfix": ") ",
     "delete_cmd_prefix": "rm(",
     "library": "var_list.r",
     "varRefreshCmd": "cat(var_dic_list()) "
    }
   },
   "types_to_exclude": [
    "module",
    "function",
    "builtin_function_or_method",
    "instance",
    "_Feature"
   ],
   "window_display": false
  }
 },
 "nbformat": 4,
 "nbformat_minor": 4
}
