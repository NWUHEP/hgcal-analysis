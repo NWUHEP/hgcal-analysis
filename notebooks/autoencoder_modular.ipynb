{
 "cells": [
  {
   "cell_type": "code",
   "execution_count": 1,
   "metadata": {
    "code_folding": []
   },
   "outputs": [
    {
     "name": "stdout",
     "output_type": "stream",
     "text": [
      "/home/naodell/work/hgcal/analysis\n"
     ]
    }
   ],
   "source": [
    "# imports and setup\n",
    "%load_ext autoreload\n",
    "%autoreload 2\n",
    "%cd '/home/naodell/work/hgcal/analysis'"
   ]
  },
  {
   "cell_type": "code",
   "execution_count": 2,
   "metadata": {
    "code_folding": []
   },
   "outputs": [],
   "source": [
    "import os\n",
    "import pickle\n",
    "from pathlib import Path\n",
    "import pandas as pd\n",
    "import numpy as np\n",
    "import matplotlib.pyplot as plt\n",
    "import matplotlib\n",
    "matplotlib.style.use('default')\n",
    "\n",
    "import torch\n",
    "from torch import nn\n",
    "from torch.utils.data import DataLoader\n",
    "from torch.utils.tensorboard import SummaryWriter\n",
    "from torchvision import datasets, transforms\n",
    "from sklearn import preprocessing\n",
    "import seaborn as sns\n",
    "from tqdm.notebook import tqdm, trange\n",
    "\n",
    "from models.autoencoder import AutoEncoderModular, AutoEncoderModularConnected\n",
    "from models.loss import mse_loss_regularized\n",
    "from datasets.hgcal_tc_dataset import HGCalTCModuleDictDataset\n",
    "\n",
    "#%connect_info"
   ]
  },
  {
   "cell_type": "code",
   "execution_count": 3,
   "metadata": {
    "code_folding": [
     0
    ]
   },
   "outputs": [
    {
     "name": "stdout",
     "output_type": "stream",
     "text": [
      "Total number of events: 19114\n"
     ]
    }
   ],
   "source": [
    "# get the data\n",
    "input_dir = 'local_data/econ_training_data/single_photon_data/'\n",
    "input_filenames = [f'{input_dir}/{f}' for f in os.listdir(input_dir)]\n",
    "hgcal_data = HGCalTCModuleDictDataset(input_filenames)\n",
    "\n",
    "# sample from dataframe according to event weights; split into testing and training sets\n",
    "device = 'cuda' if torch.cuda.is_available() else 'cpu'\n",
    "\n",
    "# training sample\n",
    "batch_size = 16\n",
    "n_total = len(hgcal_data)\n",
    "split = round(0.8*n_total)\n",
    "train_loader = DataLoader(hgcal_data[:split],  batch_size=batch_size, shuffle=True, pin_memory=True)\n",
    "test_loader = DataLoader(hgcal_data[split:],  batch_size=batch_size, shuffle=True, pin_memory=True)\n",
    "print(f'Total number of events: {n_total}')"
   ]
  },
  {
   "cell_type": "code",
   "execution_count": 4,
   "metadata": {
    "code_folding": [],
    "scrolled": true,
    "tags": []
   },
   "outputs": [
    {
     "name": "stdout",
     "output_type": "stream",
     "text": [
      "cuda\n",
      "AutoEncoderModularConnected(\n",
      "  (encoder): ModuleDict(\n",
      "    (0): WaferEncoder(\n",
      "      (conv2d): Conv2d(14, 112, kernel_size=(3, 3), stride=(1, 1), padding=(1, 1), groups=14, bias=False)\n",
      "      (act_conv): ReLU()\n",
      "      (pool): MaxPool2d(kernel_size=2, stride=2, padding=0, dilation=1, ceil_mode=False)\n",
      "      (dense_layers): ModuleList(\n",
      "        (0): Sequential(\n",
      "          (0): Linear(in_features=128, out_features=16, bias=True)\n",
      "          (1): ReLU()\n",
      "        )\n",
      "        (1): Sequential(\n",
      "          (0): Linear(in_features=128, out_features=16, bias=True)\n",
      "          (1): ReLU()\n",
      "        )\n",
      "        (2): Sequential(\n",
      "          (0): Linear(in_features=128, out_features=16, bias=True)\n",
      "          (1): ReLU()\n",
      "        )\n",
      "        (3): Sequential(\n",
      "          (0): Linear(in_features=128, out_features=16, bias=True)\n",
      "          (1): ReLU()\n",
      "        )\n",
      "        (4): Sequential(\n",
      "          (0): Linear(in_features=128, out_features=16, bias=True)\n",
      "          (1): ReLU()\n",
      "        )\n",
      "        (5): Sequential(\n",
      "          (0): Linear(in_features=128, out_features=16, bias=True)\n",
      "          (1): ReLU()\n",
      "        )\n",
      "        (6): Sequential(\n",
      "          (0): Linear(in_features=128, out_features=16, bias=True)\n",
      "          (1): ReLU()\n",
      "        )\n",
      "        (7): Sequential(\n",
      "          (0): Linear(in_features=128, out_features=16, bias=True)\n",
      "          (1): ReLU()\n",
      "        )\n",
      "        (8): Sequential(\n",
      "          (0): Linear(in_features=128, out_features=16, bias=True)\n",
      "          (1): ReLU()\n",
      "        )\n",
      "        (9): Sequential(\n",
      "          (0): Linear(in_features=128, out_features=16, bias=True)\n",
      "          (1): ReLU()\n",
      "        )\n",
      "        (10): Sequential(\n",
      "          (0): Linear(in_features=128, out_features=16, bias=True)\n",
      "          (1): ReLU()\n",
      "        )\n",
      "        (11): Sequential(\n",
      "          (0): Linear(in_features=128, out_features=16, bias=True)\n",
      "          (1): ReLU()\n",
      "        )\n",
      "        (12): Sequential(\n",
      "          (0): Linear(in_features=128, out_features=16, bias=True)\n",
      "          (1): ReLU()\n",
      "        )\n",
      "        (13): Sequential(\n",
      "          (0): Linear(in_features=128, out_features=16, bias=True)\n",
      "          (1): ReLU()\n",
      "        )\n",
      "      )\n",
      "    )\n",
      "    (1): WaferEncoder(\n",
      "      (conv2d): Conv2d(14, 112, kernel_size=(3, 3), stride=(1, 1), padding=(1, 1), groups=14, bias=False)\n",
      "      (act_conv): ReLU()\n",
      "      (pool): MaxPool2d(kernel_size=2, stride=2, padding=0, dilation=1, ceil_mode=False)\n",
      "      (dense_layers): ModuleList(\n",
      "        (0): Sequential(\n",
      "          (0): Linear(in_features=128, out_features=16, bias=True)\n",
      "          (1): ReLU()\n",
      "        )\n",
      "        (1): Sequential(\n",
      "          (0): Linear(in_features=128, out_features=16, bias=True)\n",
      "          (1): ReLU()\n",
      "        )\n",
      "        (2): Sequential(\n",
      "          (0): Linear(in_features=128, out_features=16, bias=True)\n",
      "          (1): ReLU()\n",
      "        )\n",
      "        (3): Sequential(\n",
      "          (0): Linear(in_features=128, out_features=16, bias=True)\n",
      "          (1): ReLU()\n",
      "        )\n",
      "        (4): Sequential(\n",
      "          (0): Linear(in_features=128, out_features=16, bias=True)\n",
      "          (1): ReLU()\n",
      "        )\n",
      "        (5): Sequential(\n",
      "          (0): Linear(in_features=128, out_features=16, bias=True)\n",
      "          (1): ReLU()\n",
      "        )\n",
      "        (6): Sequential(\n",
      "          (0): Linear(in_features=128, out_features=16, bias=True)\n",
      "          (1): ReLU()\n",
      "        )\n",
      "        (7): Sequential(\n",
      "          (0): Linear(in_features=128, out_features=16, bias=True)\n",
      "          (1): ReLU()\n",
      "        )\n",
      "        (8): Sequential(\n",
      "          (0): Linear(in_features=128, out_features=16, bias=True)\n",
      "          (1): ReLU()\n",
      "        )\n",
      "        (9): Sequential(\n",
      "          (0): Linear(in_features=128, out_features=16, bias=True)\n",
      "          (1): ReLU()\n",
      "        )\n",
      "        (10): Sequential(\n",
      "          (0): Linear(in_features=128, out_features=16, bias=True)\n",
      "          (1): ReLU()\n",
      "        )\n",
      "        (11): Sequential(\n",
      "          (0): Linear(in_features=128, out_features=16, bias=True)\n",
      "          (1): ReLU()\n",
      "        )\n",
      "        (12): Sequential(\n",
      "          (0): Linear(in_features=128, out_features=16, bias=True)\n",
      "          (1): ReLU()\n",
      "        )\n",
      "        (13): Sequential(\n",
      "          (0): Linear(in_features=128, out_features=16, bias=True)\n",
      "          (1): ReLU()\n",
      "        )\n",
      "      )\n",
      "    )\n",
      "    (2): WaferEncoder(\n",
      "      (conv2d): Conv2d(14, 112, kernel_size=(3, 3), stride=(1, 1), padding=(1, 1), groups=14, bias=False)\n",
      "      (act_conv): ReLU()\n",
      "      (pool): MaxPool2d(kernel_size=2, stride=2, padding=0, dilation=1, ceil_mode=False)\n",
      "      (dense_layers): ModuleList(\n",
      "        (0): Sequential(\n",
      "          (0): Linear(in_features=128, out_features=16, bias=True)\n",
      "          (1): ReLU()\n",
      "        )\n",
      "        (1): Sequential(\n",
      "          (0): Linear(in_features=128, out_features=16, bias=True)\n",
      "          (1): ReLU()\n",
      "        )\n",
      "        (2): Sequential(\n",
      "          (0): Linear(in_features=128, out_features=16, bias=True)\n",
      "          (1): ReLU()\n",
      "        )\n",
      "        (3): Sequential(\n",
      "          (0): Linear(in_features=128, out_features=16, bias=True)\n",
      "          (1): ReLU()\n",
      "        )\n",
      "        (4): Sequential(\n",
      "          (0): Linear(in_features=128, out_features=16, bias=True)\n",
      "          (1): ReLU()\n",
      "        )\n",
      "        (5): Sequential(\n",
      "          (0): Linear(in_features=128, out_features=16, bias=True)\n",
      "          (1): ReLU()\n",
      "        )\n",
      "        (6): Sequential(\n",
      "          (0): Linear(in_features=128, out_features=16, bias=True)\n",
      "          (1): ReLU()\n",
      "        )\n",
      "        (7): Sequential(\n",
      "          (0): Linear(in_features=128, out_features=16, bias=True)\n",
      "          (1): ReLU()\n",
      "        )\n",
      "        (8): Sequential(\n",
      "          (0): Linear(in_features=128, out_features=16, bias=True)\n",
      "          (1): ReLU()\n",
      "        )\n",
      "        (9): Sequential(\n",
      "          (0): Linear(in_features=128, out_features=16, bias=True)\n",
      "          (1): ReLU()\n",
      "        )\n",
      "        (10): Sequential(\n",
      "          (0): Linear(in_features=128, out_features=16, bias=True)\n",
      "          (1): ReLU()\n",
      "        )\n",
      "        (11): Sequential(\n",
      "          (0): Linear(in_features=128, out_features=16, bias=True)\n",
      "          (1): ReLU()\n",
      "        )\n",
      "        (12): Sequential(\n",
      "          (0): Linear(in_features=128, out_features=16, bias=True)\n",
      "          (1): ReLU()\n",
      "        )\n",
      "        (13): Sequential(\n",
      "          (0): Linear(in_features=128, out_features=16, bias=True)\n",
      "          (1): ReLU()\n",
      "        )\n",
      "      )\n",
      "    )\n",
      "    (3): WaferEncoder(\n",
      "      (conv2d): Conv2d(14, 112, kernel_size=(3, 3), stride=(1, 1), padding=(1, 1), groups=14, bias=False)\n",
      "      (act_conv): ReLU()\n",
      "      (pool): MaxPool2d(kernel_size=2, stride=2, padding=0, dilation=1, ceil_mode=False)\n",
      "      (dense_layers): ModuleList(\n",
      "        (0): Sequential(\n",
      "          (0): Linear(in_features=128, out_features=16, bias=True)\n",
      "          (1): ReLU()\n",
      "        )\n",
      "        (1): Sequential(\n",
      "          (0): Linear(in_features=128, out_features=16, bias=True)\n",
      "          (1): ReLU()\n",
      "        )\n",
      "        (2): Sequential(\n",
      "          (0): Linear(in_features=128, out_features=16, bias=True)\n",
      "          (1): ReLU()\n",
      "        )\n",
      "        (3): Sequential(\n",
      "          (0): Linear(in_features=128, out_features=16, bias=True)\n",
      "          (1): ReLU()\n",
      "        )\n",
      "        (4): Sequential(\n",
      "          (0): Linear(in_features=128, out_features=16, bias=True)\n",
      "          (1): ReLU()\n",
      "        )\n",
      "        (5): Sequential(\n",
      "          (0): Linear(in_features=128, out_features=16, bias=True)\n",
      "          (1): ReLU()\n",
      "        )\n",
      "        (6): Sequential(\n",
      "          (0): Linear(in_features=128, out_features=16, bias=True)\n",
      "          (1): ReLU()\n",
      "        )\n",
      "        (7): Sequential(\n",
      "          (0): Linear(in_features=128, out_features=16, bias=True)\n",
      "          (1): ReLU()\n",
      "        )\n",
      "        (8): Sequential(\n",
      "          (0): Linear(in_features=128, out_features=16, bias=True)\n",
      "          (1): ReLU()\n",
      "        )\n",
      "        (9): Sequential(\n",
      "          (0): Linear(in_features=128, out_features=16, bias=True)\n",
      "          (1): ReLU()\n",
      "        )\n",
      "        (10): Sequential(\n",
      "          (0): Linear(in_features=128, out_features=16, bias=True)\n",
      "          (1): ReLU()\n",
      "        )\n",
      "        (11): Sequential(\n",
      "          (0): Linear(in_features=128, out_features=16, bias=True)\n",
      "          (1): ReLU()\n",
      "        )\n",
      "        (12): Sequential(\n",
      "          (0): Linear(in_features=128, out_features=16, bias=True)\n",
      "          (1): ReLU()\n",
      "        )\n",
      "        (13): Sequential(\n",
      "          (0): Linear(in_features=128, out_features=16, bias=True)\n",
      "          (1): ReLU()\n",
      "        )\n",
      "      )\n",
      "    )\n",
      "    (4): WaferEncoder(\n",
      "      (conv2d): Conv2d(14, 112, kernel_size=(3, 3), stride=(1, 1), padding=(1, 1), groups=14, bias=False)\n",
      "      (act_conv): ReLU()\n",
      "      (pool): MaxPool2d(kernel_size=2, stride=2, padding=0, dilation=1, ceil_mode=False)\n",
      "      (dense_layers): ModuleList(\n",
      "        (0): Sequential(\n",
      "          (0): Linear(in_features=128, out_features=16, bias=True)\n",
      "          (1): ReLU()\n",
      "        )\n",
      "        (1): Sequential(\n",
      "          (0): Linear(in_features=128, out_features=16, bias=True)\n",
      "          (1): ReLU()\n",
      "        )\n",
      "        (2): Sequential(\n",
      "          (0): Linear(in_features=128, out_features=16, bias=True)\n",
      "          (1): ReLU()\n",
      "        )\n",
      "        (3): Sequential(\n",
      "          (0): Linear(in_features=128, out_features=16, bias=True)\n",
      "          (1): ReLU()\n",
      "        )\n",
      "        (4): Sequential(\n",
      "          (0): Linear(in_features=128, out_features=16, bias=True)\n",
      "          (1): ReLU()\n",
      "        )\n",
      "        (5): Sequential(\n",
      "          (0): Linear(in_features=128, out_features=16, bias=True)\n",
      "          (1): ReLU()\n",
      "        )\n",
      "        (6): Sequential(\n",
      "          (0): Linear(in_features=128, out_features=16, bias=True)\n",
      "          (1): ReLU()\n",
      "        )\n",
      "        (7): Sequential(\n",
      "          (0): Linear(in_features=128, out_features=16, bias=True)\n",
      "          (1): ReLU()\n",
      "        )\n",
      "        (8): Sequential(\n",
      "          (0): Linear(in_features=128, out_features=16, bias=True)\n",
      "          (1): ReLU()\n",
      "        )\n",
      "        (9): Sequential(\n",
      "          (0): Linear(in_features=128, out_features=16, bias=True)\n",
      "          (1): ReLU()\n",
      "        )\n",
      "        (10): Sequential(\n",
      "          (0): Linear(in_features=128, out_features=16, bias=True)\n",
      "          (1): ReLU()\n",
      "        )\n",
      "        (11): Sequential(\n",
      "          (0): Linear(in_features=128, out_features=16, bias=True)\n",
      "          (1): ReLU()\n",
      "        )\n",
      "        (12): Sequential(\n",
      "          (0): Linear(in_features=128, out_features=16, bias=True)\n",
      "          (1): ReLU()\n",
      "        )\n",
      "        (13): Sequential(\n",
      "          (0): Linear(in_features=128, out_features=16, bias=True)\n",
      "          (1): ReLU()\n",
      "        )\n",
      "      )\n",
      "    )\n",
      "  )\n",
      "  (decoder): ModuleDict(\n",
      "    (0): WaferDecoderLayers(\n",
      "      (dense_layers): Sequential(\n",
      "        (0): Linear(in_features=224, out_features=3584, bias=True)\n",
      "        (1): ReLU()\n",
      "      )\n",
      "      (tconv2d): ConvTranspose2d(224, 14, kernel_size=(3, 3), stride=(2, 2), padding=(1, 1), output_padding=(1, 1))\n",
      "      (act_tconv): ReLU()\n",
      "    )\n",
      "    (1): WaferDecoderLayers(\n",
      "      (dense_layers): Sequential(\n",
      "        (0): Linear(in_features=224, out_features=3584, bias=True)\n",
      "        (1): ReLU()\n",
      "      )\n",
      "      (tconv2d): ConvTranspose2d(224, 14, kernel_size=(3, 3), stride=(2, 2), padding=(1, 1), output_padding=(1, 1))\n",
      "      (act_tconv): ReLU()\n",
      "    )\n",
      "    (2): WaferDecoderLayers(\n",
      "      (dense_layers): Sequential(\n",
      "        (0): Linear(in_features=224, out_features=3584, bias=True)\n",
      "        (1): ReLU()\n",
      "      )\n",
      "      (tconv2d): ConvTranspose2d(224, 14, kernel_size=(3, 3), stride=(2, 2), padding=(1, 1), output_padding=(1, 1))\n",
      "      (act_tconv): ReLU()\n",
      "    )\n",
      "    (3): WaferDecoderLayers(\n",
      "      (dense_layers): Sequential(\n",
      "        (0): Linear(in_features=224, out_features=3584, bias=True)\n",
      "        (1): ReLU()\n",
      "      )\n",
      "      (tconv2d): ConvTranspose2d(224, 14, kernel_size=(3, 3), stride=(2, 2), padding=(1, 1), output_padding=(1, 1))\n",
      "      (act_tconv): ReLU()\n",
      "    )\n",
      "    (4): WaferDecoderLayers(\n",
      "      (dense_layers): Sequential(\n",
      "        (0): Linear(in_features=224, out_features=3584, bias=True)\n",
      "        (1): ReLU()\n",
      "      )\n",
      "      (tconv2d): ConvTranspose2d(224, 14, kernel_size=(3, 3), stride=(2, 2), padding=(1, 1), output_padding=(1, 1))\n",
      "      (act_tconv): ReLU()\n",
      "    )\n",
      "  )\n",
      ")\n"
     ]
    }
   ],
   "source": [
    "# define and setup the NN model\n",
    "scenario = 'modular_connected'\n",
    "model = AutoEncoderModularConnected(encode_size=16).to(device)\n",
    "print(device, model, sep='\\n')"
   ]
  },
  {
   "cell_type": "code",
   "execution_count": null,
   "metadata": {},
   "outputs": [
    {
     "data": {
      "application/vnd.jupyter.widget-view+json": {
       "model_id": "26f5a5bab9274633a8e3538a1dbf2158",
       "version_major": 2,
       "version_minor": 0
      },
      "text/plain": [
       "  0%|          | 0/50 [00:00<?, ?it/s]"
      ]
     },
     "metadata": {},
     "output_type": "display_data"
    },
    {
     "data": {
      "application/vnd.jupyter.widget-view+json": {
       "model_id": "",
       "version_major": 2,
       "version_minor": 0
      },
      "text/plain": [
       "  0%|          | 0/956 [00:00<?, ?it/s]"
      ]
     },
     "metadata": {},
     "output_type": "display_data"
    },
    {
     "data": {
      "application/vnd.jupyter.widget-view+json": {
       "model_id": "",
       "version_major": 2,
       "version_minor": 0
      },
      "text/plain": [
       "  0%|          | 0/239 [00:00<?, ?it/s]"
      ]
     },
     "metadata": {},
     "output_type": "display_data"
    },
    {
     "data": {
      "application/vnd.jupyter.widget-view+json": {
       "model_id": "",
       "version_major": 2,
       "version_minor": 0
      },
      "text/plain": [
       "  0%|          | 0/956 [00:00<?, ?it/s]"
      ]
     },
     "metadata": {},
     "output_type": "display_data"
    },
    {
     "data": {
      "application/vnd.jupyter.widget-view+json": {
       "model_id": "",
       "version_major": 2,
       "version_minor": 0
      },
      "text/plain": [
       "  0%|          | 0/239 [00:00<?, ?it/s]"
      ]
     },
     "metadata": {},
     "output_type": "display_data"
    },
    {
     "data": {
      "application/vnd.jupyter.widget-view+json": {
       "model_id": "",
       "version_major": 2,
       "version_minor": 0
      },
      "text/plain": [
       "  0%|          | 0/956 [00:00<?, ?it/s]"
      ]
     },
     "metadata": {},
     "output_type": "display_data"
    },
    {
     "data": {
      "application/vnd.jupyter.widget-view+json": {
       "model_id": "",
       "version_major": 2,
       "version_minor": 0
      },
      "text/plain": [
       "  0%|          | 0/239 [00:00<?, ?it/s]"
      ]
     },
     "metadata": {},
     "output_type": "display_data"
    },
    {
     "data": {
      "application/vnd.jupyter.widget-view+json": {
       "model_id": "",
       "version_major": 2,
       "version_minor": 0
      },
      "text/plain": [
       "  0%|          | 0/956 [00:00<?, ?it/s]"
      ]
     },
     "metadata": {},
     "output_type": "display_data"
    },
    {
     "data": {
      "application/vnd.jupyter.widget-view+json": {
       "model_id": "",
       "version_major": 2,
       "version_minor": 0
      },
      "text/plain": [
       "  0%|          | 0/239 [00:00<?, ?it/s]"
      ]
     },
     "metadata": {},
     "output_type": "display_data"
    },
    {
     "data": {
      "application/vnd.jupyter.widget-view+json": {
       "model_id": "",
       "version_major": 2,
       "version_minor": 0
      },
      "text/plain": [
       "  0%|          | 0/956 [00:00<?, ?it/s]"
      ]
     },
     "metadata": {},
     "output_type": "display_data"
    },
    {
     "data": {
      "application/vnd.jupyter.widget-view+json": {
       "model_id": "",
       "version_major": 2,
       "version_minor": 0
      },
      "text/plain": [
       "  0%|          | 0/239 [00:00<?, ?it/s]"
      ]
     },
     "metadata": {},
     "output_type": "display_data"
    },
    {
     "data": {
      "application/vnd.jupyter.widget-view+json": {
       "model_id": "",
       "version_major": 2,
       "version_minor": 0
      },
      "text/plain": [
       "  0%|          | 0/956 [00:00<?, ?it/s]"
      ]
     },
     "metadata": {},
     "output_type": "display_data"
    },
    {
     "data": {
      "application/vnd.jupyter.widget-view+json": {
       "model_id": "",
       "version_major": 2,
       "version_minor": 0
      },
      "text/plain": [
       "  0%|          | 0/239 [00:00<?, ?it/s]"
      ]
     },
     "metadata": {},
     "output_type": "display_data"
    },
    {
     "data": {
      "application/vnd.jupyter.widget-view+json": {
       "model_id": "",
       "version_major": 2,
       "version_minor": 0
      },
      "text/plain": [
       "  0%|          | 0/956 [00:00<?, ?it/s]"
      ]
     },
     "metadata": {},
     "output_type": "display_data"
    },
    {
     "data": {
      "application/vnd.jupyter.widget-view+json": {
       "model_id": "",
       "version_major": 2,
       "version_minor": 0
      },
      "text/plain": [
       "  0%|          | 0/239 [00:00<?, ?it/s]"
      ]
     },
     "metadata": {},
     "output_type": "display_data"
    },
    {
     "data": {
      "application/vnd.jupyter.widget-view+json": {
       "model_id": "",
       "version_major": 2,
       "version_minor": 0
      },
      "text/plain": [
       "  0%|          | 0/956 [00:00<?, ?it/s]"
      ]
     },
     "metadata": {},
     "output_type": "display_data"
    },
    {
     "data": {
      "application/vnd.jupyter.widget-view+json": {
       "model_id": "",
       "version_major": 2,
       "version_minor": 0
      },
      "text/plain": [
       "  0%|          | 0/239 [00:00<?, ?it/s]"
      ]
     },
     "metadata": {},
     "output_type": "display_data"
    },
    {
     "data": {
      "application/vnd.jupyter.widget-view+json": {
       "model_id": "",
       "version_major": 2,
       "version_minor": 0
      },
      "text/plain": [
       "  0%|          | 0/956 [00:00<?, ?it/s]"
      ]
     },
     "metadata": {},
     "output_type": "display_data"
    },
    {
     "data": {
      "application/vnd.jupyter.widget-view+json": {
       "model_id": "",
       "version_major": 2,
       "version_minor": 0
      },
      "text/plain": [
       "  0%|          | 0/239 [00:00<?, ?it/s]"
      ]
     },
     "metadata": {},
     "output_type": "display_data"
    },
    {
     "data": {
      "application/vnd.jupyter.widget-view+json": {
       "model_id": "",
       "version_major": 2,
       "version_minor": 0
      },
      "text/plain": [
       "  0%|          | 0/956 [00:00<?, ?it/s]"
      ]
     },
     "metadata": {},
     "output_type": "display_data"
    },
    {
     "data": {
      "application/vnd.jupyter.widget-view+json": {
       "model_id": "",
       "version_major": 2,
       "version_minor": 0
      },
      "text/plain": [
       "  0%|          | 0/239 [00:00<?, ?it/s]"
      ]
     },
     "metadata": {},
     "output_type": "display_data"
    },
    {
     "data": {
      "application/vnd.jupyter.widget-view+json": {
       "model_id": "",
       "version_major": 2,
       "version_minor": 0
      },
      "text/plain": [
       "  0%|          | 0/956 [00:00<?, ?it/s]"
      ]
     },
     "metadata": {},
     "output_type": "display_data"
    },
    {
     "data": {
      "application/vnd.jupyter.widget-view+json": {
       "model_id": "",
       "version_major": 2,
       "version_minor": 0
      },
      "text/plain": [
       "  0%|          | 0/239 [00:00<?, ?it/s]"
      ]
     },
     "metadata": {},
     "output_type": "display_data"
    },
    {
     "data": {
      "application/vnd.jupyter.widget-view+json": {
       "model_id": "",
       "version_major": 2,
       "version_minor": 0
      },
      "text/plain": [
       "  0%|          | 0/956 [00:00<?, ?it/s]"
      ]
     },
     "metadata": {},
     "output_type": "display_data"
    },
    {
     "data": {
      "application/vnd.jupyter.widget-view+json": {
       "model_id": "",
       "version_major": 2,
       "version_minor": 0
      },
      "text/plain": [
       "  0%|          | 0/239 [00:00<?, ?it/s]"
      ]
     },
     "metadata": {},
     "output_type": "display_data"
    },
    {
     "data": {
      "application/vnd.jupyter.widget-view+json": {
       "model_id": "",
       "version_major": 2,
       "version_minor": 0
      },
      "text/plain": [
       "  0%|          | 0/956 [00:00<?, ?it/s]"
      ]
     },
     "metadata": {},
     "output_type": "display_data"
    },
    {
     "data": {
      "application/vnd.jupyter.widget-view+json": {
       "model_id": "",
       "version_major": 2,
       "version_minor": 0
      },
      "text/plain": [
       "  0%|          | 0/239 [00:00<?, ?it/s]"
      ]
     },
     "metadata": {},
     "output_type": "display_data"
    },
    {
     "data": {
      "application/vnd.jupyter.widget-view+json": {
       "model_id": "",
       "version_major": 2,
       "version_minor": 0
      },
      "text/plain": [
       "  0%|          | 0/956 [00:00<?, ?it/s]"
      ]
     },
     "metadata": {},
     "output_type": "display_data"
    },
    {
     "data": {
      "application/vnd.jupyter.widget-view+json": {
       "model_id": "",
       "version_major": 2,
       "version_minor": 0
      },
      "text/plain": [
       "  0%|          | 0/239 [00:00<?, ?it/s]"
      ]
     },
     "metadata": {},
     "output_type": "display_data"
    },
    {
     "data": {
      "application/vnd.jupyter.widget-view+json": {
       "model_id": "",
       "version_major": 2,
       "version_minor": 0
      },
      "text/plain": [
       "  0%|          | 0/956 [00:00<?, ?it/s]"
      ]
     },
     "metadata": {},
     "output_type": "display_data"
    },
    {
     "data": {
      "application/vnd.jupyter.widget-view+json": {
       "model_id": "",
       "version_major": 2,
       "version_minor": 0
      },
      "text/plain": [
       "  0%|          | 0/239 [00:00<?, ?it/s]"
      ]
     },
     "metadata": {},
     "output_type": "display_data"
    },
    {
     "data": {
      "application/vnd.jupyter.widget-view+json": {
       "model_id": "",
       "version_major": 2,
       "version_minor": 0
      },
      "text/plain": [
       "  0%|          | 0/956 [00:00<?, ?it/s]"
      ]
     },
     "metadata": {},
     "output_type": "display_data"
    },
    {
     "data": {
      "application/vnd.jupyter.widget-view+json": {
       "model_id": "",
       "version_major": 2,
       "version_minor": 0
      },
      "text/plain": [
       "  0%|          | 0/239 [00:00<?, ?it/s]"
      ]
     },
     "metadata": {},
     "output_type": "display_data"
    },
    {
     "data": {
      "application/vnd.jupyter.widget-view+json": {
       "model_id": "",
       "version_major": 2,
       "version_minor": 0
      },
      "text/plain": [
       "  0%|          | 0/956 [00:00<?, ?it/s]"
      ]
     },
     "metadata": {},
     "output_type": "display_data"
    },
    {
     "data": {
      "application/vnd.jupyter.widget-view+json": {
       "model_id": "",
       "version_major": 2,
       "version_minor": 0
      },
      "text/plain": [
       "  0%|          | 0/239 [00:00<?, ?it/s]"
      ]
     },
     "metadata": {},
     "output_type": "display_data"
    },
    {
     "data": {
      "application/vnd.jupyter.widget-view+json": {
       "model_id": "",
       "version_major": 2,
       "version_minor": 0
      },
      "text/plain": [
       "  0%|          | 0/956 [00:00<?, ?it/s]"
      ]
     },
     "metadata": {},
     "output_type": "display_data"
    },
    {
     "data": {
      "application/vnd.jupyter.widget-view+json": {
       "model_id": "",
       "version_major": 2,
       "version_minor": 0
      },
      "text/plain": [
       "  0%|          | 0/239 [00:00<?, ?it/s]"
      ]
     },
     "metadata": {},
     "output_type": "display_data"
    },
    {
     "data": {
      "application/vnd.jupyter.widget-view+json": {
       "model_id": "",
       "version_major": 2,
       "version_minor": 0
      },
      "text/plain": [
       "  0%|          | 0/956 [00:00<?, ?it/s]"
      ]
     },
     "metadata": {},
     "output_type": "display_data"
    },
    {
     "data": {
      "application/vnd.jupyter.widget-view+json": {
       "model_id": "",
       "version_major": 2,
       "version_minor": 0
      },
      "text/plain": [
       "  0%|          | 0/239 [00:00<?, ?it/s]"
      ]
     },
     "metadata": {},
     "output_type": "display_data"
    },
    {
     "data": {
      "application/vnd.jupyter.widget-view+json": {
       "model_id": "",
       "version_major": 2,
       "version_minor": 0
      },
      "text/plain": [
       "  0%|          | 0/956 [00:00<?, ?it/s]"
      ]
     },
     "metadata": {},
     "output_type": "display_data"
    },
    {
     "data": {
      "application/vnd.jupyter.widget-view+json": {
       "model_id": "",
       "version_major": 2,
       "version_minor": 0
      },
      "text/plain": [
       "  0%|          | 0/239 [00:00<?, ?it/s]"
      ]
     },
     "metadata": {},
     "output_type": "display_data"
    },
    {
     "data": {
      "application/vnd.jupyter.widget-view+json": {
       "model_id": "",
       "version_major": 2,
       "version_minor": 0
      },
      "text/plain": [
       "  0%|          | 0/956 [00:00<?, ?it/s]"
      ]
     },
     "metadata": {},
     "output_type": "display_data"
    },
    {
     "data": {
      "application/vnd.jupyter.widget-view+json": {
       "model_id": "",
       "version_major": 2,
       "version_minor": 0
      },
      "text/plain": [
       "  0%|          | 0/239 [00:00<?, ?it/s]"
      ]
     },
     "metadata": {},
     "output_type": "display_data"
    },
    {
     "data": {
      "application/vnd.jupyter.widget-view+json": {
       "model_id": "",
       "version_major": 2,
       "version_minor": 0
      },
      "text/plain": [
       "  0%|          | 0/956 [00:00<?, ?it/s]"
      ]
     },
     "metadata": {},
     "output_type": "display_data"
    },
    {
     "data": {
      "application/vnd.jupyter.widget-view+json": {
       "model_id": "",
       "version_major": 2,
       "version_minor": 0
      },
      "text/plain": [
       "  0%|          | 0/239 [00:00<?, ?it/s]"
      ]
     },
     "metadata": {},
     "output_type": "display_data"
    },
    {
     "data": {
      "application/vnd.jupyter.widget-view+json": {
       "model_id": "97b51310fc1742ecaca3435da10b2db0",
       "version_major": 2,
       "version_minor": 0
      },
      "text/plain": [
       "  0%|          | 0/956 [00:00<?, ?it/s]"
      ]
     },
     "metadata": {},
     "output_type": "display_data"
    }
   ],
   "source": [
    "# optimize NN weights\n",
    "n_epochs = 50\n",
    "n_events = len(train_loader)\n",
    "\n",
    "# define loss and configure optimizer\n",
    "loss_fn = nn.HuberLoss(reduction='sum')\n",
    "#loss_fn = mse_loss_regularized\n",
    "\n",
    "optimizer = torch.optim.AdamW(model.parameters(), lr=1e-2, weight_decay=1e-3)\n",
    "#optimizer = torch.optim.SGD(model.parameters(), lr=1e-3)\n",
    "tb_writer = SummaryWriter(log_dir='logs')\n",
    "\n",
    "pbar1 = tqdm(range(n_epochs), total=n_epochs, leave=False, position=0)\n",
    "pbar1.set_postfix({'avg. loss':'?'})\n",
    "loss_cache = []\n",
    "for iepoch in pbar1:\n",
    "    model.train()\n",
    "    pbar2 = tqdm(train_loader, total=n_events, leave=False, position=1)\n",
    "    pbar2.set_postfix({'loss':'?'})\n",
    "    avg_loss = 0\n",
    "    for jevent, (features, keys) in enumerate(pbar2):\n",
    "        #features = features.unsqueeze(1).to(device)\n",
    "        features = features.to(device)\n",
    "        #targets = targets.to(device)\n",
    "        optimizer.zero_grad()\n",
    "        features_pred = model(features, keys)\n",
    "        loss = loss_fn(torch.log(1. + features_pred), torch.log(1. + features))\n",
    "        loss.backward()\n",
    "        optimizer.step()\n",
    "        \n",
    "        #pbar2.set_postfix({'loss':f'{loss.item():.3f}'})\n",
    "        #tb_writer.add_scalar('training loss', loss.item(), iepoch*n_events + jevent)\n",
    "        \n",
    "        avg_loss += loss.item()\n",
    "        if jevent%10 == 0:\n",
    "            avg_loss /= 10\n",
    "            pbar2.set_postfix({'loss':f'{loss.item():.3f}'})\n",
    "            tb_writer.add_scalar('training loss', loss.item(), iepoch*(n_events//10) + jevent/10)\n",
    "            avg_loss = 0\n",
    "        \n",
    "    with torch.no_grad():\n",
    "        model.eval()\n",
    "        test_loss = 0\n",
    "        n_test_events = len(test_loader)\n",
    "        for features, keys in tqdm(test_loader, total=n_test_events, leave=False):\n",
    "            features = features.to(device)\n",
    "            #targets = targets.to(device)\n",
    "            features_pred = model(features, keys)\n",
    "            #tqdm.write(features_pred.shape, features.shape)\n",
    "            test_loss += loss_fn(torch.log(1. + features_pred), torch.log(1. + features))\n",
    "            loss_cache.append(test_loss.item())\n",
    "            \n",
    "            \n",
    "        avg_loss = test_loss.item()/n_test_events\n",
    "        pbar1.set_postfix({'avg loss':f'{avg_loss:.3f}'})\n",
    "        tb_writer.add_scalar('test loss', avg_loss, iepoch)\n",
    "        #tb_writer.add_graph(model, features)\n",
    "        \n",
    "        #images = torchvision.utils.make_grid(features)\n",
    "        #images_pred = torchvision.utils.make_grid(features_pred)\n",
    "        #tb_writer.add_image('input', images)\n",
    "        #tb_writer.add_image('output', images_pred)\n",
    "        \n",
    "        # write a checkpoint based on the performance of the model\n",
    "\n"
   ]
  },
  {
   "cell_type": "code",
   "execution_count": 9,
   "metadata": {},
   "outputs": [],
   "source": [
    "# compare images\n",
    "import utils.plot_tools as pt\n",
    "from matplotlib.colors import LogNorm\n",
    "\n",
    "output_dir = Path(f'plots/{scenario}')\n",
    "output_dir.mkdir(parents=True, exist_ok=True)\n",
    "with torch.no_grad():\n",
    "    model.eval()\n",
    "    \n",
    "    images, keys = iter(test_loader).next()\n",
    "    # batch_size = 8, n_layers = 14, 8, 8\n",
    "    images = images.to(device)\n",
    "    images_pred = model(images, keys)\n",
    "    images_enc = [model.encode(images[i], f'{k}') for i, k in enumerate(keys)]\n",
    "    for ibatch, key in enumerate(keys):\n",
    "        image_data = zip(images[ibatch], images_pred[ibatch], images_enc[ibatch])\n",
    "        emax = images[ibatch].max()\n",
    "        fig, axes = plt.subplots(3, 14, facecolor='white', figsize=(14, 6), gridspec_kw={'height_ratios': [1, 0.2, 1]})\n",
    "        for ilayer, (image, image_pred, encoded_image) in enumerate(image_data):\n",
    "            image = image.squeeze().cpu().numpy()\n",
    "            encoded_image = encoded_image.squeeze().cpu().numpy()\n",
    "            image_pred = image_pred.squeeze().cpu().numpy().reshape(image.shape)\n",
    "            #energy_corr = image.sum()/image_pred.sum()\n",
    "            #image_pred *= energy_corr\n",
    "\n",
    "            ax = axes[0][ilayer]\n",
    "            #ax.set_aspect('equal')\n",
    "            pt.draw_single_module_pixels(ax, cell_data=image, no_axes=True)\n",
    "            ax.set_xticks([])\n",
    "            ax.set_yticks([])\n",
    "            ax.set_title(f'layer {ilayer}', fontsize=10)\n",
    "            if ilayer == 0:\n",
    "                ax.set_ylabel('input', fontsize=10)\n",
    "\n",
    "            ax = axes[1][ilayer]\n",
    "            #ax.set_aspect('equal')\n",
    "            ax.pcolor(encoded_image.reshape(-1, 2), linewidth=2, vmin=0.)\n",
    "            ax.set_xticks([])\n",
    "            ax.set_yticks([])\n",
    "            if ilayer == 0:\n",
    "                ax.set_ylabel('encoded', fontsize=10)\n",
    "#\n",
    "            ax = axes[2][ilayer]\n",
    "            #ax.set_aspect('equal')\n",
    "            pt.draw_single_module_pixels(ax, cell_data=image_pred, no_axes=True)\n",
    "            #ax.imshow(image_pred, norm=LogNorm())\n",
    "            ax.set_xticks([])\n",
    "            ax.set_yticks([])\n",
    "            if ilayer == 0:\n",
    "                ax.set_ylabel('output', fontsize=10)\n",
    "        \n",
    "        \n",
    "        plt.tight_layout()\n",
    "        plt.savefig(output_dir / f'ae_encoding_comparisons_{ibatch}.png')\n",
    "        fig.clear()\n",
    "        plt.close()"
   ]
  },
  {
   "cell_type": "code",
   "execution_count": 10,
   "metadata": {},
   "outputs": [
    {
     "data": {
      "application/vnd.jupyter.widget-view+json": {
       "model_id": "",
       "version_major": 2,
       "version_minor": 0
      },
      "text/plain": [
       "  0%|          | 0/239 [00:00<?, ?it/s]"
      ]
     },
     "metadata": {},
     "output_type": "display_data"
    }
   ],
   "source": [
    "# Plot the the total error for both total energy and \n",
    "energy_sums = []\n",
    "energy_sums_pred = []\n",
    "energy_diffs = []\n",
    "        \n",
    "with torch.no_grad():\n",
    "    model.eval()\n",
    "    test_loss = 0\n",
    "    n_test_events = len(test_loader)\n",
    "    for features, keys in tqdm(test_loader, total=n_test_events, leave=False):\n",
    "        features = features.to(device)\n",
    "        #targets = targets.to(device)\n",
    "        features_pred = model(features, keys)\n",
    "        features = features.cpu().numpy()\n",
    "        features_pred = features_pred.cpu().numpy()\n",
    "        \n",
    "        esums = features.sum(axis=(1, 2, 3))\n",
    "        esums_pred = features_pred.sum(axis=(1, 2, 3))\n",
    "        \n",
    "        mask = esums > 20\n",
    "        \n",
    "        energy_sums.append(esums[mask])\n",
    "        energy_sums_pred.append(esums_pred[mask])\n",
    "        \n",
    "\n",
    "energy_sums = np.concatenate(energy_sums).flatten()\n",
    "energy_sums_pred = np.concatenate(energy_sums_pred).flatten()\n",
    "energy_diffs = energy_sums_pred - energy_sums"
   ]
  },
  {
   "cell_type": "code",
   "execution_count": 17,
   "metadata": {},
   "outputs": [
    {
     "name": "stderr",
     "output_type": "stream",
     "text": [
      "<ipython-input-17-23800bfdcdb5>:23: RuntimeWarning: Mean of empty slice.\n",
      "  eratio_means.append(eratio.mean())\n",
      "/home/naodell/opt/anaconda3/envs/econ-ae/lib/python3.8/site-packages/numpy/core/_methods.py:189: RuntimeWarning: invalid value encountered in true_divide\n",
      "  ret = ret.dtype.type(ret / rcount)\n",
      "/home/naodell/opt/anaconda3/envs/econ-ae/lib/python3.8/site-packages/numpy/core/_methods.py:262: RuntimeWarning: Degrees of freedom <= 0 for slice\n",
      "  ret = _var(a, axis=axis, dtype=dtype, out=out, ddof=ddof,\n",
      "/home/naodell/opt/anaconda3/envs/econ-ae/lib/python3.8/site-packages/numpy/core/_methods.py:222: RuntimeWarning: invalid value encountered in true_divide\n",
      "  arrmean = um.true_divide(arrmean, div, out=arrmean, casting='unsafe',\n",
      "/home/naodell/opt/anaconda3/envs/econ-ae/lib/python3.8/site-packages/numpy/core/_methods.py:254: RuntimeWarning: invalid value encountered in true_divide\n",
      "  ret = ret.dtype.type(ret / rcount)\n",
      "<ipython-input-17-23800bfdcdb5>:22: RuntimeWarning: divide by zero encountered in true_divide\n",
      "  eratio = esum/esum_pred\n",
      "/home/naodell/opt/anaconda3/envs/econ-ae/lib/python3.8/site-packages/numpy/core/_methods.py:230: RuntimeWarning: invalid value encountered in subtract\n",
      "  x = asanyarray(arr - arrmean)\n"
     ]
    },
    {
     "ename": "ValueError",
     "evalue": "'x' and 'y' must have the same size",
     "output_type": "error",
     "traceback": [
      "\u001b[0;31m---------------------------------------------------------------------------\u001b[0m",
      "\u001b[0;31mValueError\u001b[0m                                Traceback (most recent call last)",
      "Input \u001b[0;32mIn [17]\u001b[0m, in \u001b[0;36m<module>\u001b[0;34m\u001b[0m\n\u001b[1;32m     23\u001b[0m     eratio_means\u001b[38;5;241m.\u001b[39mappend(eratio\u001b[38;5;241m.\u001b[39mmean())\n\u001b[1;32m     24\u001b[0m     eratio_stds\u001b[38;5;241m.\u001b[39mappend(eratio\u001b[38;5;241m.\u001b[39mstd())\n\u001b[0;32m---> 26\u001b[0m \u001b[43max\u001b[49m\u001b[38;5;241;43m.\u001b[39;49m\u001b[43merrorbar\u001b[49m\u001b[43m(\u001b[49m\u001b[43mebin\u001b[49m\u001b[43m,\u001b[49m\u001b[43m \u001b[49m\u001b[43meratio_means\u001b[49m\u001b[43m,\u001b[49m\u001b[43m \u001b[49m\u001b[43meratio_stds\u001b[49m\u001b[43m)\u001b[49m \n\u001b[1;32m     27\u001b[0m ax\u001b[38;5;241m.\u001b[39mset_ylabel(\u001b[38;5;124mr\u001b[39m\u001b[38;5;124m'\u001b[39m\u001b[38;5;124m$\u001b[39m\u001b[38;5;124m\\\u001b[39m\u001b[38;5;124mfrac\u001b[39m\u001b[38;5;124m{\u001b[39m\u001b[38;5;124mE_\u001b[39m\u001b[38;5;132;01m{pred}\u001b[39;00m\u001b[38;5;124m - E_\u001b[39m\u001b[38;5;132;01m{true}\u001b[39;00m\u001b[38;5;124m}\u001b[39m\u001b[38;5;124m{\u001b[39m\u001b[38;5;124mE_\u001b[39m\u001b[38;5;132;01m{true}\u001b[39;00m\u001b[38;5;124m}$\u001b[39m\u001b[38;5;124m'\u001b[39m, size\u001b[38;5;241m=\u001b[39m\u001b[38;5;241m16\u001b[39m)\n\u001b[1;32m     28\u001b[0m ax\u001b[38;5;241m.\u001b[39mset_xlabel(\u001b[38;5;124mr\u001b[39m\u001b[38;5;124m'\u001b[39m\u001b[38;5;124m$E_\u001b[39m\u001b[38;5;132;01m{true}\u001b[39;00m\u001b[38;5;124m$\u001b[39m\u001b[38;5;124m'\u001b[39m)\n",
      "File \u001b[0;32m~/opt/anaconda3/envs/econ-ae/lib/python3.8/site-packages/matplotlib/__init__.py:1361\u001b[0m, in \u001b[0;36m_preprocess_data.<locals>.inner\u001b[0;34m(ax, data, *args, **kwargs)\u001b[0m\n\u001b[1;32m   1358\u001b[0m \u001b[38;5;129m@functools\u001b[39m\u001b[38;5;241m.\u001b[39mwraps(func)\n\u001b[1;32m   1359\u001b[0m \u001b[38;5;28;01mdef\u001b[39;00m \u001b[38;5;21minner\u001b[39m(ax, \u001b[38;5;241m*\u001b[39margs, data\u001b[38;5;241m=\u001b[39m\u001b[38;5;28;01mNone\u001b[39;00m, \u001b[38;5;241m*\u001b[39m\u001b[38;5;241m*\u001b[39mkwargs):\n\u001b[1;32m   1360\u001b[0m     \u001b[38;5;28;01mif\u001b[39;00m data \u001b[38;5;129;01mis\u001b[39;00m \u001b[38;5;28;01mNone\u001b[39;00m:\n\u001b[0;32m-> 1361\u001b[0m         \u001b[38;5;28;01mreturn\u001b[39;00m \u001b[43mfunc\u001b[49m\u001b[43m(\u001b[49m\u001b[43max\u001b[49m\u001b[43m,\u001b[49m\u001b[43m \u001b[49m\u001b[38;5;241;43m*\u001b[39;49m\u001b[38;5;28;43mmap\u001b[39;49m\u001b[43m(\u001b[49m\u001b[43msanitize_sequence\u001b[49m\u001b[43m,\u001b[49m\u001b[43m \u001b[49m\u001b[43margs\u001b[49m\u001b[43m)\u001b[49m\u001b[43m,\u001b[49m\u001b[43m \u001b[49m\u001b[38;5;241;43m*\u001b[39;49m\u001b[38;5;241;43m*\u001b[39;49m\u001b[43mkwargs\u001b[49m\u001b[43m)\u001b[49m\n\u001b[1;32m   1363\u001b[0m     bound \u001b[38;5;241m=\u001b[39m new_sig\u001b[38;5;241m.\u001b[39mbind(ax, \u001b[38;5;241m*\u001b[39margs, \u001b[38;5;241m*\u001b[39m\u001b[38;5;241m*\u001b[39mkwargs)\n\u001b[1;32m   1364\u001b[0m     auto_label \u001b[38;5;241m=\u001b[39m (bound\u001b[38;5;241m.\u001b[39marguments\u001b[38;5;241m.\u001b[39mget(label_namer)\n\u001b[1;32m   1365\u001b[0m                   \u001b[38;5;129;01mor\u001b[39;00m bound\u001b[38;5;241m.\u001b[39mkwargs\u001b[38;5;241m.\u001b[39mget(label_namer))\n",
      "File \u001b[0;32m~/opt/anaconda3/envs/econ-ae/lib/python3.8/site-packages/matplotlib/axes/_axes.py:3297\u001b[0m, in \u001b[0;36mAxes.errorbar\u001b[0;34m(self, x, y, yerr, xerr, fmt, ecolor, elinewidth, capsize, barsabove, lolims, uplims, xlolims, xuplims, errorevery, capthick, **kwargs)\u001b[0m\n\u001b[1;32m   3294\u001b[0m     y \u001b[38;5;241m=\u001b[39m [y]\n\u001b[1;32m   3296\u001b[0m \u001b[38;5;28;01mif\u001b[39;00m \u001b[38;5;28mlen\u001b[39m(x) \u001b[38;5;241m!=\u001b[39m \u001b[38;5;28mlen\u001b[39m(y):\n\u001b[0;32m-> 3297\u001b[0m     \u001b[38;5;28;01mraise\u001b[39;00m \u001b[38;5;167;01mValueError\u001b[39;00m(\u001b[38;5;124m\"\u001b[39m\u001b[38;5;124m'\u001b[39m\u001b[38;5;124mx\u001b[39m\u001b[38;5;124m'\u001b[39m\u001b[38;5;124m and \u001b[39m\u001b[38;5;124m'\u001b[39m\u001b[38;5;124my\u001b[39m\u001b[38;5;124m'\u001b[39m\u001b[38;5;124m must have the same size\u001b[39m\u001b[38;5;124m\"\u001b[39m)\n\u001b[1;32m   3299\u001b[0m \u001b[38;5;28;01mif\u001b[39;00m xerr \u001b[38;5;129;01mis\u001b[39;00m \u001b[38;5;129;01mnot\u001b[39;00m \u001b[38;5;28;01mNone\u001b[39;00m:\n\u001b[1;32m   3300\u001b[0m     \u001b[38;5;28;01mif\u001b[39;00m \u001b[38;5;129;01mnot\u001b[39;00m np\u001b[38;5;241m.\u001b[39miterable(xerr):\n",
      "\u001b[0;31mValueError\u001b[0m: 'x' and 'y' must have the same size"
     ]
    },
    {
     "data": {
      "image/png": "[encoded data removed]",
      "text/plain": [
       "<Figure size 1200x600 with 2 Axes>"
      ]
     },
     "metadata": {},
     "output_type": "display_data"
    }
   ],
   "source": [
    "fig, axes = plt.subplots(1, 2, figsize=(12, 6), gridspec_kw={'width_ratios': [1., 2]})\n",
    "\n",
    "ax = axes[0]\n",
    "frac_energy_diff = energy_diffs/energy_sums\n",
    "ax.hist(frac_energy_diff, bins=np.linspace(-1, 1, 50), density=True)\n",
    "ax.set_xlabel(r'$\\frac{E_{pred} - E_{true}}{E_{true}}$')\n",
    "ax.set_ylabel('Density')\n",
    "ax.text(0.6, 0.8, f' mean = {frac_energy_diff.mean():.2f} \\n std. err. = {frac_energy_diff.std():.2f}', fontsize=12, transform=ax.transAxes)\n",
    "\n",
    "ax.set_xlim(-1, 1)\n",
    "\n",
    "ax = axes[1]\n",
    "\n",
    "ebin = np.array([0, 10, 20, 30, 50, 80, 140, 250, 500, 1000])\n",
    "eratio_means = []\n",
    "eratio_stds = []\n",
    "for elow, ehigh in zip(ebin[:-1], ebin[1:]):\n",
    "    mask = (energy_sums > elow) & (energy_sums < ehigh)\n",
    "    esum = energy_sums[mask]\n",
    "    esum_pred = energy_sums_pred[mask]\n",
    "    \n",
    "    eratio = esum/esum_pred\n",
    "    eratio_means.append(eratio.mean())\n",
    "    eratio_stds.append(eratio.std())\n",
    "    \n",
    "ax.errorbar(ebin, eratio_means, eratio_stds) \n",
    "ax.set_ylabel(r'$\\frac{E_{pred} - E_{true}}{E_{true}}$', size=16)\n",
    "ax.set_xlabel(r'$E_{true}$')\n",
    "ax.set_xlim(0.1, 1e3)\n",
    "\n",
    "plt.tight_layout()\n",
    "plt.savefig(f'plots/ae_energy_resolution_{scenario}.png')\n",
    "plt.show()"
   ]
  },
  {
   "cell_type": "code",
   "execution_count": null,
   "metadata": {},
   "outputs": [],
   "source": []
  }
 ],
 "metadata": {
  "hide_input": false,
  "kernelspec": {
   "display_name": "Python 3",
   "language": "python",
   "name": "python3"
  },
  "language_info": {
   "codemirror_mode": {
    "name": "ipython",
    "version": 3
   },
   "file_extension": ".py",
   "mimetype": "text/x-python",
   "name": "python",
   "nbconvert_exporter": "python",
   "pygments_lexer": "ipython3",
   "version": "3.8.11"
  },
  "latex_envs": {
   "LaTeX_envs_menu_present": true,
   "autocomplete": true,
   "bibliofile": "biblio.bib",
   "cite_by": "apalike",
   "current_citInitial": 1,
   "eqLabelWithNumbers": true,
   "eqNumInitial": 0,
   "hotkeys": {
    "equation": "Ctrl-E",
    "itemize": "Ctrl-I"
   },
   "labels_anchors": false,
   "latex_user_defs": false,
   "report_style_numbering": false,
   "user_envs_cfg": false
  },
  "toc": {
   "nav_menu": {
    "height": "4px",
    "width": "254px"
   },
   "navigate_menu": true,
   "number_sections": true,
   "sideBar": true,
   "threshold": 4,
   "toc_cell": false,
   "toc_section_display": "block",
   "toc_window_display": false
  },
  "varInspector": {
   "cols": {
    "lenName": 16,
    "lenType": 16,
    "lenVar": 40
   },
   "kernels_config": {
    "python": {
     "delete_cmd_postfix": "",
     "delete_cmd_prefix": "del ",
     "library": "var_list.py",
     "varRefreshCmd": "print(var_dic_list())"
    },
    "r": {
     "delete_cmd_postfix": ") ",
     "delete_cmd_prefix": "rm(",
     "library": "var_list.r",
     "varRefreshCmd": "cat(var_dic_list()) "
    }
   },
   "types_to_exclude": [
    "module",
    "function",
    "builtin_function_or_method",
    "instance",
    "_Feature"
   ],
   "window_display": false
  }
 },
 "nbformat": 4,
 "nbformat_minor": 4
}
