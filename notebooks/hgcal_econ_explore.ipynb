{
 "cells": [
  {
   "cell_type": "markdown",
   "metadata": {},
   "source": [
    "# HGCAL FE studies\n",
    "\n",
    "Let's take a look at some hgcal data.  First some simple visualizations..."
   ]
  },
  {
   "cell_type": "code",
   "execution_count": 1,
   "metadata": {
    "code_folding": []
   },
   "outputs": [
    {
     "name": "stdout",
     "output_type": "stream",
     "text": [
      "/home/naodell/work/hgcal\n",
      "Welcome to JupyROOT 6.13/02\n"
     ]
    }
   ],
   "source": [
    "#imports and setup\n",
    "%matplotlib inline\n",
    "%cd /home/naodell/work/hgcal\n",
    "\n",
    "import pickle\n",
    "import numpy as np\n",
    "import pandas as pd\n",
    "import matplotlib.pyplot as plt\n",
    "#import plotly as py\n",
    "\n",
    "from descartes import PolygonPatch\n",
    "import ROOT as r\n",
    "from tqdm import tqdm_notebook\n",
    "\n",
    "#import scripts.helpers as hlp"
   ]
  },
  {
   "cell_type": "code",
   "execution_count": 3,
   "metadata": {},
   "outputs": [
    {
     "ename": "AttributeError",
     "evalue": "'TObject' object has no attribute 'GetEntriesFast'",
     "output_type": "error",
     "traceback": [
      "\u001b[0;31m---------------------------------------------------------------------------\u001b[0m",
      "\u001b[0;31mAttributeError\u001b[0m                            Traceback (most recent call last)",
      "\u001b[0;32m<ipython-input-3-ce6dc12c79cf>\u001b[0m in \u001b[0;36m<module>\u001b[0;34m()\u001b[0m\n\u001b[1;32m      2\u001b[0m \u001b[0mtree\u001b[0m \u001b[0;34m=\u001b[0m \u001b[0mrfile\u001b[0m\u001b[0;34m.\u001b[0m\u001b[0mGet\u001b[0m\u001b[0;34m(\u001b[0m\u001b[0;34m'hgcalTriggerNtuplizer/HGCalTriggerNtuple'\u001b[0m\u001b[0;34m)\u001b[0m\u001b[0;34m\u001b[0m\u001b[0m\n\u001b[1;32m      3\u001b[0m \u001b[0;34m\u001b[0m\u001b[0m\n\u001b[0;32m----> 4\u001b[0;31m \u001b[0mn_entries\u001b[0m \u001b[0;34m=\u001b[0m \u001b[0mtree\u001b[0m\u001b[0;34m.\u001b[0m\u001b[0mGetEntriesFast\u001b[0m\u001b[0;34m(\u001b[0m\u001b[0;34m)\u001b[0m\u001b[0;34m\u001b[0m\u001b[0m\n\u001b[0m\u001b[1;32m      5\u001b[0m df = dict(ievt = [], \n\u001b[1;32m      6\u001b[0m           \u001b[0mx\u001b[0m \u001b[0;34m=\u001b[0m \u001b[0;34m[\u001b[0m\u001b[0;34m]\u001b[0m\u001b[0;34m,\u001b[0m \u001b[0my\u001b[0m \u001b[0;34m=\u001b[0m \u001b[0;34m[\u001b[0m\u001b[0;34m]\u001b[0m\u001b[0;34m,\u001b[0m\u001b[0;34m\u001b[0m\u001b[0m\n",
      "\u001b[0;31mAttributeError\u001b[0m: 'TObject' object has no attribute 'GetEntriesFast'"
     ]
    }
   ],
   "source": [
    "rfile = r.TFile('data/single_electron_pt35_skim.root')\n",
    "tree = rfile.Get('hgcalTriggerNtuplizer/HGCalTriggerNtuple')\n",
    "\n",
    "n_entries = tree.GetEntriesFast()\n",
    "df = dict(ievt = [], \n",
    "          x = [], y = [],\n",
    "          zside = [], layer = [], panel = [], sector = [],\n",
    "          sim_e = [], reco_e = []\n",
    "         )\n",
    "df = pd.DataFrame(df)\n",
    "for i in tqdm_notebook(range(n_entries)):\n",
    "    tree.GetEntry(i)\n",
    "    tc_x = np.array(tree.tc_x)\n",
    "    tc_y = np.array(tree.tc_y)\n",
    "    tc_zside = np.array(tree.tc_zside)\n",
    "    tc_layer = np.array(tree.tc_layer, dtype=int)\n",
    "    tc_panel_n = np.array(tree.tc_panel_number, dtype=int)\n",
    "    tc_panel_s = np.array(tree.tc_panel_sector, dtype=int)\n",
    "    tc_energy = np.array(tree.tc_energy)\n",
    "    tc_simenergy = np.array(tree.tc_simenergy)\n",
    "    ediff = tc_energy - tc_simenergy\n",
    "\n",
    "    df_temp = pd.DataFrame(dict(ievt = np.array(tree.tc_n*[int(i),], dtype=int), \n",
    "                                x = tc_x, y = tc_y, \n",
    "                                zside = tc_zside, layer = tc_layer, panel = tc_panel_n, sector = tc_panel_s,\n",
    "                                sim_e = tc_simenergy, reco_e = tc_energy, delta_e = ediff))\n",
    "    df = pd.concat([df, df_temp])"
   ]
  },
  {
   "cell_type": "code",
   "execution_count": null,
   "metadata": {
    "scrolled": false
   },
   "outputs": [],
   "source": [
    "fig, ax = plt.subplots(1, 1, figsize=(12, 10))\n",
    "patch_file = open('data/panel_patches.pkl', 'rb')\n",
    "patches = pickle.load(patch_file)\n",
    "for p, ashape in patches.items():\n",
    "    if p == 7:\n",
    "        col = 'C1'\n",
    "    else:\n",
    "        col = 'C3'\n",
    "    patch = PolygonPatch(ashape, fill=False, ec=col, linestyle='--', linewidth=3, label='_nolegend_')\n",
    "    ax.add_patch(patch)\n",
    "    \n",
    "df_skim = df.query('layer == 17 and zside == 1 and sector == 1')[:32]\n",
    "reco_scat = ax.scatter(df_skim.x+0.75, df_skim.y, c=df_skim.reco_e, \n",
    "                       cmap='viridis', \n",
    "                       marker='>', \n",
    "                       vmin=0.,\n",
    "                       vmax=2.,\n",
    "                       s=20, \n",
    "                       alpha=0.75\n",
    "                      )\n",
    "sim_scat  = ax.scatter(df_skim.x-0.75, df_skim.y, c=df_skim.sim_e, \n",
    "                       cmap='viridis', \n",
    "                       marker='<', \n",
    "                       vmin=0.,\n",
    "                       vmax=2.,\n",
    "                       s=20, \n",
    "                       alpha=0.75\n",
    "                      )\n",
    "\n",
    "ax.set_ylim(-75, 85)\n",
    "ax.set_xlim(-160, -25)\n",
    "ax.set_xlabel('x [cm]')\n",
    "ax.set_ylabel('y [cm]')\n",
    "#ax.set_facecolor('white')\n",
    "\n",
    "cbar_reco = plt.colorbar(reco_scat, ax=ax, label='E [GeV]')\n",
    "#cbar_sim = plt.colorbar(sim_scat, ax=ax, label=r'$E_{sim}$')\n",
    "plt.legend(['simhit', 'recohit'])\n",
    "\n",
    "plt.show()"
   ]
  }
 ],
 "metadata": {
  "hide_input": false,
  "kernelspec": {
   "display_name": "Python 3",
   "language": "python",
   "name": "python3"
  },
  "language_info": {
   "codemirror_mode": {
    "name": "ipython",
    "version": 3
   },
   "file_extension": ".py",
   "mimetype": "text/x-python",
   "name": "python",
   "nbconvert_exporter": "python",
   "pygments_lexer": "ipython3",
   "version": "3.6.4"
  },
  "latex_envs": {
   "LaTeX_envs_menu_present": true,
   "autoclose": false,
   "autocomplete": true,
   "bibliofile": "biblio.bib",
   "cite_by": "apalike",
   "current_citInitial": 1,
   "eqLabelWithNumbers": true,
   "eqNumInitial": 0,
   "hotkeys": {
    "equation": "Ctrl-E",
    "itemize": "Ctrl-I"
   },
   "labels_anchors": false,
   "latex_user_defs": false,
   "report_style_numbering": false,
   "user_envs_cfg": false
  },
  "toc": {
   "colors": {
    "hover_highlight": "#DAA520",
    "navigate_num": "#000000",
    "navigate_text": "#333333",
    "running_highlight": "#FF0000",
    "selected_highlight": "#FFD700",
    "sidebar_border": "#EEEEEE",
    "wrapper_background": "#FFFFFF"
   },
   "moveMenuLeft": true,
   "nav_menu": {
    "height": "29px",
    "width": "251px"
   },
   "navigate_menu": true,
   "number_sections": true,
   "sideBar": true,
   "threshold": 4,
   "toc_cell": false,
   "toc_section_display": "block",
   "toc_window_display": false,
   "widenNotebook": false
  }
 },
 "nbformat": 4,
 "nbformat_minor": 2
}
