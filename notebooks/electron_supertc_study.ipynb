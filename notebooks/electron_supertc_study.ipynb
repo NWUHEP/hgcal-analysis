{
 "cells": [
  {
   "cell_type": "markdown",
   "metadata": {},
   "source": [
    "# Comparing electron id between nominal and super trigger cells\n",
    "\n"
   ]
  },
  {
   "cell_type": "code",
   "execution_count": 73,
   "metadata": {
    "code_folding": [
     0
    ]
   },
   "outputs": [
    {
     "name": "stdout",
     "output_type": "stream",
     "text": [
      "/home/naodell/work/hgcal/analysis\n",
      "{\n",
      "  \"shell_port\": 34025,\n",
      "  \"iopub_port\": 33521,\n",
      "  \"stdin_port\": 53519,\n",
      "  \"control_port\": 51631,\n",
      "  \"hb_port\": 40709,\n",
      "  \"ip\": \"127.0.0.1\",\n",
      "  \"key\": \"99a8fb24-7076acea989016e0b46fa572\",\n",
      "  \"transport\": \"tcp\",\n",
      "  \"signature_scheme\": \"hmac-sha256\",\n",
      "  \"kernel_name\": \"\"\n",
      "}\n",
      "\n",
      "Paste the above JSON into a file, and connect with:\n",
      "    $> jupyter <app> --existing <file>\n",
      "or, if you are local, you can connect with just:\n",
      "    $> jupyter <app> --existing kernel-1c95fe9d-7534-4415-aace-4958712c5c15.json\n",
      "or even just:\n",
      "    $> jupyter <app> --existing\n",
      "if this is the most recent Jupyter kernel you have started.\n"
     ]
    }
   ],
   "source": [
    "#imports and setup\n",
    "%matplotlib inline\n",
    "%cd /home/naodell/work/hgcal/analysis\n",
    "\n",
    "import sys, os\n",
    "import pickle\n",
    "import numpy as np\n",
    "import pandas as pd\n",
    "import matplotlib.pyplot as plt\n",
    "from tqdm import tqdm_notebook\n",
    "\n",
    "import scripts.helpers as hlp \n",
    "hlp.set_default_style()\n",
    "\n",
    "%connect_info"
   ]
  },
  {
   "cell_type": "code",
   "execution_count": null,
   "metadata": {
    "code_folding": []
   },
   "outputs": [
    {
     "data": {
      "application/vnd.jupyter.widget-view+json": {
       "model_id": "7d656b601be94ceaad554f16c4596737",
       "version_major": 2,
       "version_minor": 0
      },
      "text/plain": [
       "HBox(children=(IntProgress(value=1, bar_style='info', max=1), HTML(value='')))"
      ]
     },
     "metadata": {},
     "output_type": "display_data"
    },
    {
     "name": "stdout",
     "output_type": "stream",
     "text": [
      "\n"
     ]
    },
    {
     "data": {
      "application/vnd.jupyter.widget-view+json": {
       "model_id": "47996600f6e246c69d57b66a4dcff995",
       "version_major": 2,
       "version_minor": 0
      },
      "text/plain": [
       "HBox(children=(IntProgress(value=1, bar_style='info', max=1), HTML(value='')))"
      ]
     },
     "metadata": {},
     "output_type": "display_data"
    },
    {
     "name": "stdout",
     "output_type": "stream",
     "text": [
      "\n"
     ]
    },
    {
     "data": {
      "application/vnd.jupyter.widget-view+json": {
       "model_id": "86f65e1b428f4fd49fa04b1f19497df9",
       "version_major": 2,
       "version_minor": 0
      },
      "text/plain": [
       "HBox(children=(IntProgress(value=1, bar_style='info', max=1), HTML(value='')))"
      ]
     },
     "metadata": {},
     "output_type": "display_data"
    },
    {
     "name": "stdout",
     "output_type": "stream",
     "text": [
      "\n"
     ]
    },
    {
     "data": {
      "application/vnd.jupyter.widget-view+json": {
       "model_id": "007caa17bcd448928e754828c66a3921",
       "version_major": 2,
       "version_minor": 0
      },
      "text/plain": [
       "HBox(children=(IntProgress(value=1, bar_style='info', max=1), HTML(value='')))"
      ]
     },
     "metadata": {},
     "output_type": "display_data"
    }
   ],
   "source": [
    "# get the data\n",
    "samples = ['charged_pion_nominal', 'charged_pion_super', 'electron_nominal', 'electron_super']#, 'single_pion_nominal', 'single_pion_super']\n",
    "evt_data = dict()\n",
    "for sample in samples:\n",
    "    \n",
    "    # single file test\n",
    "    infile = open(f'local_data/{sample}/output.pkl', 'rb')\n",
    "    evts_particles  = pickle.load(infile)\n",
    "    #evts_cells = pickle.load(infile)\n",
    "    evts_clusters = pickle.load(infile)\n",
    "        \n",
    "    # match particles to clusters\n",
    "    matched_data = []\n",
    "    for ievt, particles in tqdm_notebook(enumerate(evts_particles), leave=True):\n",
    "        if particles.size == 0:\n",
    "            continue\n",
    "        \n",
    "        particles.query('abs(eta) > 2.2')\n",
    "\n",
    "        clusters = evts_clusters[ievt].query('cl_pt > 5') # this cut is just to get around matching to a low energy cluster\n",
    "        if clusters.shape[0] == 0:\n",
    "            continue\n",
    "\n",
    "        if 'electron' in sample:\n",
    "            electrons = particles.query('abs(pid) == 11 and pt > 15')\n",
    "            if electrons.shape[0] == 0:\n",
    "                continue\n",
    "            \n",
    "            # match electron+ to cluster\n",
    "            e_plus = electrons[electrons.pid == 11].sort_values(by='pt').iloc[0]\n",
    "            cluster = hlp.associate_gen_to_cluster(e_plus, clusters)\n",
    "            if not isinstance(cluster, type(None)): \n",
    "                matched_data.append(pd.concat([e_plus, cluster]))\n",
    "                matched_data[-1]['pt_ratio'] = cluster.cl_pt/e_plus.pt\n",
    "                matched_data[-1]['e_ratio'] = cluster.cl_e/e_plus.e\n",
    "\n",
    "            # match electron- to cluster\n",
    "            e_minus = electrons[electrons.pid == 11].sort_values(by='pt').iloc[0]\n",
    "            cluster = hlp.associate_gen_to_cluster(e_minus, clusters)\n",
    "            if not isinstance(cluster, type(None)): \n",
    "                matched_data.append(pd.concat([e_minus, cluster]))\n",
    "                matched_data[-1]['pt_ratio'] = cluster.cl_pt/e_minus.pt\n",
    "                matched_data[-1]['e_ratio'] = cluster.cl_e/e_minus.e\n",
    "\n",
    "        elif 'neutral_pion' in sample:\n",
    "            if 111 not in particles.pid.values or clusters.shape[0] == 0:\n",
    "                continue\n",
    "\n",
    "            # match neutral pion to cluster\n",
    "            pion = particles.query('pid == 111').iloc[0]\n",
    "            if 1.7 < abs(pion.eta) < 2.7:\n",
    "                dphi = np.abs(pion.phi - clusters.cl_phi)\n",
    "                dphi[dphi > np.pi] = 2*np.pi - dphi[dphi > np.pi]\n",
    "                deta = np.abs(pion.eta - clusters.cl_eta)\n",
    "                dr = np.sqrt(deta**2 + dphi**2)\n",
    "\n",
    "                cluster = clusters.loc[dr.idxmin()]\n",
    "                matched_data.append(pd.concat([pion, cluster]))\n",
    "                matched_data[-1]['pt_ratio'] = cluster.cl_pt/pion.pt\n",
    "                matched_data[-1]['e_ratio'] = cluster.cl_e/pion.e\n",
    "        elif 'charged_pion' in sample:\n",
    "            pions = particles.query('abs(pid) == 211 and pt > 15')\n",
    "            \n",
    "            # match pion+ to cluster\n",
    "            pion_plus = pions[pions.pid == 211].sort_values(by='pt').iloc[0]\n",
    "            cluster = hlp.associate_gen_to_cluster(pion_plus, clusters)\n",
    "            if not isinstance(cluster, type(None)): \n",
    "                matched_data.append(pd.concat([pion_plus, cluster]))\n",
    "                matched_data[-1]['pt_ratio'] = cluster.cl_pt/pion_plus.pt\n",
    "                matched_data[-1]['e_ratio'] = cluster.cl_e/pion_plus.e\n",
    "\n",
    "            # match pion- to cluster\n",
    "            pion_minus = pions[pions.pid == -211].sort_values(by='pt').iloc[0]\n",
    "            cluster = hlp.associate_gen_to_cluster(pion_minus, clusters)\n",
    "            if not isinstance(cluster, type(None)): \n",
    "                matched_data.append(pd.concat([pion_minus, cluster]))\n",
    "                matched_data[-1]['pt_ratio'] = cluster.cl_pt/pion_minus.pt\n",
    "                matched_data[-1]['e_ratio'] = cluster.cl_e/pion_minus.e\n",
    "\n",
    "    evt_data[sample] = pd.DataFrame(matched_data).reset_index(drop=True)\n",
    "    #    df_list.append(pd.DataFrame(matched_data, index=np.arange(len(matched_data))))\n",
    "    #evt_data[sample] = pd.concat(df_list)"
   ]
  },
  {
   "cell_type": "code",
   "execution_count": null,
   "metadata": {
    "code_folding": [
     0
    ]
   },
   "outputs": [],
   "source": [
    "# makes some plots\n",
    "fig, axes = plt.subplots(1, 3, figsize=(20, 8), sharey=False, facecolor='white')\n",
    "\n",
    "ax = axes[0]\n",
    "binning = np.arange(0, 2, 0.05)\n",
    "ax.hist(evt_data['electron_nominal'].pt_ratio, bins=binning, color='C0', histtype='stepfilled', lw=2, alpha=0.5, normed=True)\n",
    "ax.hist(evt_data['electron_super'].pt_ratio, bins=binning, color='C0', linestyle='--', histtype='step', lw=3, alpha=0.8, normed=True)\n",
    "ax.hist(evt_data['charged_pion_nominal'].pt_ratio, bins=binning, color='C1', histtype='stepfilled', lw=2, alpha=0.5, normed=True)\n",
    "ax.hist(evt_data['charged_pion_super'].pt_ratio, bins=binning, color='C1', linestyle='--', histtype='step', lw=3, alpha=0.8, normed=True)\n",
    "#ax.hist(evt_data['neutral_pion_nominal'].pt_ratio, bins=binning, color='C1', histtype='stepfilled', lw=2, alpha=0.5, normed=True)\n",
    "#ax.hist(evt_data['neutral_pion_super'].pt_ratio, bins=binning, color='C1', linestyle='--', histtype='step', lw=3, alpha=0.8, normed=True)\n",
    "ax.set_xlabel('$\\sf p_{T, cluster}/p_{T, gen}$')\n",
    "ax.set_ylabel('entries')\n",
    "ax.set_xlim(binning[0], binning[-1])\n",
    "\n",
    "ax = axes[1]\n",
    "binning = np.arange(0., 200., 10)\n",
    "ax.hist(evt_data['electron_nominal'].cl_e, bins=binning, color='C0', histtype='stepfilled', lw=2, alpha=0.5, normed=True)\n",
    "ax.hist(evt_data['electron_super'].cl_e, bins=binning, color='C0', linestyle='--', histtype='step', lw=3, alpha=0.8, normed=True)\n",
    "ax.hist(evt_data['charged_pion_nominal'].cl_e, bins=binning, color='C1', histtype='stepfilled', lw=2, alpha=0.5, normed=True)\n",
    "ax.hist(evt_data['charged_pion_super'].cl_e, bins=binning, color='C1', linestyle='--', histtype='step', lw=3, alpha=0.8, normed=True)\n",
    "#ax.hist(evt_data['neutral_pion_nominal'].cl_e, bins=binning, color='C1', histtype='stepfilled', lw=2, alpha=0.5, normed=True)\n",
    "#ax.hist(evt_data['neutral_pion_super'].cl_e, bins=binning, color='C1', linestyle='--', histtype='step', lw=3, alpha=0.8, normed=True)\n",
    "ax.set_xlabel('cluster energy')\n",
    "ax.set_xlim(binning[0], binning[-1])\n",
    "\n",
    "ax = axes[2]\n",
    "binning = np.arange(0., 70., 1)\n",
    "ax.hist(evt_data['electron_nominal'].cl_pt, bins=binning, color='C0', histtype='stepfilled', lw=2, alpha=0.5, normed=True)\n",
    "ax.hist(evt_data['electron_super'].cl_pt, bins=binning, color='C0', linestyle='--', histtype='step', lw=3, alpha=0.8, normed=True)\n",
    "ax.hist(evt_data['charged_pion_nominal'].cl_pt, bins=binning, color='C1', histtype='stepfilled', lw=2, alpha=0.5, normed=True)\n",
    "ax.hist(evt_data['charged_pion_super'].cl_pt, bins=binning, color='C1', linestyle='--', histtype='step', lw=3, alpha=0.8, normed=True)\n",
    "#ax.hist(evt_data['neutral_pion_nominal'].cl_pt, bins=binning, color='C1', histtype='stepfilled', lw=2, alpha=0.5, normed=True)\n",
    "#ax.hist(evt_data['neutral_pion_super'].cl_pt, bins=binning, color='C1', linestyle='--', histtype='step', lw=3, alpha=0.8, normed=True)\n",
    "ax.set_xlabel(r'cluster $p_{T}$')\n",
    "ax.set_xlim(binning[0], binning[-1])\n",
    "\n",
    "ax.legend(['electron (nominal)', 'electron (super-tc)', 'pion (nominal)', 'pion (super-tc)'])\n",
    "\n",
    "plt.savefig('plots/kinematics.png')\n",
    "plt.show()"
   ]
  },
  {
   "cell_type": "code",
   "execution_count": null,
   "metadata": {
    "code_folding": [
     0
    ]
   },
   "outputs": [],
   "source": [
    "# shower length\n",
    "fig, axes = plt.subplots(1, 2, figsize=(15, 8), sharey=False, facecolor='white')\n",
    "\n",
    "ax = axes[0]\n",
    "binning = np.arange(10., 60., 2)\n",
    "ax.hist(evt_data['electron_nominal'].showerlength, bins=binning, color='C0', histtype='stepfilled', lw=2, alpha=0.5, density=True)\n",
    "ax.hist(evt_data['electron_super'].showerlength, bins=binning, color='C0', linestyle='--', histtype='step', lw=3, alpha=0.8, density=True)\n",
    "ax.hist(evt_data['charged_pion_nominal'].showerlength, bins=binning, color='C1', histtype='stepfilled', lw=2, alpha=0.5, density=True)\n",
    "ax.hist(evt_data['charged_pion_super'].showerlength, bins=binning, color='C1', linestyle='--', histtype='step', lw=3, alpha=0.8, density=True)\n",
    "#ax.hist(evt_data['neutral_pion_nominal'].showerlength, bins=binning, color='C1', histtype='stepfilled', lw=2, alpha=0.5, density=True)\n",
    "#ax.hist(evt_data['neutral_pion_super'].showerlength, bins=binning, color='C1', linestyle='--', histtype='step', lw=3, alpha=0.8, density=True)\n",
    "ax.set_xlabel('shower length')\n",
    "ax.set_xlim(binning[0], binning[-1])\n",
    "\n",
    "ax = axes[1]\n",
    "binning = np.arange(0., 20., 1)\n",
    "ax.hist(evt_data['electron_nominal'].corelength, bins=binning, color='C0', histtype='stepfilled', lw=2, alpha=0.5, density=True)\n",
    "ax.hist(evt_data['electron_super'].corelength, bins=binning, color='C0', linestyle='--', histtype='step', lw=3, alpha=0.8, density=True)\n",
    "ax.hist(evt_data['charged_pion_nominal'].corelength, bins=binning, color='C1', histtype='stepfilled', lw=2, alpha=0.5, density=True)\n",
    "ax.hist(evt_data['charged_pion_super'].corelength, bins=binning, color='C1', linestyle='--', histtype='step', lw=3, alpha=0.8, density=True)\n",
    "#ax.hist(evt_data['neutral_pion_nominal'].corelength, bins=binning, color='C1', histtype='stepfilled', lw=2, alpha=0.5, density=True)\n",
    "#ax.hist(evt_data['neutral_pion_super'].corelength, bins=binning, color='C1', linestyle='--', histtype='step', lw=3, alpha=0.8, density=True)\n",
    "ax.set_xlabel('core length')\n",
    "ax.set_xlim(binning[0], binning[-1])\n",
    "\n",
    "ax.legend(['electron (nominal)', 'electron (super-tc)', 'pion (nominal)', 'pion (super-tc)'])\n",
    "plt.savefig('plots/shower_length.png')\n",
    "plt.show()"
   ]
  },
  {
   "cell_type": "code",
   "execution_count": null,
   "metadata": {
    "code_folding": [
     0
    ]
   },
   "outputs": [],
   "source": [
    "# widths\n",
    "fig, axes = plt.subplots(2, 4, figsize=(24, 16), sharey=False, facecolor='white')\n",
    "\n",
    "ax = axes[0][0]\n",
    "binning = np.arange(0., 0.05, 0.002)\n",
    "ax.hist(evt_data['electron_nominal'].seetot, bins=binning, color='C0', histtype='stepfilled', lw=2, alpha=0.5, density=True)\n",
    "ax.hist(evt_data['electron_super'].seetot, bins=binning, color='C0', linestyle='--', histtype='step', lw=3, alpha=0.8, density=True)\n",
    "ax.hist(evt_data['charged_pion_nominal'].seetot, bins=binning, color='C1', histtype='stepfilled', lw=2, alpha=0.5, density=True)\n",
    "ax.hist(evt_data['charged_pion_super'].seetot, bins=binning, color='C1', linestyle='--', histtype='step', lw=3, alpha=0.8, density=True)\n",
    "ax.set_xlabel('seetot')\n",
    "ax.set_xlim(binning[0], binning[-1])\n",
    "\n",
    "ax = axes[0][1]\n",
    "binning = np.arange(0., 0.05, 0.002)\n",
    "ax.hist(evt_data['electron_nominal'].seemax, bins=binning, color='C0', histtype='stepfilled', lw=2, alpha=0.5, density=True)\n",
    "ax.hist(evt_data['electron_super'].seemax, bins=binning, color='C0', linestyle='--', histtype='step', lw=3, alpha=0.8, density=True)\n",
    "ax.hist(evt_data['charged_pion_nominal'].seemax, bins=binning, color='C1', histtype='stepfilled', lw=2, alpha=0.5, density=True)\n",
    "ax.hist(evt_data['charged_pion_super'].seemax, bins=binning, color='C1', linestyle='--', histtype='step', lw=3, alpha=0.8, density=True)\n",
    "ax.set_xlabel('seemax')\n",
    "ax.set_xlim(binning[0], binning[-1])\n",
    "\n",
    "ax = axes[0][2]\n",
    "binning = np.arange(0., 0.05, 0.002)\n",
    "ax.hist(evt_data['electron_nominal'].spptot, bins=binning, color='C0', histtype='stepfilled', lw=2, alpha=0.5, density=True)\n",
    "ax.hist(evt_data['electron_super'].spptot, bins=binning, color='C0', linestyle='--', histtype='step', lw=3, alpha=0.8, density=True)\n",
    "ax.hist(evt_data['charged_pion_nominal'].spptot, bins=binning, color='C1', histtype='stepfilled', lw=2, alpha=0.5, density=True)\n",
    "ax.hist(evt_data['charged_pion_super'].spptot, bins=binning, color='C1', linestyle='--', histtype='step', lw=3, alpha=0.8, density=True)\n",
    "ax.set_xlabel('spptot')\n",
    "ax.set_xlim(binning[0], binning[-1])\n",
    "\n",
    "ax = axes[0][3]\n",
    "binning = np.arange(0., 0.05, 0.002)\n",
    "ax.hist(evt_data['electron_nominal'].sppmax, bins=binning, color='C0', histtype='stepfilled', lw=2, alpha=0.5, density=True)\n",
    "ax.hist(evt_data['electron_super'].sppmax, bins=binning, color='C0', linestyle='--', histtype='step', lw=3, alpha=0.8, density=True)\n",
    "ax.hist(evt_data['charged_pion_nominal'].sppmax, bins=binning, color='C1', histtype='stepfilled', lw=2, alpha=0.5, density=True)\n",
    "ax.hist(evt_data['charged_pion_super'].sppmax, bins=binning, color='C1', linestyle='--', histtype='step', lw=3, alpha=0.8, density=True)\n",
    "ax.set_xlabel('sppmax')\n",
    "ax.set_xlim(binning[0], binning[-1])\n",
    "\n",
    "ax = axes[1][0]\n",
    "binning = np.arange(0., 0.006, 0.0002)\n",
    "ax.hist(evt_data['electron_nominal'].srrtot, bins=binning, color='C0', histtype='stepfilled', lw=2, alpha=0.5, density=True)\n",
    "ax.hist(evt_data['electron_super'].srrtot, bins=binning, color='C0', linestyle='--', histtype='step', lw=3, alpha=0.8, density=True)\n",
    "ax.hist(evt_data['charged_pion_nominal'].srrtot, bins=binning, color='C1', histtype='stepfilled', lw=2, alpha=0.5, density=True)\n",
    "ax.hist(evt_data['charged_pion_super'].srrtot, bins=binning, color='C1', linestyle='--', histtype='step', lw=3, alpha=0.8, density=True)\n",
    "ax.set_xlabel('srrtot')\n",
    "ax.set_xlim(binning[0], binning[-1])\n",
    "\n",
    "ax = axes[1][1]\n",
    "binning = np.arange(0., 0.01, 0.0002)\n",
    "ax.hist(evt_data['electron_nominal'].srrmax, bins=binning, color='C0', histtype='stepfilled', lw=2, alpha=0.5, density=True)\n",
    "ax.hist(evt_data['electron_super'].srrmax, bins=binning, color='C0', linestyle='--', histtype='step', lw=3, alpha=0.8, density=True)\n",
    "ax.hist(evt_data['charged_pion_nominal'].srrmax, bins=binning, color='C1', histtype='stepfilled', lw=2, alpha=0.5, density=True)\n",
    "ax.hist(evt_data['charged_pion_super'].srrmax, bins=binning, color='C1', linestyle='--', histtype='step', lw=3, alpha=0.8, density=True)\n",
    "ax.set_xlabel('srrmax')\n",
    "ax.set_xlim(binning[0], binning[-1])\n",
    "\n",
    "ax = axes[1][2]\n",
    "binning = np.arange(0., 15., 0.2)\n",
    "h_e_nom = ax.hist(evt_data['electron_nominal'].szz, bins=binning, color='C0', histtype='stepfilled', lw=2, alpha=0.5, density=True)\n",
    "h_e_sup = ax.hist(evt_data['electron_super'].szz, bins=binning, color='C0', linestyle='--', histtype='step', lw=3, alpha=0.8, density=True)\n",
    "h_pi_nom = ax.hist(evt_data['charged_pion_nominal'].szz, bins=binning, color='C1', histtype='stepfilled', lw=2, alpha=0.5, density=True)\n",
    "h_pi_sup = ax.hist(evt_data['charged_pion_super'].szz, bins=binning, color='C1', linestyle='--', histtype='step', lw=3, alpha=0.8, density=True)\n",
    "ax.set_xlabel('szz')\n",
    "ax.set_xlim(binning[0], binning[-1])\n",
    "\n",
    "handles, labels = ax.get_legend_handles_labels()\n",
    "\n",
    "axes[1][3].axis('off')\n",
    "axes[1][3].legend(handles, ['electron (nominal)', 'electron (super-tc)', 'pion (nominal)', 'pion (super-tc)'], loc=10)\n",
    "\n",
    "plt.savefig('plots/sigma_dist.png')\n",
    "plt.show()"
   ]
  },
  {
   "cell_type": "code",
   "execution_count": null,
   "metadata": {},
   "outputs": [],
   "source": [
    "# calculate ROC curve for a few vars\n",
    "\n",
    "binning = np.arange(0., 15., 0.2)\n",
    "h1, _ = np.histogram(evt_data['electron_nominal'].srrtot, bins=binning, density=True)\n",
    "h2, _ = np.histogram(evt_data['charged_pion_nominal'].srrtot, bins=binning, density=True)\n",
    "\n",
    "mask = (h1 > 0) & (h2 > 0)\n",
    "h1 = h1[mask]\n",
    "h2 = h2[mask]\n",
    "lratio = h1/(h1 + h2)\n",
    "\n",
    "fig, axes = plt.subplots(1, 2, figsize=(16, 8))\n",
    "binning = np.arange(0, 1, 0.05)\n",
    "ax = axes[0]\n",
    "l1, _, _ = ax.hist(lratio, bins=binning, weights=h1, density=True)\n",
    "l2, _, _ = ax.hist(lratio, bins=binning, weights=h2, density=True)\n",
    "ax.set_xlabel('likelihood discriminator')\n",
    "ax.set_ylabel('density')\n",
    "\n",
    "ax = axes[1]\n",
    "ax.plot(np.cumsum(l1)/20, np.cumsum(l2)/20)\n",
    "ax.set_xlabel(r'$\\epsilon_{sig}$')\n",
    "ax.set_ylabel(r'$1 - \\epsilon_{bg}$')\n",
    "\n",
    "plt.tight_layout()\n",
    "plt.savefig('plots/test_roc.pdf')"
   ]
  }
 ],
 "metadata": {
  "hide_input": false,
  "kernelspec": {
   "display_name": "Python 3",
   "language": "python",
   "name": "python3"
  },
  "language_info": {
   "codemirror_mode": {
    "name": "ipython",
    "version": 3
   },
   "file_extension": ".py",
   "mimetype": "text/x-python",
   "name": "python",
   "nbconvert_exporter": "python",
   "pygments_lexer": "ipython3",
   "version": "3.7.0"
  },
  "latex_envs": {
   "LaTeX_envs_menu_present": true,
   "autoclose": false,
   "autocomplete": true,
   "bibliofile": "biblio.bib",
   "cite_by": "apalike",
   "current_citInitial": 1,
   "eqLabelWithNumbers": true,
   "eqNumInitial": 0,
   "hotkeys": {
    "equation": "Ctrl-E",
    "itemize": "Ctrl-I"
   },
   "labels_anchors": false,
   "latex_user_defs": false,
   "report_style_numbering": false,
   "user_envs_cfg": false
  },
  "toc": {
   "colors": {
    "hover_highlight": "#DAA520",
    "navigate_num": "#000000",
    "navigate_text": "#333333",
    "running_highlight": "#FF0000",
    "selected_highlight": "#FFD700",
    "sidebar_border": "#EEEEEE",
    "wrapper_background": "#FFFFFF"
   },
   "moveMenuLeft": true,
   "nav_menu": {
    "height": "29px",
    "width": "251px"
   },
   "navigate_menu": true,
   "number_sections": true,
   "sideBar": true,
   "threshold": 4,
   "toc_cell": false,
   "toc_section_display": "block",
   "toc_window_display": false,
   "widenNotebook": false
  }
 },
 "nbformat": 4,
 "nbformat_minor": 2
}
