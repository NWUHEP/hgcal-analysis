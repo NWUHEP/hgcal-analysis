{
 "cells": [
  {
   "cell_type": "markdown",
   "metadata": {},
   "source": [
    "# Exploring HGCal\n",
    "\n",
    "Let's take a look at some hgcal data.  First some simple visualizations..."
   ]
  },
  {
   "cell_type": "code",
   "execution_count": 11,
   "metadata": {
    "code_folding": []
   },
   "outputs": [
    {
     "name": "stdout",
     "output_type": "stream",
     "text": [
      "/home/naodell/work/CMS/hgcal/hgcal_analysis\n"
     ]
    },
    {
     "data": {
      "text/html": [
       "<script>requirejs.config({paths: { 'plotly': ['https://cdn.plot.ly/plotly-latest.min']},});if(!window.Plotly) {{require(['plotly'],function(plotly) {window.Plotly=plotly;});}}</script>"
      ],
      "text/vnd.plotly.v1+html": [
       "<script>requirejs.config({paths: { 'plotly': ['https://cdn.plot.ly/plotly-latest.min']},});if(!window.Plotly) {{require(['plotly'],function(plotly) {window.Plotly=plotly;});}}</script>"
      ]
     },
     "metadata": {},
     "output_type": "display_data"
    }
   ],
   "source": [
    "#imports and setup\n",
    "%matplotlib inline\n",
    "%cd /home/naodell/work/CMS/hgcal/hgcal_analysis\n",
    "\n",
    "import sys\n",
    "import numpy as np\n",
    "import pandas as pd\n",
    "import matplotlib.pyplot as plt\n",
    "from mpl_toolkits.mplot3d import Axes3D\n",
    "\n",
    "import plotly.plotly as plotly\n",
    "import plotly.graph_objs as go\n",
    "from plotly.graph_objs import Surface, Mesh3d\n",
    "from plotly.offline import init_notebook_mode\n",
    "init_notebook_mode(connected=True)\n",
    "    \n",
    "from scripts.helpers import eta_to_theta, propagate_to_face, assign_phi\n",
    "\n",
    "sys.path.append('/usr/local/lib')\n",
    "from root_pandas import read_root"
   ]
  },
  {
   "cell_type": "code",
   "execution_count": null,
   "metadata": {
    "collapsed": true
   },
   "outputs": [],
   "source": [
    "# get the rechits and apply some cuts\n",
    "event_data = pd.read_csv('data/pions/rechits.csv', names=['evt', 'x', 'y', 'z', 't', 'e'])\n",
    "event_data = event_data.query('z > 0. and evt == 3')\n",
    "\n",
    "# add some additional vars\n",
    "event_data['r'] = np.sqrt(event_data.x**2 + event_data.y**2)\n",
    "event_data['phi'] = np.arctan(np.abs(event_data.y/event_data.x)) \n",
    "assign_phi(event_data) # needed to correctly map phi onto 0 to 2pi\n",
    "\n",
    "# get the gen particles \n",
    "gen_data = pd.read_csv('data/pions/genparticles.csv', names=['evt', 'pdgid', 'eta', 'phi', 'pt', 'e'])\n",
    "gen_data['theta'] = 2*np.arctan(np.exp(-gen_data.eta))\n",
    "gen_data = gen_data.query('theta > 0. and evt == 3')"
   ]
  },
  {
   "cell_type": "code",
   "execution_count": null,
   "metadata": {
    "code_folding": [],
    "collapsed": true
   },
   "outputs": [],
   "source": [
    "#plt.yscale('log')\n",
    "fig, axes = plt.subplots(1, 2, figsize=(12,6), sharey=True, facecolor='white')\n",
    "axes[0].hist(event_data.e, range=(0., 2.), bins=50, histtype='step', lw=2)\n",
    "axes[0].set_xlabel('rechit energy')\n",
    "axes[0].set_ylabel('hits')\n",
    "axes[0].set_title('')\n",
    "axes[0].set_xlim([0., 2.])\n",
    "\n",
    "axes[1].hist(event_data.t, range=(0.99, 1.15), bins=20, histtype='step', lw=2)\n",
    "axes[1].set_xlabel('rechit time')\n",
    "axes[1].set_ylabel('hits')\n",
    "axes[1].set_title('')\n",
    "axes[1].set_xlim([0.99, 1.15])\n",
    "\n",
    "plt.show()"
   ]
  },
  {
   "cell_type": "code",
   "execution_count": null,
   "metadata": {
    "collapsed": true
   },
   "outputs": [],
   "source": [
    "scan_data = event_data#.query('sqrt((x-20)**2 + (y - 60)**2) < 20. and 0. < phi < {0}/2'.format(np.pi))\n",
    "phi_cscale = scan_data.phi/(2*np.pi)\n",
    "\n",
    "gen_face_position = np.array([propagate_to_face(p.theta, p.phi, p.pt, 3.2, 0.14) for i,p in gen_data.iterrows()])\n",
    "gen_tail_position = np.array([propagate_to_face(p.theta, p.phi, p.pt, 4.1, 0.14) for i,p in gen_data.iterrows()])\n",
    "\n",
    "fig, axes = plt.subplots(1, 2, figsize=(16,8), facecolor='white')\n",
    "axes[0].scatter(scan_data.z, np.sign(scan_data.y)*scan_data.r, s=20*scan_data.e, c=phi_cscale, cmap='viridis')\n",
    "axes[0].set_xlabel('z (cm)')\n",
    "axes[0].set_ylabel('r (cm)')\n",
    "axes[0].set_xlim([315., 420.])\n",
    "axes[0].set_ylim([50., 80.])\n",
    "\n",
    "axes[1].scatter(100.*gen_face_position[:,0], 100.*gen_face_position[:,1], marker='*', c='k')\n",
    "axes[1].scatter(100.*gen_tail_position[:,0], 100.*gen_tail_position[:,1], marker='>', c='k')\n",
    "axes[1].hist2d(scan_data.x, scan_data.y, bins=100, cmap='hot_r', range=[[-180, 180], [-180, 180]])\n",
    "axes[1].set_xlabel('x (cm)')\n",
    "axes[1].set_ylabel('y (cm)')\n",
    "axes[1].set_xlim([0., 175.])\n",
    "axes[1].set_ylim([0., 175.])\n",
    "\n",
    "plt.show()"
   ]
  },
  {
   "cell_type": "code",
   "execution_count": null,
   "metadata": {
    "collapsed": true
   },
   "outputs": [],
   "source": [
    "#from skimage.feature import blob_doh\n",
    "#blobs_doh = blob_doh(image_gray, max_sigma=30, threshold=.01)"
   ]
  },
  {
   "cell_type": "code",
   "execution_count": null,
   "metadata": {
    "collapsed": true
   },
   "outputs": [],
   "source": [
    "zvals = scan_data['z'].unique()\n",
    "zvals.sort()\n",
    "fig, axes = plt.subplots(7, 7, facecolor='white', figsize=(20, 20), sharey=True, sharex=True)\n",
    "\n",
    "e_by_layer = []\n",
    "for i, plane in enumerate(zvals):\n",
    "    row, col = i/7, i%7\n",
    "    df = scan_data.query('z == {0}'.format(plane))\n",
    "    e_by_layer.append(np.sum(df.e))\n",
    "    e_cum = np.sum(e_by_layer)\n",
    "    \n",
    "    axes[row][col].scatter(df.x, df.y, c=df.e, s=40*df.e, marker='8')\n",
    "    axes[row][col].set_xlim(10,60)\n",
    "    axes[row][col].set_ylim(30,100)\n",
    "    \n",
    "    axes[row][col].text(33,74, r'$\\sum E_{{z}}$ = {0:.2f}'.format(e_cum))\n",
    "    axes[row][col].text(35,82, r'$E_{{z}}$ = {0:.2f}'.format(np.sum(df.e)))\n",
    "    axes[row][col].text(35,90, 'z = {0:.1f}'.format(plane))\n",
    "\n",
    "plt.show()"
   ]
  },
  {
   "cell_type": "code",
   "execution_count": null,
   "metadata": {
    "collapsed": true
   },
   "outputs": [],
   "source": [
    "e_by_layer = np.array(e_by_layer)\n",
    "dz = zvals[1:] - zvals[:-1]\n",
    "z1 = zvals[:-1] + dz/2.\n",
    "de_dz = np.abs(e_by_layer[1:] - e_by_layer[:-1])/dz\n",
    "\n",
    "dz2 = z1[1:] - z1[:-1]\n",
    "z2 = z1[:-1] + dz2/2.\n",
    "d2e_dz2 = np.abs(de_dz[1:] - de_dz[:-1])/dz2\n",
    "\n",
    "fix, axes = plt.subplots(1, 3, figsize=(10, 6),  facecolor='white')\n",
    "axes[0].plot(zvals, e_by_layer)\n",
    "axes[1].plot(z1, de_dz)\n",
    "axes[2].plot(z2, d2e_dz2)\n",
    "\n",
    "plt.show()"
   ]
  },
  {
   "cell_type": "code",
   "execution_count": null,
   "metadata": {
    "collapsed": true
   },
   "outputs": [],
   "source": [
    "# test parametric hex grid\n",
    "grid_size = ((0., 100.), (0., 100.))\n",
    "edge_len = 1\n",
    "hlines_x = np.array([[p, p+edge_len] for p in np.linspace(0, 100, 51)])\n",
    "hlines_y = np.ones((hlines_x.size, 2))\n",
    "\n",
    "#plt.plot(x=hlines_x, y=hlines_y)\n",
    "plt.show()"
   ]
  },
  {
   "cell_type": "code",
   "execution_count": null,
   "metadata": {
    "collapsed": true
   },
   "outputs": [],
   "source": []
  },
  {
   "cell_type": "code",
   "execution_count": null,
   "metadata": {
    "collapsed": true
   },
   "outputs": [],
   "source": []
  }
 ],
 "metadata": {
  "hide_input": false,
  "kernelspec": {
   "display_name": "Python 3",
   "language": "python",
   "name": "python3"
  },
  "language_info": {
   "codemirror_mode": {
    "name": "ipython",
    "version": 3
   },
   "file_extension": ".py",
   "mimetype": "text/x-python",
   "name": "python",
   "nbconvert_exporter": "python",
   "pygments_lexer": "ipython3",
   "version": "3.6.4"
  },
  "latex_envs": {
   "LaTeX_envs_menu_present": true,
   "autocomplete": true,
   "bibliofile": "biblio.bib",
   "cite_by": "apalike",
   "current_citInitial": 1,
   "eqLabelWithNumbers": true,
   "eqNumInitial": 0,
   "hotkeys": {
    "equation": "Ctrl-E",
    "itemize": "Ctrl-I"
   },
   "labels_anchors": false,
   "latex_user_defs": false,
   "report_style_numbering": false,
   "user_envs_cfg": false
  },
  "toc": {
   "colors": {
    "hover_highlight": "#DAA520",
    "navigate_num": "#000000",
    "navigate_text": "#333333",
    "running_highlight": "#FF0000",
    "selected_highlight": "#FFD700",
    "sidebar_border": "#EEEEEE",
    "wrapper_background": "#FFFFFF"
   },
   "moveMenuLeft": true,
   "nav_menu": {
    "height": "29px",
    "width": "251px"
   },
   "navigate_menu": true,
   "number_sections": true,
   "sideBar": true,
   "threshold": 4,
   "toc_cell": false,
   "toc_section_display": "block",
   "toc_window_display": false,
   "widenNotebook": false
  }
 },
 "nbformat": 4,
 "nbformat_minor": 2
}
