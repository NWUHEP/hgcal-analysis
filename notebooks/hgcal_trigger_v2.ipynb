{
 "cells": [
  {
   "cell_type": "markdown",
   "metadata": {},
   "source": [
    "# HGCAL FE studies"
   ]
  },
  {
   "cell_type": "markdown",
   "metadata": {},
   "source": [
    "### imports and initial setup"
   ]
  },
  {
   "cell_type": "code",
   "execution_count": null,
   "metadata": {
    "code_folding": [
     0
    ]
   },
   "outputs": [],
   "source": [
    "#imports and setup\n",
    "%matplotlib inline\n",
    "%cd /home/naodell/work/hgcal\n",
    "\n",
    "import pickle\n",
    "import os\n",
    "import numpy as np\n",
    "import pandas as pd\n",
    "import matplotlib.pyplot as plt\n",
    "\n",
    "#from descartes import PolygonPatch\n",
    "from tqdm import tqdm_notebook\n",
    "\n",
    "from skhep.modeling import bayesian_blocks\n",
    "import scripts.helpers as hlp\n",
    "import scripts.readout_algorithms as algos\n",
    "\n",
    "import matplotlib\n",
    "matplotlib.rcParams.update({'font.size': 16})"
   ]
  },
  {
   "cell_type": "markdown",
   "metadata": {},
   "source": [
    "### get the data mixtures\n",
    "\n",
    "In the script `**.py`, I make mixtures of signal and pileup samples.  "
   ]
  },
  {
   "cell_type": "code",
   "execution_count": null,
   "metadata": {
    "scrolled": false
   },
   "outputs": [],
   "source": [
    "gen_list = []\n",
    "df_list = []\n",
    "inputdir = 'data/mc_mixtures/single_electron_pt35_skim'\n",
    "for filename in os.listdir(inputdir):\n",
    "    data_file = open(f'{inputdir}/{filename}', 'rb')\n",
    "    gen_list.extend(pickle.load(data_file))\n",
    "    df_list.extend(pickle.load(data_file))\n",
    "    data_file.close()\n",
    "\n",
    "algos = [\n",
    "         'baseline',\n",
    "         #'threshold_1bx_esort',  'threshold_8bx_esort',\n",
    "         #'threshold_1bx_nosort', 'threshold_8bx_nosort', \n",
    "        ]\n",
    "mippt_scan = np.arange(2, 10, 0.5)\n",
    "ratios = {n:{mippt:[] for mippt in mippt_scan} for n in algos}\n",
    "columns = ['reco_e', 'sim_e', 'pt', 'mip_pt']\n",
    "cell_labels = ['zside', 'layer', 'sector', 'panel']\n",
    "data_iter = zip(gen_list, df_list)[:100]\n",
    "for gpart, data in tqdm_notebook(data_iter, total=100):\n",
    "    gen1 = gpart.iloc[0]\n",
    "    gen2 = gpart.iloc[1]\n",
    "    denom = np.array([gen1.e, gen1.e, gen1.pt, gen1.pt])\n",
    "    \n",
    "    for mippt in mippt_scan:\n",
    "        df = data.query(f'mip_pt > {mippt}')\n",
    "        \n",
    "        # carry out baseline selection\n",
    "        df_baseline = df.query('sim_e > 0').groupby('zside')[columns].sum() \n",
    "        r = df_baseline/denom\n",
    "        ratios['baseline'][mippt].append(r.values)\n",
    "\n",
    "        # assess readout resolution and efficiency for various algorithms\n",
    "        for k, v in ratios.items(): \n",
    "            if k == 'baseline':\n",
    "                continue\n",
    "            df_num = df.query(f'sim_e > 0 and {k}').groupby('zside')[columns].sum() \n",
    "            r = df_num/den\n",
    "            v[mippt].append(r.values)\n",
    "\n",
    "            #print('*------------------------------------------*')\n",
    "            #print(gen)\n",
    "            #print(df_num)\n",
    "            #print(df_den)\n",
    "            #print(r)\n",
    "            #print('*------------------------------------------*')\n",
    "\n",
    "ratios = {k:pd.DataFrame(np.vstack(v), columns=columns) for k, v in ratios.items()}"
   ]
  },
  {
   "cell_type": "code",
   "execution_count": null,
   "metadata": {},
   "outputs": [],
   "source": [
    "fig = plt.figure(figsize=(10, 10), facecolor='white')\n",
    "\n",
    "ax = plt.subplot()\n",
    "h, b, _ = ax.hist([ratios[n][0]['reco_e'] for n in algos], bins=60, range=[0, 1.5], linewidth=1.5, histtype='step')\n",
    "\n",
    "ax.set_xlim(0, 2.)\n",
    "ax.set_ylim(0, 1.2*np.max(h))\n",
    "#ax.set_xlabel(r'$\\frac{p_{T,L1}}{p_{T,gen}}$', fontsize=26)\n",
    "ax.set_xlabel(r'$\\frac{E_{L1}}{E_{gen}}$', fontsize=26)\n",
    "ax.set_ylabel('Entries / bin')\n",
    "\n",
    "labels = ['8 bx', '1 bx', '8 bx, sort', '1 bx, sort', 'no constraint']\n",
    "ax.legend(labels)\n",
    "\n",
    "plt.savefig('plots/threshold_algo_resolution_e35.pdf')\n",
    "plt.show()"
   ]
  },
  {
   "cell_type": "code",
   "execution_count": null,
   "metadata": {},
   "outputs": [],
   "source": []
  }
 ],
 "metadata": {
  "hide_input": false,
  "kernelspec": {
   "display_name": "Python 3",
   "language": "python",
   "name": "python3"
  },
  "language_info": {
   "codemirror_mode": {
    "name": "ipython",
    "version": 3
   },
   "file_extension": ".py",
   "mimetype": "text/x-python",
   "name": "python",
   "nbconvert_exporter": "python",
   "pygments_lexer": "ipython3",
   "version": "3.6.1"
  },
  "latex_envs": {
   "LaTeX_envs_menu_present": true,
   "autoclose": false,
   "autocomplete": true,
   "bibliofile": "biblio.bib",
   "cite_by": "apalike",
   "current_citInitial": 1,
   "eqLabelWithNumbers": true,
   "eqNumInitial": 0,
   "hotkeys": {
    "equation": "Ctrl-E",
    "itemize": "Ctrl-I"
   },
   "labels_anchors": false,
   "latex_user_defs": false,
   "report_style_numbering": false,
   "user_envs_cfg": false
  },
  "toc": {
   "nav_menu": {
    "height": "29px",
    "width": "251px"
   },
   "navigate_menu": true,
   "number_sections": true,
   "sideBar": true,
   "skip_h1_title": false,
   "threshold": 4,
   "title_cell": "Table of Contents",
   "title_sidebar": "Contents",
   "toc_cell": false,
   "toc_position": {},
   "toc_section_display": "block",
   "toc_window_display": false
  }
 },
 "nbformat": 4,
 "nbformat_minor": 2
}
