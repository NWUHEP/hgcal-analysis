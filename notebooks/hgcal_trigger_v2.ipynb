{
 "cells": [
  {
   "cell_type": "markdown",
   "metadata": {},
   "source": [
    "# HGCAL FE studies"
   ]
  },
  {
   "cell_type": "markdown",
   "metadata": {},
   "source": [
    "### imports and initial setup"
   ]
  },
  {
   "cell_type": "code",
   "execution_count": 1,
   "metadata": {
    "code_folding": [
     0
    ]
   },
   "outputs": [
    {
     "name": "stdout",
     "output_type": "stream",
     "text": [
      "/home/naodell/work/hgcal\n"
     ]
    }
   ],
   "source": [
    "#imports and setup\n",
    "\n",
    "%matplotlib inline\n",
    "%cd /home/naodell/work/hgcal\n",
    "\n",
    "import pickle\n",
    "import os\n",
    "import numpy as np\n",
    "import pandas as pd\n",
    "import matplotlib.pyplot as plt\n",
    "\n",
    "#from descartes import PolygonPatch\n",
    "from tqdm import tqdm_notebook\n",
    "\n",
    "from skhep.modeling import bayesian_blocks\n",
    "import scripts.helpers as hlp\n",
    "import scripts.readout_algorithms as algos\n",
    "\n",
    "import matplotlib\n",
    "matplotlib.rcParams.update({'font.size': 16})"
   ]
  },
  {
   "cell_type": "markdown",
   "metadata": {},
   "source": [
    "### get the data mixtures\n",
    "\n",
    "In the script `**.py`, I make mixtures of signal and pileup samples.  "
   ]
  },
  {
   "cell_type": "code",
   "execution_count": 25,
   "metadata": {
    "scrolled": false
   },
   "outputs": [
    {
     "data": {
      "application/vnd.jupyter.widget-view+json": {
       "model_id": "75ca45fb78bb42259338cdc9289983ea",
       "version_major": 2,
       "version_minor": 0
      },
      "text/html": [
       "<p>Failed to display Jupyter Widget of type <code>HBox</code>.</p>\n",
       "<p>\n",
       "  If you're reading this message in the Jupyter Notebook or JupyterLab Notebook, it may mean\n",
       "  that the widgets JavaScript is still loading. If this message persists, it\n",
       "  likely means that the widgets JavaScript library is either not installed or\n",
       "  not enabled. See the <a href=\"https://ipywidgets.readthedocs.io/en/stable/user_install.html\">Jupyter\n",
       "  Widgets Documentation</a> for setup instructions.\n",
       "</p>\n",
       "<p>\n",
       "  If you're reading this message in another frontend (for example, a static\n",
       "  rendering on GitHub or <a href=\"https://nbviewer.jupyter.org/\">NBViewer</a>),\n",
       "  it may mean that your frontend doesn't currently support widgets.\n",
       "</p>\n"
      ],
      "text/plain": [
       "HBox(children=(IntProgress(value=0, max=1000), HTML(value='')))"
      ]
     },
     "metadata": {},
     "output_type": "display_data"
    },
    {
     "name": "stdout",
     "output_type": "stream",
     "text": [
      "\n"
     ]
    }
   ],
   "source": [
    "gen_list = []\n",
    "df_list = []\n",
    "inputdir = 'data/mc_mixtures/single_electron_pt35_skim'\n",
    "for filename in os.listdir(inputdir):\n",
    "    data_file = open(f'{inputdir}/{filename}', 'rb')\n",
    "    gen_list.extend(pickle.load(data_file))\n",
    "    df_list.extend(pickle.load(data_file))\n",
    "    data_file.close()\n",
    "    break\n",
    "\n",
    "algo_list = [ 'baseline', 'threshold_1bx_esort',  'threshold_8bx_esort', 'threshold_1bx_nosort', 'threshold_8bx_nosort']\n",
    "mippt_scan = np.arange(1, 10, 1.)\n",
    "ratios = {n:{mippt:[] for mippt in mippt_scan} for n in algo_list}\n",
    "columns = ['reco_e', 'sim_e', 'pt']\n",
    "cell_labels = ['zside', 'layer', 'sector', 'panel']\n",
    "data_iter = list(zip(gen_list, df_list))\n",
    "for gpart, data in tqdm_notebook(data_iter, total=len(data_iter)):\n",
    "    gen1 = gpart.iloc[0]\n",
    "    gen2 = gpart.iloc[1]\n",
    "    denom = gen1.pt\n",
    "    \n",
    "    for mippt in mippt_scan:\n",
    "        df = data.query(f'mip_pt > {mippt}')\n",
    "        \n",
    "        # carry out baseline selection\n",
    "        df_baseline = df.query('sim_e > 0').groupby('zside')['pt'].sum() \n",
    "        r = df_baseline/denom\n",
    "        ratios['baseline'][mippt].append(r.values)\n",
    "\n",
    "        df = df.reset_index(drop=True)\n",
    "        df_num = algos.threshold_algos(df, sort_by='reco_e', name='threshold_1bx_esort', ascending=False, nbx=1)\n",
    "        r = df_num.query('sim_e > 0 and threshold_1bx_esort').groupby('zside')['pt'].sum()/denom\n",
    "        ratios['threshold_1bx_esort'][mippt].append(r.values) \n",
    "        \n",
    "        df = df.reset_index(drop=True)\n",
    "        df_num = algos.threshold_algos(df, sort_by='reco_e', name='threshold_8bx_esort', ascending=False, nbx=8)\n",
    "        r = df_num.query('sim_e > 0 and threshold_8bx_esort').groupby('zside')['pt'].sum()/denom\n",
    "        ratios['threshold_8bx_esort'][mippt].append(r.values) \n",
    "        \n",
    "        df = df.reset_index(drop=True)\n",
    "        df_num = algos.threshold_algos(df, sort_by=['ievt', 'cell'], name='threshold_1bx_nosort', ascending=True, nbx=1)\n",
    "        r = df_num.query('sim_e > 0 and threshold_1bx_nosort').groupby('zside')['pt'].sum()/denom\n",
    "        ratios['threshold_1bx_nosort'][mippt].append(r.values) \n",
    "        \n",
    "        df = df.reset_index(drop=True)\n",
    "        df_num = algos.threshold_algos(df, sort_by=['ievt', 'cell'], name='threshold_8bx_nosort', ascending=True, nbx=8)\n",
    "        r = df_num.query('sim_e > 0 and threshold_8bx_nosort').groupby('zside')['pt'].sum()/denom\n",
    "        ratios['threshold_8bx_nosort'][mippt].append(r.values) \n",
    "        \n",
    "ratios = {a:{pt:np.concatenate(d) for pt, d in algo_data.items()} for a, algo_data in ratios.items()}"
   ]
  },
  {
   "cell_type": "code",
   "execution_count": 27,
   "metadata": {},
   "outputs": [
    {
     "data": {
      "image/png": "[encoded data removed]",
      "text/plain": [
       "<matplotlib.figure.Figure at 0x7fef972dd898>"
      ]
     },
     "metadata": {},
     "output_type": "display_data"
    }
   ],
   "source": [
    "# mip_pt > 1 histograms\n",
    "fig = plt.figure(figsize=(10, 10), facecolor='white')\n",
    "\n",
    "ax = plt.subplot()\n",
    "ax.hist(ratios['threshold_1bx_esort'][1], bins=100, range=[0, 1.5], linewidth=1.5, histtype='step')\n",
    "ax.hist(ratios['threshold_8bx_esort'][1], bins=100, range=[0, 1.5], linewidth=1.5, histtype='step')\n",
    "ax.hist(ratios['threshold_1bx_nosort'][1], bins=100, range=[0, 1.5], linewidth=1.5, histtype='step')\n",
    "ax.hist(ratios['threshold_8bx_nosort'][1], bins=100, range=[0, 1.5], linewidth=1.5, histtype='step')\n",
    "h, b, _ = ax.hist(ratios['baseline'][1], bins=100, range=[0, 1.5], linewidth=1.5, histtype='step')\n",
    "\n",
    "ax.set_xlim(0, 2.)\n",
    "ax.set_ylim(0, 1.2*np.max(h))\n",
    "#ax.set_xlabel(r'$\\frac{p_{T,L1}}{p_{T,gen}}$', fontsize=26)\n",
    "ax.set_xlabel(r'$\\frac{E_{L1}}{E_{gen}}$', fontsize=26)\n",
    "ax.set_ylabel('Entries / bin')\n",
    "\n",
    "labels = ['8 bx', '1 bx', '8 bx, sort', '1 bx, sort', 'no constraint']\n",
    "#labels = ['8 bx, sort', '1 bx, sort', 'no constraint']\n",
    "ax.legend(labels)\n",
    "\n",
    "plt.savefig('plots/threshold_algo_resolution_e35.pdf')\n",
    "plt.show()"
   ]
  },
  {
   "cell_type": "code",
   "execution_count": null,
   "metadata": {},
   "outputs": [],
   "source": [
    "# mip_pt resolution scans\n"
   ]
  }
 ],
 "metadata": {
  "hide_input": false,
  "kernelspec": {
   "display_name": "Python 3",
   "language": "python",
   "name": "python3"
  },
  "language_info": {
   "codemirror_mode": {
    "name": "ipython",
    "version": 3
   },
   "file_extension": ".py",
   "mimetype": "text/x-python",
   "name": "python",
   "nbconvert_exporter": "python",
   "pygments_lexer": "ipython3",
   "version": "3.6.4"
  },
  "latex_envs": {
   "LaTeX_envs_menu_present": true,
   "autoclose": false,
   "autocomplete": true,
   "bibliofile": "biblio.bib",
   "cite_by": "apalike",
   "current_citInitial": 1,
   "eqLabelWithNumbers": true,
   "eqNumInitial": 0,
   "hotkeys": {
    "equation": "Ctrl-E",
    "itemize": "Ctrl-I"
   },
   "labels_anchors": false,
   "latex_user_defs": false,
   "report_style_numbering": false,
   "user_envs_cfg": false
  },
  "toc": {
   "nav_menu": {
    "height": "29px",
    "width": "251px"
   },
   "navigate_menu": true,
   "number_sections": true,
   "sideBar": true,
   "skip_h1_title": false,
   "threshold": 4,
   "title_cell": "Table of Contents",
   "title_sidebar": "Contents",
   "toc_cell": false,
   "toc_position": {},
   "toc_section_display": "block",
   "toc_window_display": false
  }
 },
 "nbformat": 4,
 "nbformat_minor": 2
}
