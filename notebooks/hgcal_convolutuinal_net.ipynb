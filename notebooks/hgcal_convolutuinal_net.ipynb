{
 "cells": [
  {
   "cell_type": "markdown",
   "metadata": {},
   "source": [
    "# Exploring HGCal\n",
    "\n",
    "Let's take a look at some hgcal data.  First some simple visualizations..."
   ]
  },
  {
   "cell_type": "code",
   "execution_count": 28,
   "metadata": {
    "code_folding": []
   },
   "outputs": [
    {
     "name": "stdout",
     "output_type": "stream",
     "text": [
      "/home/naodell/work/hgcal\n"
     ]
    },
    {
     "data": {
      "text/html": [
       "<script>requirejs.config({paths: { 'plotly': ['https://cdn.plot.ly/plotly-latest.min']},});if(!window.Plotly) {{require(['plotly'],function(plotly) {window.Plotly=plotly;});}}</script>"
      ],
      "text/vnd.plotly.v1+html": [
       "<script>requirejs.config({paths: { 'plotly': ['https://cdn.plot.ly/plotly-latest.min']},});if(!window.Plotly) {{require(['plotly'],function(plotly) {window.Plotly=plotly;});}}</script>"
      ]
     },
     "metadata": {},
     "output_type": "display_data"
    }
   ],
   "source": [
    "#imports and setup\n",
    "%matplotlib inline\n",
    "%cd /home/naodell/work/hgcal\n",
    "\n",
    "import numpy as np\n",
    "import pandas as pd\n",
    "import matplotlib.pyplot as plt\n",
    "\n",
    "import plotly.plotly as plotly\n",
    "import plotly.graph_objs as go\n",
    "from plotly.graph_objs import Surface, Mesh3d\n",
    "from plotly.offline import init_notebook_mode\n",
    "init_notebook_mode(connected=True)\n",
    "    \n",
    "from scripts.helpers import eta_to_theta, propagate_to_face, assign_phi"
   ]
  },
  {
   "cell_type": "code",
   "execution_count": 6,
   "metadata": {
    "collapsed": true
   },
   "outputs": [],
   "source": [
    "# get the rechits and apply some cuts\n",
    "event_data = pd.read_csv('data/pions/rechits.csv', names=['evt', 'x', 'y', 'z', 't', 'e'])\n",
    "event_data = event_data.query('z > 0. and evt == 3')\n",
    "\n",
    "# add some additional vars\n",
    "event_data['r'] = np.sqrt(event_data.x**2 + event_data.y**2)\n",
    "event_data['phi'] = np.arctan(np.abs(event_data.y/event_data.x)) \n",
    "assign_phi(event_data) # needed to correctly map phi onto 0 to 2pi\n",
    "\n",
    "# get the gen particles \n",
    "gen_data = pd.read_csv('data/pions/genparticles.csv', names=['evt', 'pdgid', 'eta', 'phi', 'pt', 'e'])\n",
    "gen_data['theta'] = 2*np.arctan(np.exp(-gen_data.eta))\n",
    "gen_data = gen_data.query('theta > 0. and evt == 3')"
   ]
  },
  {
   "cell_type": "code",
   "execution_count": null,
   "metadata": {
    "collapsed": true
   },
   "outputs": [],
   "source": [
    "#from skimage.feature import blob_doh\n",
    "#blobs_doh = blob_doh(image_gray, max_sigma=30, threshold=.01)"
   ]
  }
 ],
 "metadata": {
  "hide_input": false,
  "kernelspec": {
   "display_name": "Python 3",
   "language": "python",
   "name": "python3"
  },
  "language_info": {
   "codemirror_mode": {
    "name": "ipython",
    "version": 3
   },
   "file_extension": ".py",
   "mimetype": "text/x-python",
   "name": "python",
   "nbconvert_exporter": "python",
   "pygments_lexer": "ipython3",
   "version": "3.6.1"
  },
  "latex_envs": {
   "bibliofile": "biblio.bib",
   "cite_by": "apalike",
   "current_citInitial": 1,
   "eqLabelWithNumbers": true,
   "eqNumInitial": 0
  },
  "toc": {
   "nav_menu": {
    "height": "29px",
    "width": "251px"
   },
   "navigate_menu": true,
   "number_sections": true,
   "sideBar": true,
   "threshold": 4,
   "toc_cell": false,
   "toc_section_display": "block",
   "toc_window_display": false
  }
 },
 "nbformat": 4,
 "nbformat_minor": 2
}
