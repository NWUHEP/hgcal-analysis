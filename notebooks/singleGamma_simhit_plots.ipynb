{
 "cells": [
  {
   "cell_type": "code",
   "execution_count": 1,
   "metadata": {
    "collapsed": true
   },
   "outputs": [],
   "source": [
    "%matplotlib inline\n",
    "import matplotlib.pyplot as plt\n",
    "from matplotlib import cm\n",
    "import matplotlib.colors\n",
    "plt.style.use('classic')\n",
    "plt.rc(\"figure\",facecolor=\"w\",figsize=(6,4))\n",
    "plt.rc(\"font\",size=10)\n",
    "plt.rc(\"savefig\",dpi=300)\n",
    "import numpy as np\n",
    "import pandas as pd\n",
    "from root_pandas import read_root"
   ]
  },
  {
   "cell_type": "code",
   "execution_count": 2,
   "metadata": {
    "collapsed": false
   },
   "outputs": [],
   "source": [
    "#digi_features = ['event', 'hgcdigi_id', 'hgcdigi_subdet', 'hgcdigi_zside', 'hgcdigi_layer', 'hgcdigi_wafer', \n",
    "#                 'hgcdigi_cell', 'hgcdigi_eta', 'hgcdigi_phi', 'hgcdigi_z', 'hgcdigi_data', 'hgcdigi_simenergy']\n",
    "\n",
    "tc_features = ['event', 'tc_id', 'tc_subdet', 'tc_zside', 'tc_layer', 'tc_wafer', 'tc_cell', 'tc_energy',\n",
    "               'tc_simenergy', 'tc_eta', 'tc_phi', 'tc_z',]\n",
    "\n",
    "gen_features = ['event', 'gen_id', 'gen_status', 'gen_energy', 'gen_pt', 'gen_eta', 'gen_phi']\n",
    "\n",
    "geom_features = ['id', 'zside', 'subdet','layer', 'module', 'x', 'y', 'z', 'tc_layer',\n",
    "                 'tc_zside', 'tc_subdet', 'tc_id', 'tc_x', 'tc_y', 'tc_z']\n",
    "\n",
    "#df_digi = read_root('../data/ntuple_singleGamma140_oldmap_932_full.root', 'hgcalTriggerNtuplizer/HGCalTriggerNtuple',\n",
    "#                     columns=digi_features, flatten=digi_features)\n",
    "\n",
    "df_tc = read_root('../data/ntuple_singleGamma140_newmap.root', 'hgcalTriggerNtuplizer/HGCalTriggerNtuple',\n",
    "                   columns=tc_features, flatten=tc_features)\n",
    "\n",
    "df_gen = read_root('../data/ntuple_singleGamma140_newmap.root', 'hgcalTriggerNtuplizer/HGCalTriggerNtuple',\n",
    "                   columns=gen_features, flatten=gen_features)\n",
    "\n",
    "df_geom = read_root('../data/test_triggergeom_newmap.root', 'hgcaltriggergeomtester/TreeModules', \n",
    "                    columns=geom_features, flatten=geom_features)\n",
    "\n",
    "df_tc = pd.merge(df_tc, df_gen, on='event')\n",
    "#df_digi = pd.merge(df_digi, df_gen, on='event')"
   ]
  },
  {
   "cell_type": "code",
   "execution_count": 3,
   "metadata": {
    "collapsed": false
   },
   "outputs": [],
   "source": [
    "this_tc = df_tc.query('tc_zside == 1 and tc_subdet == 3')"
   ]
  },
  {
   "cell_type": "code",
   "execution_count": 4,
   "metadata": {
    "collapsed": false,
    "scrolled": true
   },
   "outputs": [
    {
     "data": {
      "text/html": [
       "<div>\n",
       "<table border=\"1\" class=\"dataframe\">\n",
       "  <thead>\n",
       "    <tr style=\"text-align: right;\">\n",
       "      <th></th>\n",
       "      <th>event</th>\n",
       "      <th>tc_id</th>\n",
       "      <th>tc_subdet</th>\n",
       "      <th>tc_zside</th>\n",
       "      <th>tc_layer</th>\n",
       "      <th>tc_wafer</th>\n",
       "      <th>tc_cell</th>\n",
       "      <th>tc_energy</th>\n",
       "      <th>tc_simenergy</th>\n",
       "      <th>tc_eta</th>\n",
       "      <th>tc_phi</th>\n",
       "      <th>tc_z</th>\n",
       "      <th>__array_index_x</th>\n",
       "      <th>gen_id</th>\n",
       "      <th>gen_status</th>\n",
       "      <th>gen_energy</th>\n",
       "      <th>gen_pt</th>\n",
       "      <th>gen_eta</th>\n",
       "      <th>gen_phi</th>\n",
       "      <th>__array_index_y</th>\n",
       "    </tr>\n",
       "  </thead>\n",
       "  <tbody>\n",
       "    <tr>\n",
       "      <th>3116</th>\n",
       "      <td>3502</td>\n",
       "      <td>1728849963</td>\n",
       "      <td>3</td>\n",
       "      <td>1</td>\n",
       "      <td>1</td>\n",
       "      <td>40</td>\n",
       "      <td>43</td>\n",
       "      <td>0.818152</td>\n",
       "      <td>0.0</td>\n",
       "      <td>2.474710</td>\n",
       "      <td>1.769193</td>\n",
       "      <td>320.755005</td>\n",
       "      <td>1558</td>\n",
       "      <td>22</td>\n",
       "      <td>1</td>\n",
       "      <td>94.163231</td>\n",
       "      <td>25.000462</td>\n",
       "      <td>2.001175</td>\n",
       "      <td>0.694839</td>\n",
       "      <td>0</td>\n",
       "    </tr>\n",
       "    <tr>\n",
       "      <th>3117</th>\n",
       "      <td>3502</td>\n",
       "      <td>1728849963</td>\n",
       "      <td>3</td>\n",
       "      <td>1</td>\n",
       "      <td>1</td>\n",
       "      <td>40</td>\n",
       "      <td>43</td>\n",
       "      <td>0.818152</td>\n",
       "      <td>0.0</td>\n",
       "      <td>2.474710</td>\n",
       "      <td>1.769193</td>\n",
       "      <td>320.755005</td>\n",
       "      <td>1558</td>\n",
       "      <td>22</td>\n",
       "      <td>1</td>\n",
       "      <td>94.163231</td>\n",
       "      <td>25.000462</td>\n",
       "      <td>-2.001175</td>\n",
       "      <td>-2.446754</td>\n",
       "      <td>1</td>\n",
       "    </tr>\n",
       "    <tr>\n",
       "      <th>3118</th>\n",
       "      <td>3502</td>\n",
       "      <td>1728844822</td>\n",
       "      <td>3</td>\n",
       "      <td>1</td>\n",
       "      <td>1</td>\n",
       "      <td>20</td>\n",
       "      <td>22</td>\n",
       "      <td>0.300258</td>\n",
       "      <td>0.0</td>\n",
       "      <td>2.717353</td>\n",
       "      <td>2.363337</td>\n",
       "      <td>320.755005</td>\n",
       "      <td>1559</td>\n",
       "      <td>22</td>\n",
       "      <td>1</td>\n",
       "      <td>94.163231</td>\n",
       "      <td>25.000462</td>\n",
       "      <td>2.001175</td>\n",
       "      <td>0.694839</td>\n",
       "      <td>0</td>\n",
       "    </tr>\n",
       "    <tr>\n",
       "      <th>3119</th>\n",
       "      <td>3502</td>\n",
       "      <td>1728844822</td>\n",
       "      <td>3</td>\n",
       "      <td>1</td>\n",
       "      <td>1</td>\n",
       "      <td>20</td>\n",
       "      <td>22</td>\n",
       "      <td>0.300258</td>\n",
       "      <td>0.0</td>\n",
       "      <td>2.717353</td>\n",
       "      <td>2.363337</td>\n",
       "      <td>320.755005</td>\n",
       "      <td>1559</td>\n",
       "      <td>22</td>\n",
       "      <td>1</td>\n",
       "      <td>94.163231</td>\n",
       "      <td>25.000462</td>\n",
       "      <td>-2.001175</td>\n",
       "      <td>-2.446754</td>\n",
       "      <td>1</td>\n",
       "    </tr>\n",
       "    <tr>\n",
       "      <th>3120</th>\n",
       "      <td>3502</td>\n",
       "      <td>1728923688</td>\n",
       "      <td>3</td>\n",
       "      <td>1</td>\n",
       "      <td>1</td>\n",
       "      <td>328</td>\n",
       "      <td>40</td>\n",
       "      <td>0.702000</td>\n",
       "      <td>0.0</td>\n",
       "      <td>1.566361</td>\n",
       "      <td>2.889600</td>\n",
       "      <td>320.755035</td>\n",
       "      <td>1560</td>\n",
       "      <td>22</td>\n",
       "      <td>1</td>\n",
       "      <td>94.163231</td>\n",
       "      <td>25.000462</td>\n",
       "      <td>2.001175</td>\n",
       "      <td>0.694839</td>\n",
       "      <td>0</td>\n",
       "    </tr>\n",
       "  </tbody>\n",
       "</table>\n",
       "</div>"
      ],
      "text/plain": [
       "      event       tc_id  tc_subdet  tc_zside  tc_layer  tc_wafer  tc_cell  \\\n",
       "3116   3502  1728849963          3         1         1        40       43   \n",
       "3117   3502  1728849963          3         1         1        40       43   \n",
       "3118   3502  1728844822          3         1         1        20       22   \n",
       "3119   3502  1728844822          3         1         1        20       22   \n",
       "3120   3502  1728923688          3         1         1       328       40   \n",
       "\n",
       "      tc_energy  tc_simenergy    tc_eta    tc_phi        tc_z  \\\n",
       "3116   0.818152           0.0  2.474710  1.769193  320.755005   \n",
       "3117   0.818152           0.0  2.474710  1.769193  320.755005   \n",
       "3118   0.300258           0.0  2.717353  2.363337  320.755005   \n",
       "3119   0.300258           0.0  2.717353  2.363337  320.755005   \n",
       "3120   0.702000           0.0  1.566361  2.889600  320.755035   \n",
       "\n",
       "      __array_index_x  gen_id  gen_status  gen_energy     gen_pt   gen_eta  \\\n",
       "3116             1558      22           1   94.163231  25.000462  2.001175   \n",
       "3117             1558      22           1   94.163231  25.000462 -2.001175   \n",
       "3118             1559      22           1   94.163231  25.000462  2.001175   \n",
       "3119             1559      22           1   94.163231  25.000462 -2.001175   \n",
       "3120             1560      22           1   94.163231  25.000462  2.001175   \n",
       "\n",
       "       gen_phi  __array_index_y  \n",
       "3116  0.694839                0  \n",
       "3117 -2.446754                1  \n",
       "3118  0.694839                0  \n",
       "3119 -2.446754                1  \n",
       "3120  0.694839                0  "
      ]
     },
     "execution_count": 4,
     "metadata": {},
     "output_type": "execute_result"
    }
   ],
   "source": [
    "this_tc.head()"
   ]
  },
  {
   "cell_type": "code",
   "execution_count": 5,
   "metadata": {
    "collapsed": false
   },
   "outputs": [],
   "source": [
    "z = df_tc.tc_z\n",
    "eta = df_tc.tc_eta\n",
    "phi = df_tc.tc_phi\n",
    "theta = 2*np.arctan(np.exp(-eta))\n",
    "x = z*np.tan(theta)*np.cos(phi)\n",
    "y = z*np.tan(theta)*np.sin(phi)\n",
    "df_tc['tc_x'] = x\n",
    "df_tc['tc_y'] = y"
   ]
  },
  {
   "cell_type": "code",
   "execution_count": 6,
   "metadata": {
    "collapsed": true
   },
   "outputs": [],
   "source": [
    "#z = df_digi.hgcdigi_z\n",
    "#eta = df_digi.hgcdigi_eta\n",
    "#phi = df_digi.hgcdigi_phi\n",
    "#theta = 2*np.arctan(np.exp(-eta))\n",
    "#x = z*np.tan(theta)*np.cos(phi)\n",
    "#y = z*np.tan(theta)*np.sin(phi)\n",
    "#df_digi['hgcdigi_x'] = x\n",
    "#df_digi['hgcdigi_y'] = y"
   ]
  },
  {
   "cell_type": "code",
   "execution_count": 7,
   "metadata": {
    "collapsed": true
   },
   "outputs": [],
   "source": [
    "zside = 1\n",
    "subdet = 3\n",
    "event = 3502"
   ]
  },
  {
   "cell_type": "code",
   "execution_count": 8,
   "metadata": {
    "collapsed": false
   },
   "outputs": [],
   "source": [
    "prefactor = 100\n",
    "layerList = np.array([ 1,  3,  5,  7,  9, 11, 13, 15, 17, 19, 21, 23, 25, 27])\n",
    "e_sim = 0.\n",
    "\n",
    "for layer in layerList:\n",
    "\n",
    "    #this_digi = df_digi.query('hgcdigi_zside == {0} and hgcdigi_subdet == {1} \\\n",
    "    #                           and hgcdigi_layer == {2} and event == {3} \\\n",
    "    #                          and hgcdigi_simenergy > 0'.format(zside, subdet, layer, event))\n",
    "    \n",
    "    this_tc = df_tc.query('tc_zside == {0} and tc_subdet == {1} \\\n",
    "                            and tc_layer == {2} and event == {3} \\\n",
    "                            and gen_eta > 0 and tc_energy > 0'.format(zside, subdet, layer, event))\n",
    "\n",
    "    this_geom = df_geom.query('zside == {0} and subdet == {1} and layer == {2}'.format(zside, subdet, layer))\n",
    "\n",
    "    plt.figure(figsize=(5,5))\n",
    "    plt.grid()\n",
    "    plt.xlim(-200,200)\n",
    "    plt.ylim(-200,200)\n",
    "    plt.xlabel('x [cm]')\n",
    "    plt.ylabel('y [cm]')\n",
    "\n",
    "    colors = [cm.get_cmap('Vega20')(i) for i in range(20)]\n",
    "    colors.extend([cm.get_cmap('Set3')(i) for i in range(12)])\n",
    "    colors.extend([cm.get_cmap('Dark2')(i) for i in range(8)])\n",
    "\n",
    "    groupby = this_geom.groupby('id')\n",
    "    for i, key in enumerate(list(groupby.groups.keys())):\n",
    "        this_group = groupby.get_group(key)\n",
    "        plt.scatter(this_group.tc_x, this_group.tc_y, s=0.4, edgecolors=\"None\", color=colors[i%len(colors)]);\n",
    "\n",
    "    tc_pu = this_tc[this_tc.tc_energy - this_tc.tc_simenergy > 0]\n",
    "    tc_sim = this_tc[this_tc.tc_simenergy > 0]\n",
    "    \n",
    "    e_sim += this_tc.tc_simenergy.sum()\n",
    "    \n",
    "    tc_scatter = plt.scatter(tc_pu.tc_x, tc_pu.tc_y, s=np.log(prefactor*(tc_pu.tc_energy-tc_pu.tc_simenergy)), \n",
    "                             c='r', edgecolors='None', label='pu hits')\n",
    "\n",
    "    sim_scatter = plt.scatter(tc_sim.tc_x, tc_sim.tc_y, s=np.log(prefactor*tc_sim.tc_simenergy), \n",
    "                              c='b', edgecolors='None', label='sim hits')\n",
    "    lgnd = plt.legend(handles=[tc_scatter, sim_scatter], prop={'size': 6}, scatterpoints=1)\n",
    "    lgnd.legendHandles[0].set_sizes([6.0])\n",
    "    lgnd.legendHandles[1].set_sizes([6.0])\n",
    "    plt.text(-190, 190, '$E_{{sim}} = {0:.2f} \\; GeV$'.format(e_sim), fontsize=15, verticalalignment='top')\n",
    "    \n",
    "    plt.title('Layer {0}'.format(layer))\n",
    "    plt.savefig('../plots/simhits_pu/layer_{0}_simhits_plus_pu.png'.format(layer//2+1), dpi=500)\n",
    "    plt.close()"
   ]
  },
  {
   "cell_type": "code",
   "execution_count": 9,
   "metadata": {
    "collapsed": false
   },
   "outputs": [
    {
     "data": {
      "text/plain": [
       "0.95941473058164317"
      ]
     },
     "execution_count": 9,
     "metadata": {},
     "output_type": "execute_result"
    }
   ],
   "source": [
    "df_tc.query('tc_zside == 1 and tc_subdet == 3 and gen_eta > 0 and tc_layer % 2 != 0').tc_simenergy.sum()/df_tc.query('tc_zside == 1 and tc_subdet == 3 and gen_eta > 0 and tc_layer % 2 != 0').gen_energy.unique().sum()"
   ]
  },
  {
   "cell_type": "code",
   "execution_count": 10,
   "metadata": {
    "collapsed": false
   },
   "outputs": [],
   "source": [
    "df_simreso = df_tc.query('tc_zside == 1 and tc_subdet == 3 and gen_eta > 0 and tc_layer % 2 != 0 and tc_simenergy > 0')\n",
    "simarr = []\n",
    "tcarr = []\n",
    "genarr = []\n",
    "groupby = df_simreso.groupby('event')\n",
    "for evt in groupby.groups:\n",
    "    this_evt = groupby.get_group(evt)\n",
    "    tc_energy = 2*this_evt.tc_energy.sum()\n",
    "    sim_energy = this_evt.tc_simenergy.sum()\n",
    "    gen_energy = this_evt.gen_energy.values[0]\n",
    "    simarr.append(sim_energy)\n",
    "    genarr.append(gen_energy)\n",
    "    tcarr.append(tc_energy)\n",
    "simarr = np.array(simarr)\n",
    "genarr = np.array(genarr)\n",
    "tcarr = np.array(tcarr)"
   ]
  },
  {
   "cell_type": "code",
   "execution_count": 11,
   "metadata": {
    "collapsed": false
   },
   "outputs": [
    {
     "data": {
      "text/plain": [
       "<matplotlib.legend.Legend at 0x7fb661b14b38>"
      ]
     },
     "execution_count": 11,
     "metadata": {},
     "output_type": "execute_result"
    },
    {
     "data": {
      "image/png": "[encoded data removed]",
      "text/plain": [
       "<matplotlib.figure.Figure at 0x7fb661bb5160>"
      ]
     },
     "metadata": {},
     "output_type": "display_data"
    }
   ],
   "source": [
    "e_ratio = simarr/genarr\n",
    "e_ratio2 = tcarr/genarr\n",
    "fig, ax = plt.subplots()\n",
    "ax.hist([e_ratio, e_ratio2], bins=15, histtype='step', label = ['sim', 'tc'])\n",
    "ax.set_xlabel(r'$E_{sim}/E_{gen}$')\n",
    "ax.set_ylabel('Entries/bin')\n",
    "ax.legend()"
   ]
  },
  {
   "cell_type": "code",
   "execution_count": 13,
   "metadata": {
    "collapsed": false
   },
   "outputs": [
    {
     "name": "stdout",
     "output_type": "stream",
     "text": [
      "0.0374648\n"
     ]
    }
   ],
   "source": [
    "print(np.std(e_ratio))"
   ]
  },
  {
   "cell_type": "raw",
   "metadata": {
    "collapsed": true
   },
   "source": []
  },
  {
   "cell_type": "code",
   "execution_count": 14,
   "metadata": {
    "collapsed": false
   },
   "outputs": [
    {
     "name": "stdout",
     "output_type": "stream",
     "text": [
      "0.0492490217989\n"
     ]
    }
   ],
   "source": [
    "print(np.std(e_ratio2))"
   ]
  },
  {
   "cell_type": "code",
   "execution_count": null,
   "metadata": {
    "collapsed": true
   },
   "outputs": [],
   "source": []
  }
 ],
 "metadata": {
  "anaconda-cloud": {},
  "kernelspec": {
   "display_name": "Python [conda env:py34root]",
   "language": "python",
   "name": "conda-env-py34root-py"
  },
  "language_info": {
   "codemirror_mode": {
    "name": "ipython",
    "version": 3
   },
   "file_extension": ".py",
   "mimetype": "text/x-python",
   "name": "python",
   "nbconvert_exporter": "python",
   "pygments_lexer": "ipython3",
   "version": "3.4.5"
  }
 },
 "nbformat": 4,
 "nbformat_minor": 2
}
