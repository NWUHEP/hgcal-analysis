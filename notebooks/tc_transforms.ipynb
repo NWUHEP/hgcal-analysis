{
 "cells": [
  {
   "cell_type": "code",
   "execution_count": 1,
   "metadata": {
    "ExecuteTime": {
     "end_time": "2021-05-28T12:32:15.594025Z",
     "start_time": "2021-05-28T12:32:15.580598Z"
    }
   },
   "outputs": [],
   "source": [
    "%load_ext autoreload\n",
    "%autoreload 2"
   ]
  },
  {
   "cell_type": "code",
   "execution_count": 2,
   "metadata": {
    "ExecuteTime": {
     "end_time": "2021-05-28T12:32:16.001946Z",
     "start_time": "2021-05-28T12:32:15.595150Z"
    }
   },
   "outputs": [],
   "source": [
    "%matplotlib inline"
   ]
  },
  {
   "cell_type": "code",
   "execution_count": 3,
   "metadata": {
    "ExecuteTime": {
     "end_time": "2021-05-28T12:32:16.899089Z",
     "start_time": "2021-05-28T12:32:16.004351Z"
    },
    "tags": []
   },
   "outputs": [
    {
     "name": "stdout",
     "output_type": "stream",
     "text": [
      "/home/naodell/work/hgcal/analysis\n"
     ]
    }
   ],
   "source": [
    "%cd /home/naodell/work/hgcal/analysis\n",
    "\n",
    "import os\n",
    "import pickle\n",
    "from glob import glob\n",
    "from itertools import product\n",
    "\n",
    "import pandas as pd\n",
    "import numpy as np\n",
    "import matplotlib\n",
    "from matplotlib import pyplot as plt\n",
    "from matplotlib.patches import RegularPolygon\n",
    "from tqdm.notebook import tqdm\n",
    "\n",
    "import utils.geometry_tools as gt\n",
    "import utils.plot_tools as pt\n",
    "\n",
    "matplotlib.rcParams.update({'font.size': 18, 'figure.facecolor':'white', 'figure.figsize':(8, 8)})"
   ]
  },
  {
   "cell_type": "code",
   "execution_count": 6,
   "metadata": {
    "tags": []
   },
   "outputs": [],
   "source": [
    "# get the data\n",
    "input_file = open('local_data/tc_data/output_0_0.pkl', 'rb')\n",
    "data_dict = pickle.load(input_file)\n",
    "df_tc = data_dict['tc']\n",
    "df_gen = data_dict['gen']"
   ]
  },
  {
   "cell_type": "code",
   "execution_count": null,
   "metadata": {},
   "outputs": [],
   "source": [
    "# Draw some events overlaid in the first wedge\n",
    "cmap = matplotlib.cm.get_cmap('Reds')\n",
    "\n",
    "# get the data and apply some cuts\n",
    "#cuts = 'tc_z > 0 and tc_x < 0. and tc_y < 0. and tc_subdet == 1 and tc_layer == 9'\n",
    "cuts = 'tc_z < 0 and tc_subdet == 1 and tc_layer == 9 and tc_energy > 0.1'\n",
    "df_tc['count'] = 1\n",
    "df_cut = df_tc.query(cuts)\n",
    "events = df_cut.index.get_level_values(0).unique()\n",
    "event_ix = events[11]\n",
    "event_tc = df_cut.loc[event_ix]\n",
    "#event_gen = df_gen.loc[event_ix]\n",
    "\n",
    "group_wafer = event_tc.groupby(['tc_waferu', 'tc_waferv'])\n",
    "wafer_sums = group_wafer.sum()\n",
    "energy_max = wafer_sums['tc_energy'].max()\n",
    "\n",
    "# draw each module \n",
    "u = np.arange(-12, 11)\n",
    "coord = np.array(list(product(u, u)))\n",
    "\n",
    "# Horizontal cartesian coords\n",
    "inner_radius = 0.82*32.8\n",
    "outer_radius = 160\n",
    "angle = np.pi/6\n",
    "hex_radius = 0.95*8*2.54/2\n",
    "d = 2*hex_radius*np.cos(angle)\n",
    "trans_matrix = d*np.array([[1., -np.sin(angle)], [0., np.cos(angle)]])\n",
    "inv_trans_matrix = np.linalg.inv(trans_matrix)\n",
    "xy = np.dot(trans_matrix, coord.T)"
   ]
  },
  {
   "cell_type": "code",
   "execution_count": null,
   "metadata": {},
   "outputs": [],
   "source": [
    "# plots demonstrating rotation of an event\n",
    "fig, axes = plt.subplots(1, 1, figsize=(15, 15))\n",
    "\n",
    "# rotate wafers and trigger cell xy coordinates\n",
    "rho = 1*np.pi/3\n",
    "xy_rotation_matrix = np.array([[np.cos(rho), -np.sin(rho)], [np.sin(rho), np.cos(rho)]]) \n",
    "\n",
    "# rotation for wafer uv coordinates (only for multiples of pi/3)\n",
    "rho = -rho\n",
    "uv_rotation_matrix = np.rint([[np.cos(rho) + np.sin(rho)/np.sqrt(3), -2*np.sin(rho)/np.sqrt(3)],  \n",
    "                               [2*np.sin(rho)/np.sqrt(3)            , np.cos(rho) - np.sin(rho)/np.sqrt(3)]\n",
    "                              ])\n",
    "\n",
    "ax = axes\n",
    "ax.set_aspect('equal')\n",
    "\n",
    "# draw hexegonal grid\n",
    "for x, y, u, v in zip(xy[0], xy[1], coord.T[0], coord.T[1]):\n",
    "    \n",
    "    # filter out wafers\n",
    "    r = np.sqrt(x**2 + y**2)\n",
    "    phi = np.arctan(y/(x + 0.01)) \n",
    "    if (r < inner_radius or r > outer_radius):\n",
    "        continue\n",
    "        \n",
    "    x_rot, y_rot = np.dot(xy_rotation_matrix, np.array([x, y]))\n",
    "    u_rot, v_rot = np.dot(uv_rotation_matrix, np.array([u, v])).astype(int)\n",
    "        \n",
    "    if (u, v) in wafer_sums.index:\n",
    "        color = cmap(wafer_sums.loc[(u, v), 'tc_energy']/energy_max)\n",
    "        alpha = 0.75\n",
    "        \n",
    "        poly = RegularPolygon((x, y), \n",
    "                             numVertices=6, \n",
    "                             radius=hex_radius, \n",
    "                             orientation=np.radians(0), \n",
    "                             facecolor=color, \n",
    "                             alpha=alpha, \n",
    "                             edgecolor='k',\n",
    "                             zorder=1\n",
    "                            )\n",
    "        ax.add_patch(poly)\n",
    "        \n",
    "        poly = RegularPolygon((x_rot, y_rot), \n",
    "                             numVertices=6,\n",
    "                             radius=hex_radius,\n",
    "                             orientation=np.radians(0),\n",
    "                             facecolor=color,\n",
    "                             alpha=alpha,\n",
    "                             edgecolor='k',\n",
    "                             zorder=1\n",
    "                            )\n",
    "        ax.add_patch(poly)\n",
    "        \n",
    "    elif (u_rot, v_rot) not in wafer_sums.index:\n",
    "        color = 'C0'\n",
    "        alpha = 0.1\n",
    "        \n",
    "        poly = RegularPolygon((x, y),\n",
    "                             numVertices=6,\n",
    "                             radius=hex_radius,\n",
    "                             orientation=np.radians(0),\n",
    "                             facecolor=color,\n",
    "                             alpha=alpha,\n",
    "                             edgecolor='k',\n",
    "                             zorder=1\n",
    "                            )\n",
    "        ax.add_patch(poly)\n",
    "    \n",
    "    \n",
    "    # Add text labels\n",
    "    ax.text(x, y+0.2, f'({u}, {v})', ha='center', va='center', size=10)\n",
    "    \n",
    "# draw lines every pi/3 radians\n",
    "for angle in np.arange(0, 360, 30):\n",
    "    rad = (angle/180)*np.pi\n",
    "    ax.plot([0., 200*np.cos(rad)], [0., 200*np.sin(rad)], 'k:', linewidth=1, alpha=0.5)\n",
    "    \n",
    "#ax.add_patch(poly)\n",
    "# overlay trigger cells.  Combine energy deposits from different events using groupby.\n",
    "#wedge_condition = 'tc_waferu >= 2 and tc_waferu >= tc_waferv and tc_waferv >= 0'\n",
    "#tc_sums = event_tc.query(wedge_condition).groupby(['tc_x', 'tc_y']).sum()\n",
    "tc_sums = event_tc.groupby(['tc_x', 'tc_y']).sum()\n",
    "tc_energy = tc_sums['tc_energy'].values\n",
    "tc_x, tc_y = tc_sums.index.get_level_values(0).values, tc_sums.index.get_level_values(1).values\n",
    "marker_size = 30. #/ (1 + np.exp(-tc_energy)/10)\n",
    "scat = ax.scatter(tc_x, tc_y,\n",
    "                  marker=(6, 0, 0), \n",
    "                  s=marker_size, \n",
    "                  c=tc_energy,\n",
    "                  zorder=2,\n",
    "                  norm=matplotlib.colors.LogNorm()\n",
    "                 )\n",
    "\n",
    "# carry out the rotation\n",
    "X = np.array([tc_x, tc_y])\n",
    "X_rotated = np.dot(xy_rotation_matrix, X)\n",
    "\n",
    "marker_size = 30. #/ (1 + np.exp(-tc_energy)/10)\n",
    "scat = ax.scatter(X_rotated[0], X_rotated[1],\n",
    "                  marker=(6, 0, 0), \n",
    "                  s=marker_size, \n",
    "                  c=tc_energy,\n",
    "                  zorder=2,\n",
    "                  norm=matplotlib.colors.LogNorm()\n",
    "                 )\n",
    "ax.set_xlim(-170, 170)\n",
    "ax.set_ylim(-160, 160)\n",
    "ax.set_xlabel('X [cm]')\n",
    "ax.set_ylabel('Y [cm]')\n",
    "\n",
    "#ax.set_ylabel('Y [cm]')\n",
    "#cbar = fig.colorbar(scat, ax=ax, shrink=0.82)\n",
    "#cbar.set_label('trigger cell energy [GeV]')\n",
    "\n",
    "plt.tight_layout()\n",
    "plt.show()"
   ]
  },
  {
   "cell_type": "code",
   "execution_count": null,
   "metadata": {},
   "outputs": [],
   "source": []
  }
 ],
 "metadata": {
  "kernelspec": {
   "display_name": "Python 3",
   "language": "python",
   "name": "python3"
  },
  "language_info": {
   "codemirror_mode": {
    "name": "ipython",
    "version": 3
   },
   "file_extension": ".py",
   "mimetype": "text/x-python",
   "name": "python",
   "nbconvert_exporter": "python",
   "pygments_lexer": "ipython3",
   "version": "3.8.11"
  },
  "toc": {
   "base_numbering": 1,
   "nav_menu": {},
   "number_sections": true,
   "sideBar": true,
   "skip_h1_title": false,
   "title_cell": "Table of Contents",
   "title_sidebar": "Contents",
   "toc_cell": false,
   "toc_position": {},
   "toc_section_display": true,
   "toc_window_display": false
  }
 },
 "nbformat": 4,
 "nbformat_minor": 4
}
